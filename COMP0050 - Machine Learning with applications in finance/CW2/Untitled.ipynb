{
 "cells": [
  {
   "cell_type": "code",
   "execution_count": 26,
   "id": "marked-domain",
   "metadata": {},
   "outputs": [],
   "source": [
    "import pandas as pd\n",
    "import numpy as np\n",
    "import matplotlib.pyplot as plt\n",
    "import matplotlib\n",
    "from my_plot import set_size\n",
    "plt.style.use('default')"
   ]
  },
  {
   "cell_type": "code",
   "execution_count": 27,
   "id": "46ede017-ec21-47ec-ad91-73851023c422",
   "metadata": {},
   "outputs": [
    {
     "name": "stdout",
     "output_type": "stream",
     "text": [
      "save figures? y\n",
      " ### SAVING FIGURES ### \n"
     ]
    }
   ],
   "source": [
    "savefig = input(\"save figures? \")\n",
    "if \"no\" in savefig or \"n\" in savefig:\n",
    "    savefig = False\n",
    "    print(\" ### NOT SAVING FIGURES ### \")\n",
    "else:\n",
    "    savefig = True\n",
    "    print(\" ### SAVING FIGURES ### \")"
   ]
  },
  {
   "cell_type": "code",
   "execution_count": 28,
   "id": "f2f89331-efff-40fc-9709-c56bba1bfc9f",
   "metadata": {},
   "outputs": [],
   "source": [
    "#matplotlib.rcParams.update(matplotlib.rcParamsDefault)\n",
    "matplotlib.rcParams.update({'font.size': 14})\n",
    "matplotlib.rc('text', usetex=True)"
   ]
  },
  {
   "cell_type": "code",
   "execution_count": 29,
   "id": "fe593c06-871b-43e3-982f-351d6e9e10ca",
   "metadata": {},
   "outputs": [],
   "source": [
    "width = 430.00462"
   ]
  },
  {
   "cell_type": "code",
   "execution_count": 30,
   "id": "grateful-chase",
   "metadata": {},
   "outputs": [
    {
     "name": "stderr",
     "output_type": "stream",
     "text": [
      "C:\\Users\\Ubaid\\miniconda3\\envs\\msc\\lib\\site-packages\\IPython\\core\\interactiveshell.py:3165: DtypeWarning: Columns (3,11,15,20,26,27,33,38) have mixed types.Specify dtype option on import or set low_memory=False.\n",
      "  has_raised = await self.run_ast_nodes(code_ast.body, cell_name,\n"
     ]
    }
   ],
   "source": [
    "df = pd.read_csv(\"48_Industry_Portfolios_daily.CSV\")\n",
    "dates = pd.to_datetime(df.iloc[:, 0], format='%Y%m%d', errors='coerce')\n",
    "df.iloc[:, 0] = dates"
   ]
  },
  {
   "cell_type": "code",
   "execution_count": 31,
   "id": "apparent-personality",
   "metadata": {},
   "outputs": [],
   "source": [
    "df=df.rename(columns = {'Unnamed: 0':'Date'})\n",
    "df = df[df['Date'] > '2000-01-01']"
   ]
  },
  {
   "cell_type": "code",
   "execution_count": 32,
   "id": "bacterial-simple",
   "metadata": {},
   "outputs": [],
   "source": [
    "df.replace(' NaN', np.nan, inplace=True)"
   ]
  },
  {
   "cell_type": "code",
   "execution_count": 33,
   "id": "third-milan",
   "metadata": {},
   "outputs": [],
   "source": [
    "df.dropna(inplace=True)\n",
    "df.drop('Date', axis=1, inplace=True)"
   ]
  },
  {
   "cell_type": "code",
   "execution_count": 34,
   "id": "serious-mystery",
   "metadata": {},
   "outputs": [
    {
     "name": "stdout",
     "output_type": "stream",
     "text": [
      "ADF Statistic: -16.224569\n",
      "p-value: 0.000000\n",
      "Critical Values:\n",
      "\t1%: -3.432\n",
      "\t5%: -2.862\n",
      "\t10%: -2.567\n"
     ]
    }
   ],
   "source": [
    "from statsmodels.tsa.stattools import adfuller\n",
    "result = adfuller(df['Agric'])\n",
    "print('ADF Statistic: %f' % result[0])\n",
    "print('p-value: %f' % result[1])\n",
    "print('Critical Values:')\n",
    "for key, value in result[4].items():\n",
    "\tprint('\\t%s: %.3f' % (key, value))"
   ]
  },
  {
   "cell_type": "code",
   "execution_count": 35,
   "id": "alleged-relevance",
   "metadata": {},
   "outputs": [],
   "source": [
    "from sklearn.cluster import KMeans # Our clustering algorithm\n",
    "from sklearn.decomposition import PCA # Needed for dimension reduction\n",
    "from sklearn.preprocessing import StandardScaler"
   ]
  },
  {
   "cell_type": "code",
   "execution_count": 36,
   "id": "authorized-needle",
   "metadata": {},
   "outputs": [],
   "source": [
    "scaler = StandardScaler()\n",
    "df_std = scaler.fit_transform(df)"
   ]
  },
  {
   "cell_type": "code",
   "execution_count": 37,
   "id": "broad-remains",
   "metadata": {},
   "outputs": [],
   "source": [
    "pca = PCA(n_components=48)\n",
    "principalComponents = pca.fit_transform(df_std)"
   ]
  },
  {
   "cell_type": "code",
   "execution_count": 38,
   "id": "plastic-writing",
   "metadata": {},
   "outputs": [
    {
     "data": {
      "image/png": "[encoded data removed]",
      "text/plain": [
       "<Figure size 856.796x529.529 with 1 Axes>"
      ]
     },
     "metadata": {
      "needs_background": "light"
     },
     "output_type": "display_data"
    }
   ],
   "source": [
    "%matplotlib inline\n",
    "fig, ax = plt.subplots(figsize = set_size(width, fraction=2))\n",
    "ax.plot(range(1,49), pca.explained_variance_ratio_.cumsum(), marker='o')\n",
    "plt.xticks(range(1,49), rotation = 90 )\n",
    "plt.title('Explained Variance by Principle Components')\n",
    "plt.xlabel('Number of principle components')\n",
    "plt.ylabel('Cumulative Explained Variance')\n",
    "if savefig: plt.savefig(\"cumvariance.jpg\")\n",
    "plt.show()"
   ]
  },
  {
   "cell_type": "code",
   "execution_count": 39,
   "id": "capital-medicaid",
   "metadata": {},
   "outputs": [
    {
     "data": {
      "text/plain": [
       "(48, 48)"
      ]
     },
     "execution_count": 39,
     "metadata": {},
     "output_type": "execute_result"
    }
   ],
   "source": [
    "pca.components_.shape"
   ]
  },
  {
   "cell_type": "markdown",
   "id": "wired-costume",
   "metadata": {},
   "source": [
    "# PCA with K-means clustering"
   ]
  },
  {
   "cell_type": "code",
   "execution_count": 40,
   "id": "ahead-resistance",
   "metadata": {},
   "outputs": [
    {
     "data": {
      "image/png": "[encoded data removed]",
      "text/plain": [
       "<Figure size 432x288 with 1 Axes>"
      ]
     },
     "metadata": {
      "needs_background": "light"
     },
     "output_type": "display_data"
    }
   ],
   "source": [
    "%matplotlib inline\n",
    "pca = PCA(n_components=48)\n",
    "principalComponents = pca.fit_transform(df_std)\n",
    "coefficients = pd.DataFrame(pca.components_)\n",
    "PCA_components = pd.DataFrame(principalComponents)\n",
    "plt.scatter(coefficients.iloc[0,:], coefficients.iloc[1,:], alpha=.3, color='red')\n",
    "plt.xlabel('PC1')\n",
    "plt.ylabel('PC2')\n",
    "plt.show()"
   ]
  },
  {
   "cell_type": "code",
   "execution_count": 41,
   "id": "experienced-registration",
   "metadata": {},
   "outputs": [
    {
     "data": {
      "image/png": "[encoded data removed]",
      "text/plain": [
       "<Figure size 856.796x529.529 with 1 Axes>"
      ]
     },
     "metadata": {
      "needs_background": "light"
     },
     "output_type": "display_data"
    }
   ],
   "source": [
    "inertias = []\n",
    "\n",
    "# Creating 10 K-Mean models while varying the number of clusters (k)\n",
    "for k in range(1,10):\n",
    "    model = KMeans(n_clusters=k)\n",
    "    \n",
    "    # Fit model to samples\n",
    "    model.fit(coefficients.iloc[:2, :].transpose())\n",
    "    \n",
    "    # Append the inertia to the list of inertias\n",
    "    inertias.append(model.inertia_)\n",
    "\n",
    "fig, ax = plt.subplots(figsize = set_size(width, fraction=2))\n",
    "ax.plot(range(1,10), inertias, '-p', color='blue')\n",
    "plt.xlabel('Number of clusters, k')\n",
    "plt.ylabel('Inertia')\n",
    "plt.title('Elbow Plot')\n",
    "if savefig: plt.savefig(\"elbow.jpg\")\n",
    "plt.show()"
   ]
  },
  {
   "cell_type": "code",
   "execution_count": 54,
   "id": "moral-dimension",
   "metadata": {},
   "outputs": [],
   "source": [
    "%matplotlib inline\n",
    "model = KMeans(n_clusters=3)\n",
    "model.fit(coefficients.iloc[:2,:].transpose())\n",
    "\n",
    "labels = model.predict(coefficients.iloc[:2,:].transpose())\n",
    "centers = model.cluster_centers_"
   ]
  },
  {
   "cell_type": "code",
   "execution_count": 55,
   "id": "activated-printer",
   "metadata": {},
   "outputs": [],
   "source": [
    "plus_x = []\n",
    "plus_y = []\n",
    "x_x = []\n",
    "x_y = []\n",
    "star_x = []\n",
    "star_y = []\n",
    "\n",
    "for i in range(len(coefficients.iloc[0,:])):\n",
    "    if labels[i] == 0:\n",
    "        plus_x.append(coefficients.iloc[0, i])\n",
    "        plus_y.append(coefficients.iloc[1, i])\n",
    "    elif labels[i] == 1:\n",
    "        x_x.append(coefficients.iloc[0, i])\n",
    "        x_y.append(coefficients.iloc[1, i])\n",
    "    else:\n",
    "        star_x.append(coefficients.iloc[0, i])\n",
    "        star_y.append(coefficients.iloc[1, i])\n",
    "        "
   ]
  },
  {
   "cell_type": "code",
   "execution_count": 56,
   "id": "dominican-playing",
   "metadata": {},
   "outputs": [],
   "source": [
    "%matplotlib qt\n",
    "fig, ax = plt.subplots(figsize = set_size(2*width))\n",
    "ax.scatter(plus_x, plus_y, c = 'maroon', marker = 'o', label = '1')\n",
    "ax.scatter(x_x, x_y, c = 'lime', marker = 'o', label = '2')\n",
    "ax.scatter(star_x, star_y, c = 'cyan', marker = 'o', label = '3')\n",
    "\n",
    "# Plotting centers\n",
    "\n",
    "ax.scatter(centers[0][0], centers[0][1], marker='x', c='maroon')\n",
    "ax.scatter(centers[1][0], centers[1][1], marker='x', c='lime')\n",
    "ax.scatter(centers[2][0], centers[2][1], marker='x', c='cyan')\n",
    "\n",
    "for i, txt in enumerate(np.array(df.columns)):\n",
    "    plt.annotate(txt, (coefficients.iloc[0,:][i], coefficients.iloc[1,:][i]))\n",
    "    \n",
    "\n",
    "ax.set_xlabel(\"PC1\")\n",
    "ax.set_ylabel(\"PC2\")\n",
    "ax.set_title(\"K-means Clustering\")\n",
    "plt.legend()\n",
    "plt.show()\n",
    "if savefig: plt.savefig(\"K-means.jpg\")"
   ]
  },
  {
   "cell_type": "code",
   "execution_count": 45,
   "id": "b7c8f060",
   "metadata": {},
   "outputs": [
    {
     "data": {
      "text/plain": [
       "(array([0, 1, 2]), array([ 9, 10, 29], dtype=int64))"
      ]
     },
     "execution_count": 45,
     "metadata": {},
     "output_type": "execute_result"
    }
   ],
   "source": [
    "np.unique(labels, return_counts=True)"
   ]
  },
  {
   "cell_type": "markdown",
   "id": "df5240ca",
   "metadata": {},
   "source": [
    "## Hierarchical Clustering"
   ]
  },
  {
   "cell_type": "code",
   "execution_count": 46,
   "id": "689ec675",
   "metadata": {},
   "outputs": [],
   "source": [
    "from sklearn.cluster import AgglomerativeClustering"
   ]
  },
  {
   "cell_type": "code",
   "execution_count": 47,
   "id": "30fe9ce3",
   "metadata": {},
   "outputs": [
    {
     "data": {
      "text/plain": [
       "array([0, 1, 1, 1, 1, 0, 2, 0, 1, 0, 0, 0, 1, 0, 0, 0, 0, 0, 2, 0, 2, 0,\n",
       "       0, 0, 0, 1, 0, 0, 0, 0, 1, 0, 0, 2, 2, 2, 2, 0, 0, 0, 0, 0, 0, 0,\n",
       "       0, 0, 2, 0], dtype=int64)"
      ]
     },
     "execution_count": 47,
     "metadata": {},
     "output_type": "execute_result"
    }
   ],
   "source": [
    "clustering = AgglomerativeClustering(n_clusters=3).fit(coefficients.iloc[:2,:].transpose())\n",
    "clustering.labels_"
   ]
  },
  {
   "cell_type": "code",
   "execution_count": 48,
   "id": "ec204f78",
   "metadata": {},
   "outputs": [],
   "source": [
    "labels = clustering.labels_\n",
    "plus_x = []\n",
    "plus_y = []\n",
    "x_x = []\n",
    "x_y = []\n",
    "star_x = []\n",
    "star_y = []\n",
    "\n",
    "for i in range(len(coefficients.iloc[0,:])):\n",
    "    if labels[i] == 0:\n",
    "        plus_x.append(coefficients.iloc[0, i])\n",
    "        plus_y.append(coefficients.iloc[1, i])\n",
    "    elif labels[i] == 1:\n",
    "        x_x.append(coefficients.iloc[0, i])\n",
    "        x_y.append(coefficients.iloc[1, i])\n",
    "    else:\n",
    "        star_x.append(coefficients.iloc[0, i])\n",
    "        star_y.append(coefficients.iloc[1, i])\n",
    "        "
   ]
  },
  {
   "cell_type": "code",
   "execution_count": 49,
   "id": "c3b68394",
   "metadata": {},
   "outputs": [],
   "source": [
    "%matplotlib qt\n",
    "fig, ax = plt.subplots(figsize=set_size(2*width))\n",
    "ax.scatter(plus_x, plus_y, c = 'maroon', marker = 'o', label = '1')\n",
    "ax.scatter(x_x, x_y, c = 'lime', marker = 'o', label = '2')\n",
    "ax.scatter(star_x, star_y, c = 'cyan', marker = 'o', label = '3')\n",
    "\n",
    "\n",
    "ax.set_xlabel(\"PC1\")\n",
    "ax.set_ylabel(\"PC2\")\n",
    "ax.set_title(\"Hierarchical Clustering\")\n",
    "\n",
    "\n",
    "\n",
    "for i, txt in enumerate(np.array(df.columns)):\n",
    "    ax.annotate(txt, (coefficients.iloc[0,:][i], coefficients.iloc[1,:][i]))\n",
    "    \n",
    "plt.legend()\n",
    "if savefig: plt.savefig(\"hierarchical.jpg\")\n",
    "plt.show()"
   ]
  },
  {
   "cell_type": "code",
   "execution_count": 50,
   "id": "fa56481d",
   "metadata": {},
   "outputs": [],
   "source": [
    "import numpy as np\n",
    "\n",
    "from matplotlib import pyplot as plt\n",
    "from scipy.cluster.hierarchy import dendrogram\n",
    "from sklearn.datasets import load_iris\n",
    "from sklearn.cluster import AgglomerativeClustering\n",
    "\n",
    "\n",
    "def plot_dendrogram(model, **kwargs):\n",
    "    # Create linkage matrix and then plot the dendrogram\n",
    "\n",
    "    # create the counts of samples under each node\n",
    "    counts = np.zeros(model.children_.shape[0])\n",
    "    n_samples = len(model.labels_)\n",
    "    for i, merge in enumerate(model.children_):\n",
    "        current_count = 0\n",
    "        for child_idx in merge:\n",
    "            if child_idx < n_samples:\n",
    "                current_count += 1  # leaf node\n",
    "            else:\n",
    "                current_count += counts[child_idx - n_samples]\n",
    "        counts[i] = current_count\n",
    "\n",
    "    linkage_matrix = np.column_stack([model.children_, model.distances_,\n",
    "                                      counts]).astype(float)\n",
    "\n",
    "    # Plot the corresponding dendrogram\n",
    "    dendrogram(linkage_matrix, **kwargs)\n",
    "\n",
    "\n",
    "iris = load_iris()\n",
    "X = iris.data\n",
    "\n",
    "# setting distance_threshold=0 ensures we compute the full tree.\n",
    "model = AgglomerativeClustering(distance_threshold=0, n_clusters=None)\n",
    "\n",
    "model = model.fit(df_std)\n",
    "plt.title('Hierarchical Clustering Dendrogram')\n",
    "# plot the top three levels of the dendrogram\n",
    "plot_dendrogram(model, truncate_mode='level', p=3)\n",
    "plt.xlabel(\"Number of points in node (or index of point if no parenthesis).\")\n",
    "plt.show()"
   ]
  },
  {
   "cell_type": "code",
   "execution_count": null,
   "id": "10d430dc-1af1-475b-bd82-b3cea4572dd4",
   "metadata": {},
   "outputs": [],
   "source": []
  }
 ],
 "metadata": {
  "kernelspec": {
   "display_name": "Python 3",
   "language": "python",
   "name": "python3"
  },
  "language_info": {
   "codemirror_mode": {
    "name": "ipython",
    "version": 3
   },
   "file_extension": ".py",
   "mimetype": "text/x-python",
   "name": "python",
   "nbconvert_exporter": "python",
   "pygments_lexer": "ipython3",
   "version": "3.9.2"
  }
 },
 "nbformat": 4,
 "nbformat_minor": 5
}
