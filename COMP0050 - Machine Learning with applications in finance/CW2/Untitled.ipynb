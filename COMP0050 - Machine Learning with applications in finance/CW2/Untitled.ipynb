{
 "cells": [
  {
   "cell_type": "code",
   "execution_count": 57,
   "id": "marked-domain",
   "metadata": {},
   "outputs": [],
   "source": [
    "import pandas as pd\n",
    "import numpy as np\n",
    "import matplotlib.pyplot as plt\n",
    "import matplotlib\n",
    "from my_plot import set_size\n",
    "plt.style.use('default')"
   ]
  },
  {
   "cell_type": "code",
   "execution_count": 77,
   "id": "46ede017-ec21-47ec-ad91-73851023c422",
   "metadata": {},
   "outputs": [
    {
     "name": "stdout",
     "output_type": "stream",
     "text": [
      "save figures? y\n",
      " ### SAVING FIGURES ### \n"
     ]
    }
   ],
   "source": [
    "savefig = input(\"save figures? \")\n",
    "if \"no\" in savefig or \"n\" in savefig:\n",
    "    savefig = False\n",
    "    print(\" ### NOT SAVING FIGURES ### \")\n",
    "else:\n",
    "    savefig = True\n",
    "    print(\" ### SAVING FIGURES ### \")"
   ]
  },
  {
   "cell_type": "code",
   "execution_count": 85,
   "id": "f2f89331-efff-40fc-9709-c56bba1bfc9f",
   "metadata": {},
   "outputs": [],
   "source": [
    "#matplotlib.rcParams.update(matplotlib.rcParamsDefault)\n",
    "matplotlib.rcParams.update({'font.size': 22})\n",
    "matplotlib.rc('text', usetex=False)"
   ]
  },
  {
   "cell_type": "code",
   "execution_count": 92,
   "id": "f9a47d7c",
   "metadata": {},
   "outputs": [],
   "source": [
    "font = {'family' : 'serif',\n",
    "        'weight' : 'normal',\n",
    "        'size'   : 22}\n",
    "\n",
    "matplotlib.rc('font', **font)"
   ]
  },
  {
   "cell_type": "code",
   "execution_count": 60,
   "id": "fe593c06-871b-43e3-982f-351d6e9e10ca",
   "metadata": {},
   "outputs": [],
   "source": [
    "width = 430.00462"
   ]
  },
  {
   "cell_type": "code",
   "execution_count": 64,
   "id": "grateful-chase",
   "metadata": {},
   "outputs": [
    {
     "name": "stdout",
     "output_type": "stream",
     "text": [
      "       Unnamed: 0  Agric  Food  Soda   Beer   Smoke  Toys   Fun    Books  \\\n",
      "0        19260701   0.56  -0.07   NaN  -1.39   0.00  -1.44   0.62  -1.27   \n",
      "1        19260702   0.29   0.06   NaN   0.78   0.70   1.46   0.03   0.00   \n",
      "2        19260706  -0.33   0.18   NaN  -1.74   0.50  -0.96  -0.06   4.27   \n",
      "3        19260707   3.57  -0.15   NaN  -1.73  -0.12  -0.49  -0.06  -4.10   \n",
      "4        19260708   0.30   1.12   NaN  -0.15   0.30  -0.49   0.24   0.00   \n",
      "...           ...    ...    ...   ...    ...    ...    ...    ...    ...   \n",
      "24094    20171025  -0.19  -0.16 -0.62  -0.59  -1.06   0.72  -0.92  -0.34   \n",
      "24095    20171026   0.01  -0.20  0.45   0.26   1.30   0.37   0.17   0.18   \n",
      "24096    20171027   0.09   0.12 -0.32  -0.36  -1.10  -1.20   1.04  -0.54   \n",
      "24097    20171030  -0.35  -1.88 -0.39  -0.44  -1.24   1.38  -0.79  -0.56   \n",
      "24098    20171031   0.00   2.41  0.56   1.26   0.08  -3.98   1.05  -0.22   \n",
      "\n",
      "       Hshld  ...  Boxes Trans  Whlsl  Rtail  Meals Banks  Insur  RlEst  \\\n",
      "0      -0.90  ...  -0.93  0.15   2.77  -0.02   0.27  0.59   0.47   0.81   \n",
      "1      -0.34  ...   1.07  0.06   0.00   0.01  -0.10  1.04  -0.03  -0.61   \n",
      "2      -1.20  ...   0.73 -0.19   0.77  -0.22  -0.67  0.45   0.31  -0.72   \n",
      "3      -0.22  ...   2.22  0.18  -3.21  -0.57  -0.70 -1.09   0.21   0.07   \n",
      "4      -0.01  ...  -0.39  0.46  -1.10  -0.38   0.33  0.99  -0.88  -0.36   \n",
      "...      ...  ...    ...   ...    ...    ...    ...   ...    ...    ...   \n",
      "24094  -0.27  ...  -0.56 -1.73  -0.45   0.00  -0.68 -0.20  -0.02  -1.24   \n",
      "24095   0.40  ...   0.29  0.91  -0.48   0.03   1.08  0.76   0.99   1.06   \n",
      "24096  -0.59  ...  -0.09 -0.26  -1.46   2.79   0.19  0.29   0.32  -0.04   \n",
      "24097  -1.03  ...  -0.85 -1.17  -0.36  -0.45   0.20 -0.58  -0.58  -0.68   \n",
      "24098   0.53  ...   0.95 -0.45   0.97   0.01   0.08 -0.14   0.01   0.91   \n",
      "\n",
      "       Fin    Other  \n",
      "0       0.69  -1.66  \n",
      "1      -0.45   3.09  \n",
      "2       0.04   1.41  \n",
      "3      -0.40   0.62  \n",
      "4      -0.93   0.98  \n",
      "...      ...    ...  \n",
      "24094  -0.81  -0.79  \n",
      "24095   0.70   0.04  \n",
      "24096  -0.12  -0.55  \n",
      "24097  -0.81  -0.58  \n",
      "24098   0.09  -0.50  \n",
      "\n",
      "[24099 rows x 49 columns]\n"
     ]
    }
   ],
   "source": [
    "df = pd.read_csv(\"48_Industry_Portfolios_daily.CSV\")\n",
    "print(df)\n",
    "dates = pd.to_datetime(df.iloc[:, 0], format='%Y%m%d', errors='coerce')\n",
    "df.iloc[:, 0] = dates"
   ]
  },
  {
   "cell_type": "code",
   "execution_count": 71,
   "id": "apparent-personality",
   "metadata": {},
   "outputs": [
    {
     "data": {
      "text/plain": [
       "4487"
      ]
     },
     "execution_count": 71,
     "metadata": {},
     "output_type": "execute_result"
    }
   ],
   "source": [
    "df=df.rename(columns = {'Unnamed: 0':'Date'})\n",
    "df = df[df['Date'] > '2000-01-01']\n",
    "len(df)"
   ]
  },
  {
   "cell_type": "code",
   "execution_count": 72,
   "id": "bacterial-simple",
   "metadata": {},
   "outputs": [
    {
     "data": {
      "text/html": [
       "<div>\n",
       "<style scoped>\n",
       "    .dataframe tbody tr th:only-of-type {\n",
       "        vertical-align: middle;\n",
       "    }\n",
       "\n",
       "    .dataframe tbody tr th {\n",
       "        vertical-align: top;\n",
       "    }\n",
       "\n",
       "    .dataframe thead th {\n",
       "        text-align: right;\n",
       "    }\n",
       "</style>\n",
       "<table border=\"1\" class=\"dataframe\">\n",
       "  <thead>\n",
       "    <tr style=\"text-align: right;\">\n",
       "      <th></th>\n",
       "      <th>Date</th>\n",
       "      <th>Agric</th>\n",
       "      <th>Food</th>\n",
       "      <th>Soda</th>\n",
       "      <th>Beer</th>\n",
       "      <th>Smoke</th>\n",
       "      <th>Toys</th>\n",
       "      <th>Fun</th>\n",
       "      <th>Books</th>\n",
       "      <th>Hshld</th>\n",
       "      <th>...</th>\n",
       "      <th>Boxes</th>\n",
       "      <th>Trans</th>\n",
       "      <th>Whlsl</th>\n",
       "      <th>Rtail</th>\n",
       "      <th>Meals</th>\n",
       "      <th>Banks</th>\n",
       "      <th>Insur</th>\n",
       "      <th>RlEst</th>\n",
       "      <th>Fin</th>\n",
       "      <th>Other</th>\n",
       "    </tr>\n",
       "  </thead>\n",
       "  <tbody>\n",
       "    <tr>\n",
       "      <th>19612</th>\n",
       "      <td>2000-01-03</td>\n",
       "      <td>-3.41</td>\n",
       "      <td>-2.37</td>\n",
       "      <td>-0.52</td>\n",
       "      <td>-1.16</td>\n",
       "      <td>1.67</td>\n",
       "      <td>-0.57</td>\n",
       "      <td>-1.65</td>\n",
       "      <td>-2.55</td>\n",
       "      <td>-2.75</td>\n",
       "      <td>...</td>\n",
       "      <td>-2.16</td>\n",
       "      <td>-0.85</td>\n",
       "      <td>-1.33</td>\n",
       "      <td>-2.57</td>\n",
       "      <td>-2.12</td>\n",
       "      <td>-4.60</td>\n",
       "      <td>-3.07</td>\n",
       "      <td>-2.11</td>\n",
       "      <td>-4.11</td>\n",
       "      <td>-0.72</td>\n",
       "    </tr>\n",
       "    <tr>\n",
       "      <th>19613</th>\n",
       "      <td>2000-01-04</td>\n",
       "      <td>-2.68</td>\n",
       "      <td>-2.27</td>\n",
       "      <td>-2.19</td>\n",
       "      <td>-1.11</td>\n",
       "      <td>0.64</td>\n",
       "      <td>-3.03</td>\n",
       "      <td>0.40</td>\n",
       "      <td>-2.75</td>\n",
       "      <td>-2.10</td>\n",
       "      <td>...</td>\n",
       "      <td>-1.59</td>\n",
       "      <td>-2.57</td>\n",
       "      <td>-2.59</td>\n",
       "      <td>-3.46</td>\n",
       "      <td>-1.82</td>\n",
       "      <td>-3.85</td>\n",
       "      <td>-3.61</td>\n",
       "      <td>-1.58</td>\n",
       "      <td>-4.55</td>\n",
       "      <td>-2.00</td>\n",
       "    </tr>\n",
       "    <tr>\n",
       "      <th>19614</th>\n",
       "      <td>2000-01-05</td>\n",
       "      <td>3.00</td>\n",
       "      <td>-0.03</td>\n",
       "      <td>1.12</td>\n",
       "      <td>1.33</td>\n",
       "      <td>-0.41</td>\n",
       "      <td>-2.17</td>\n",
       "      <td>-0.19</td>\n",
       "      <td>-2.20</td>\n",
       "      <td>-1.42</td>\n",
       "      <td>...</td>\n",
       "      <td>1.18</td>\n",
       "      <td>0.31</td>\n",
       "      <td>2.27</td>\n",
       "      <td>-0.97</td>\n",
       "      <td>1.19</td>\n",
       "      <td>-0.38</td>\n",
       "      <td>0.32</td>\n",
       "      <td>1.07</td>\n",
       "      <td>-2.27</td>\n",
       "      <td>0.06</td>\n",
       "    </tr>\n",
       "    <tr>\n",
       "      <th>19615</th>\n",
       "      <td>2000-01-06</td>\n",
       "      <td>0.24</td>\n",
       "      <td>0.99</td>\n",
       "      <td>3.69</td>\n",
       "      <td>1.29</td>\n",
       "      <td>-1.28</td>\n",
       "      <td>0.03</td>\n",
       "      <td>-1.87</td>\n",
       "      <td>0.27</td>\n",
       "      <td>2.69</td>\n",
       "      <td>...</td>\n",
       "      <td>1.87</td>\n",
       "      <td>3.06</td>\n",
       "      <td>3.72</td>\n",
       "      <td>-0.14</td>\n",
       "      <td>-0.73</td>\n",
       "      <td>4.00</td>\n",
       "      <td>2.38</td>\n",
       "      <td>-0.56</td>\n",
       "      <td>1.92</td>\n",
       "      <td>-0.30</td>\n",
       "    </tr>\n",
       "    <tr>\n",
       "      <th>19616</th>\n",
       "      <td>2000-01-07</td>\n",
       "      <td>2.77</td>\n",
       "      <td>1.18</td>\n",
       "      <td>1.49</td>\n",
       "      <td>5.25</td>\n",
       "      <td>2.75</td>\n",
       "      <td>0.71</td>\n",
       "      <td>0.81</td>\n",
       "      <td>-1.27</td>\n",
       "      <td>5.40</td>\n",
       "      <td>...</td>\n",
       "      <td>-1.05</td>\n",
       "      <td>1.12</td>\n",
       "      <td>2.71</td>\n",
       "      <td>4.79</td>\n",
       "      <td>1.50</td>\n",
       "      <td>1.18</td>\n",
       "      <td>4.27</td>\n",
       "      <td>1.64</td>\n",
       "      <td>1.43</td>\n",
       "      <td>0.59</td>\n",
       "    </tr>\n",
       "    <tr>\n",
       "      <th>...</th>\n",
       "      <td>...</td>\n",
       "      <td>...</td>\n",
       "      <td>...</td>\n",
       "      <td>...</td>\n",
       "      <td>...</td>\n",
       "      <td>...</td>\n",
       "      <td>...</td>\n",
       "      <td>...</td>\n",
       "      <td>...</td>\n",
       "      <td>...</td>\n",
       "      <td>...</td>\n",
       "      <td>...</td>\n",
       "      <td>...</td>\n",
       "      <td>...</td>\n",
       "      <td>...</td>\n",
       "      <td>...</td>\n",
       "      <td>...</td>\n",
       "      <td>...</td>\n",
       "      <td>...</td>\n",
       "      <td>...</td>\n",
       "      <td>...</td>\n",
       "    </tr>\n",
       "    <tr>\n",
       "      <th>24094</th>\n",
       "      <td>2017-10-25</td>\n",
       "      <td>-0.19</td>\n",
       "      <td>-0.16</td>\n",
       "      <td>-0.62</td>\n",
       "      <td>-0.59</td>\n",
       "      <td>-1.06</td>\n",
       "      <td>0.72</td>\n",
       "      <td>-0.92</td>\n",
       "      <td>-0.34</td>\n",
       "      <td>-0.27</td>\n",
       "      <td>...</td>\n",
       "      <td>-0.56</td>\n",
       "      <td>-1.73</td>\n",
       "      <td>-0.45</td>\n",
       "      <td>0.00</td>\n",
       "      <td>-0.68</td>\n",
       "      <td>-0.20</td>\n",
       "      <td>-0.02</td>\n",
       "      <td>-1.24</td>\n",
       "      <td>-0.81</td>\n",
       "      <td>-0.79</td>\n",
       "    </tr>\n",
       "    <tr>\n",
       "      <th>24095</th>\n",
       "      <td>2017-10-26</td>\n",
       "      <td>0.01</td>\n",
       "      <td>-0.20</td>\n",
       "      <td>0.45</td>\n",
       "      <td>0.26</td>\n",
       "      <td>1.30</td>\n",
       "      <td>0.37</td>\n",
       "      <td>0.17</td>\n",
       "      <td>0.18</td>\n",
       "      <td>0.40</td>\n",
       "      <td>...</td>\n",
       "      <td>0.29</td>\n",
       "      <td>0.91</td>\n",
       "      <td>-0.48</td>\n",
       "      <td>0.03</td>\n",
       "      <td>1.08</td>\n",
       "      <td>0.76</td>\n",
       "      <td>0.99</td>\n",
       "      <td>1.06</td>\n",
       "      <td>0.70</td>\n",
       "      <td>0.04</td>\n",
       "    </tr>\n",
       "    <tr>\n",
       "      <th>24096</th>\n",
       "      <td>2017-10-27</td>\n",
       "      <td>0.09</td>\n",
       "      <td>0.12</td>\n",
       "      <td>-0.32</td>\n",
       "      <td>-0.36</td>\n",
       "      <td>-1.10</td>\n",
       "      <td>-1.20</td>\n",
       "      <td>1.04</td>\n",
       "      <td>-0.54</td>\n",
       "      <td>-0.59</td>\n",
       "      <td>...</td>\n",
       "      <td>-0.09</td>\n",
       "      <td>-0.26</td>\n",
       "      <td>-1.46</td>\n",
       "      <td>2.79</td>\n",
       "      <td>0.19</td>\n",
       "      <td>0.29</td>\n",
       "      <td>0.32</td>\n",
       "      <td>-0.04</td>\n",
       "      <td>-0.12</td>\n",
       "      <td>-0.55</td>\n",
       "    </tr>\n",
       "    <tr>\n",
       "      <th>24097</th>\n",
       "      <td>2017-10-30</td>\n",
       "      <td>-0.35</td>\n",
       "      <td>-1.88</td>\n",
       "      <td>-0.39</td>\n",
       "      <td>-0.44</td>\n",
       "      <td>-1.24</td>\n",
       "      <td>1.38</td>\n",
       "      <td>-0.79</td>\n",
       "      <td>-0.56</td>\n",
       "      <td>-1.03</td>\n",
       "      <td>...</td>\n",
       "      <td>-0.85</td>\n",
       "      <td>-1.17</td>\n",
       "      <td>-0.36</td>\n",
       "      <td>-0.45</td>\n",
       "      <td>0.20</td>\n",
       "      <td>-0.58</td>\n",
       "      <td>-0.58</td>\n",
       "      <td>-0.68</td>\n",
       "      <td>-0.81</td>\n",
       "      <td>-0.58</td>\n",
       "    </tr>\n",
       "    <tr>\n",
       "      <th>24098</th>\n",
       "      <td>2017-10-31</td>\n",
       "      <td>0.00</td>\n",
       "      <td>2.41</td>\n",
       "      <td>0.56</td>\n",
       "      <td>1.26</td>\n",
       "      <td>0.08</td>\n",
       "      <td>-3.98</td>\n",
       "      <td>1.05</td>\n",
       "      <td>-0.22</td>\n",
       "      <td>0.53</td>\n",
       "      <td>...</td>\n",
       "      <td>0.95</td>\n",
       "      <td>-0.45</td>\n",
       "      <td>0.97</td>\n",
       "      <td>0.01</td>\n",
       "      <td>0.08</td>\n",
       "      <td>-0.14</td>\n",
       "      <td>0.01</td>\n",
       "      <td>0.91</td>\n",
       "      <td>0.09</td>\n",
       "      <td>-0.50</td>\n",
       "    </tr>\n",
       "  </tbody>\n",
       "</table>\n",
       "<p>4487 rows × 49 columns</p>\n",
       "</div>"
      ],
      "text/plain": [
       "            Date  Agric  Food  Soda   Beer   Smoke  Toys   Fun    Books  \\\n",
       "19612 2000-01-03  -3.41  -2.37 -0.52  -1.16   1.67  -0.57  -1.65  -2.55   \n",
       "19613 2000-01-04  -2.68  -2.27 -2.19  -1.11   0.64  -3.03   0.40  -2.75   \n",
       "19614 2000-01-05   3.00  -0.03  1.12   1.33  -0.41  -2.17  -0.19  -2.20   \n",
       "19615 2000-01-06   0.24   0.99  3.69   1.29  -1.28   0.03  -1.87   0.27   \n",
       "19616 2000-01-07   2.77   1.18  1.49   5.25   2.75   0.71   0.81  -1.27   \n",
       "...          ...    ...    ...   ...    ...    ...    ...    ...    ...   \n",
       "24094 2017-10-25  -0.19  -0.16 -0.62  -0.59  -1.06   0.72  -0.92  -0.34   \n",
       "24095 2017-10-26   0.01  -0.20  0.45   0.26   1.30   0.37   0.17   0.18   \n",
       "24096 2017-10-27   0.09   0.12 -0.32  -0.36  -1.10  -1.20   1.04  -0.54   \n",
       "24097 2017-10-30  -0.35  -1.88 -0.39  -0.44  -1.24   1.38  -0.79  -0.56   \n",
       "24098 2017-10-31   0.00   2.41  0.56   1.26   0.08  -3.98   1.05  -0.22   \n",
       "\n",
       "       Hshld  ...  Boxes Trans  Whlsl  Rtail  Meals Banks  Insur  RlEst  \\\n",
       "19612  -2.75  ...  -2.16 -0.85  -1.33  -2.57  -2.12 -4.60  -3.07  -2.11   \n",
       "19613  -2.10  ...  -1.59 -2.57  -2.59  -3.46  -1.82 -3.85  -3.61  -1.58   \n",
       "19614  -1.42  ...   1.18  0.31   2.27  -0.97   1.19 -0.38   0.32   1.07   \n",
       "19615   2.69  ...   1.87  3.06   3.72  -0.14  -0.73  4.00   2.38  -0.56   \n",
       "19616   5.40  ...  -1.05  1.12   2.71   4.79   1.50  1.18   4.27   1.64   \n",
       "...      ...  ...    ...   ...    ...    ...    ...   ...    ...    ...   \n",
       "24094  -0.27  ...  -0.56 -1.73  -0.45   0.00  -0.68 -0.20  -0.02  -1.24   \n",
       "24095   0.40  ...   0.29  0.91  -0.48   0.03   1.08  0.76   0.99   1.06   \n",
       "24096  -0.59  ...  -0.09 -0.26  -1.46   2.79   0.19  0.29   0.32  -0.04   \n",
       "24097  -1.03  ...  -0.85 -1.17  -0.36  -0.45   0.20 -0.58  -0.58  -0.68   \n",
       "24098   0.53  ...   0.95 -0.45   0.97   0.01   0.08 -0.14   0.01   0.91   \n",
       "\n",
       "       Fin    Other  \n",
       "19612  -4.11  -0.72  \n",
       "19613  -4.55  -2.00  \n",
       "19614  -2.27   0.06  \n",
       "19615   1.92  -0.30  \n",
       "19616   1.43   0.59  \n",
       "...      ...    ...  \n",
       "24094  -0.81  -0.79  \n",
       "24095   0.70   0.04  \n",
       "24096  -0.12  -0.55  \n",
       "24097  -0.81  -0.58  \n",
       "24098   0.09  -0.50  \n",
       "\n",
       "[4487 rows x 49 columns]"
      ]
     },
     "execution_count": 72,
     "metadata": {},
     "output_type": "execute_result"
    }
   ],
   "source": [
    "df.replace(' NaN', np.nan, inplace=True)\n",
    "df"
   ]
  },
  {
   "cell_type": "code",
   "execution_count": 73,
   "id": "third-milan",
   "metadata": {},
   "outputs": [],
   "source": [
    "df.dropna(inplace=True)\n",
    "df.drop('Date', axis=1, inplace=True)"
   ]
  },
  {
   "cell_type": "code",
   "execution_count": 74,
   "id": "serious-mystery",
   "metadata": {},
   "outputs": [
    {
     "name": "stdout",
     "output_type": "stream",
     "text": [
      "ADF Statistic: -16.224569\n",
      "p-value: 0.000000\n",
      "Used Lag:  4467\n",
      "Critical Values:\n",
      "\t1%: -3.432\n",
      "\t5%: -2.862\n",
      "\t10%: -2.567\n"
     ]
    }
   ],
   "source": [
    "from statsmodels.tsa.stattools import adfuller\n",
    "result = adfuller(df['Agric'])\n",
    "print('ADF Statistic: %f' % result[0])\n",
    "print('p-value: %f' % result[1])\n",
    "print('Used Lag: ', result[3])\n",
    "print('Critical Values:')\n",
    "for key, value in result[4].items():\n",
    "\tprint('\\t%s: %.3f' % (key, value))"
   ]
  },
  {
   "cell_type": "code",
   "execution_count": 35,
   "id": "alleged-relevance",
   "metadata": {},
   "outputs": [],
   "source": [
    "from sklearn.cluster import KMeans # Our clustering algorithm\n",
    "from sklearn.decomposition import PCA # Needed for dimension reduction\n",
    "from sklearn.preprocessing import StandardScaler"
   ]
  },
  {
   "cell_type": "code",
   "execution_count": 36,
   "id": "authorized-needle",
   "metadata": {},
   "outputs": [],
   "source": [
    "scaler = StandardScaler()\n",
    "df_std = scaler.fit_transform(df)"
   ]
  },
  {
   "cell_type": "code",
   "execution_count": 37,
   "id": "broad-remains",
   "metadata": {},
   "outputs": [],
   "source": [
    "pca = PCA(n_components=48)\n",
    "principalComponents = pca.fit_transform(df_std)"
   ]
  },
  {
   "cell_type": "code",
   "execution_count": 97,
   "id": "plastic-writing",
   "metadata": {},
   "outputs": [
    {
     "data": {
      "image/png": "[encoded data removed]",
      "text/plain": [
       "<Figure size 856.796x529.529 with 1 Axes>"
      ]
     },
     "metadata": {
      "needs_background": "light"
     },
     "output_type": "display_data"
    }
   ],
   "source": [
    "%matplotlib inline\n",
    "fig, ax = plt.subplots(figsize = set_size(width, fraction=2))\n",
    "ax.plot(range(1,49), pca.explained_variance_ratio_.cumsum(), marker='o')\n",
    "plt.xticks(range(1,49), rotation = 90 )\n",
    "label_font = {\n",
    "    'weight': 'normal',\n",
    "    'size': 15\n",
    "}\n",
    "plt.title('Explained Variance by Principle Components', label_font)\n",
    "plt.xlabel('Number of principle components', label_font)\n",
    "plt.ylabel('Variance', label_font)\n",
    "if savefig: plt.savefig(\"cumvariance.jpg\")\n",
    "plt.show()"
   ]
  },
  {
   "cell_type": "code",
   "execution_count": 39,
   "id": "capital-medicaid",
   "metadata": {},
   "outputs": [
    {
     "data": {
      "text/plain": [
       "(48, 48)"
      ]
     },
     "execution_count": 39,
     "metadata": {},
     "output_type": "execute_result"
    }
   ],
   "source": [
    "pca.components_.shape"
   ]
  },
  {
   "cell_type": "markdown",
   "id": "wired-costume",
   "metadata": {},
   "source": [
    "# PCA with K-means clustering"
   ]
  },
  {
   "cell_type": "code",
   "execution_count": 40,
   "id": "ahead-resistance",
   "metadata": {},
   "outputs": [
    {
     "data": {
      "image/png": "[encoded data removed]",
      "text/plain": [
       "<Figure size 432x288 with 1 Axes>"
      ]
     },
     "metadata": {
      "needs_background": "light"
     },
     "output_type": "display_data"
    }
   ],
   "source": [
    "%matplotlib inline\n",
    "pca = PCA(n_components=48)\n",
    "principalComponents = pca.fit_transform(df_std)\n",
    "coefficients = pd.DataFrame(pca.components_)\n",
    "PCA_components = pd.DataFrame(principalComponents)\n",
    "plt.scatter(coefficients.iloc[0,:], coefficients.iloc[1,:], alpha=.3, color='red')\n",
    "plt.xlabel('PC1')\n",
    "plt.ylabel('PC2')\n",
    "plt.show()"
   ]
  },
  {
   "cell_type": "code",
   "execution_count": 41,
   "id": "experienced-registration",
   "metadata": {},
   "outputs": [
    {
     "data": {
      "image/png": "[encoded data removed]",
      "text/plain": [
       "<Figure size 856.796x529.529 with 1 Axes>"
      ]
     },
     "metadata": {
      "needs_background": "light"
     },
     "output_type": "display_data"
    }
   ],
   "source": [
    "inertias = []\n",
    "\n",
    "# Creating 10 K-Mean models while varying the number of clusters (k)\n",
    "for k in range(1,10):\n",
    "    model = KMeans(n_clusters=k)\n",
    "    \n",
    "    # Fit model to samples\n",
    "    model.fit(coefficients.iloc[:2, :].transpose())\n",
    "    \n",
    "    # Append the inertia to the list of inertias\n",
    "    inertias.append(model.inertia_)\n",
    "\n",
    "fig, ax = plt.subplots(figsize = set_size(width, fraction=2))\n",
    "ax.plot(range(1,10), inertias, '-p', color='blue')\n",
    "plt.xlabel('Number of clusters, k')\n",
    "plt.ylabel('Inertia')\n",
    "plt.title('Elbow Plot')\n",
    "if savefig: plt.savefig(\"elbow.jpg\")\n",
    "plt.show()\n",
    "\n",
    "for k in range(1,10):\n",
    "    model = AgglomerativeClustering(n_clusters=3).fit(coefficients.iloc[:2,:].transpose())\n",
    "    \n",
    "    # Fit model to samples\n",
    "    \n",
    "    # Append the inertia to the list of inertias\n",
    "    inertias.append(model.inertia_)\n",
    "\n",
    "fig, ax = plt.subplots(figsize = set_size(width, fraction=2))\n",
    "ax.plot(range(1,10), inertias, '-p', color='blue')\n",
    "plt.xlabel('Number of clusters, k')\n",
    "plt.ylabel('Inertia')\n",
    "plt.title('Elbow Plot')\n",
    "if savefig: plt.savefig(\"elbow.jpg\")\n",
    "plt.show()"
   ]
  },
  {
   "cell_type": "code",
   "execution_count": 54,
   "id": "moral-dimension",
   "metadata": {},
   "outputs": [],
   "source": [
    "%matplotlib inline\n",
    "model = KMeans(n_clusters=3)\n",
    "model.fit(coefficients.iloc[:2,:].transpose())\n",
    "\n",
    "labels = model.predict(coefficients.iloc[:2,:].transpose())\n",
    "centers = model.cluster_centers_"
   ]
  },
  {
   "cell_type": "code",
   "execution_count": 55,
   "id": "activated-printer",
   "metadata": {},
   "outputs": [],
   "source": [
    "plus_x = []\n",
    "plus_y = []\n",
    "x_x = []\n",
    "x_y = []\n",
    "star_x = []\n",
    "star_y = []\n",
    "\n",
    "for i in range(len(coefficients.iloc[0,:])):\n",
    "    if labels[i] == 0:\n",
    "        plus_x.append(coefficients.iloc[0, i])\n",
    "        plus_y.append(coefficients.iloc[1, i])\n",
    "    elif labels[i] == 1:\n",
    "        x_x.append(coefficients.iloc[0, i])\n",
    "        x_y.append(coefficients.iloc[1, i])\n",
    "    else:\n",
    "        star_x.append(coefficients.iloc[0, i])\n",
    "        star_y.append(coefficients.iloc[1, i])\n",
    "        "
   ]
  },
  {
   "cell_type": "code",
   "execution_count": 56,
   "id": "dominican-playing",
   "metadata": {},
   "outputs": [],
   "source": [
    "%matplotlib qt\n",
    "fig, ax = plt.subplots(figsize = set_size(2*width))\n",
    "ax.scatter(plus_x, plus_y, c = 'maroon', marker = 'o', label = '1')\n",
    "ax.scatter(x_x, x_y, c = 'lime', marker = 'o', label = '2')\n",
    "ax.scatter(star_x, star_y, c = 'cyan', marker = 'o', label = '3')\n",
    "\n",
    "# Plotting centers\n",
    "\n",
    "ax.scatter(centers[0][0], centers[0][1], marker='x', c='maroon')\n",
    "ax.scatter(centers[1][0], centers[1][1], marker='x', c='lime')\n",
    "ax.scatter(centers[2][0], centers[2][1], marker='x', c='cyan')\n",
    "\n",
    "for i, txt in enumerate(np.array(df.columns)):\n",
    "    plt.annotate(txt, (coefficients.iloc[0,:][i], coefficients.iloc[1,:][i]))\n",
    "    \n",
    "\n",
    "ax.set_xlabel(\"PC1\")\n",
    "ax.set_ylabel(\"PC2\")\n",
    "ax.set_title(\"K-means Clustering\")\n",
    "plt.legend()\n",
    "plt.show()\n",
    "if savefig: plt.savefig(\"K-means.jpg\")"
   ]
  },
  {
   "cell_type": "code",
   "execution_count": 45,
   "id": "b7c8f060",
   "metadata": {},
   "outputs": [
    {
     "data": {
      "text/plain": [
       "(array([0, 1, 2]), array([ 9, 10, 29], dtype=int64))"
      ]
     },
     "execution_count": 45,
     "metadata": {},
     "output_type": "execute_result"
    }
   ],
   "source": [
    "np.unique(labels, return_counts=True)"
   ]
  },
  {
   "cell_type": "markdown",
   "id": "df5240ca",
   "metadata": {},
   "source": [
    "## Hierarchical Clustering"
   ]
  },
  {
   "cell_type": "code",
   "execution_count": 46,
   "id": "689ec675",
   "metadata": {},
   "outputs": [],
   "source": [
    "from sklearn.cluster import AgglomerativeClustering"
   ]
  },
  {
   "cell_type": "code",
   "execution_count": 47,
   "id": "30fe9ce3",
   "metadata": {},
   "outputs": [
    {
     "data": {
      "text/plain": [
       "array([0, 1, 1, 1, 1, 0, 2, 0, 1, 0, 0, 0, 1, 0, 0, 0, 0, 0, 2, 0, 2, 0,\n",
       "       0, 0, 0, 1, 0, 0, 0, 0, 1, 0, 0, 2, 2, 2, 2, 0, 0, 0, 0, 0, 0, 0,\n",
       "       0, 0, 2, 0], dtype=int64)"
      ]
     },
     "execution_count": 47,
     "metadata": {},
     "output_type": "execute_result"
    }
   ],
   "source": [
    "clustering = AgglomerativeClustering(n_clusters=3).fit(coefficients.iloc[:2,:].transpose())\n",
    "clustering.labels_"
   ]
  },
  {
   "cell_type": "code",
   "execution_count": 48,
   "id": "ec204f78",
   "metadata": {},
   "outputs": [],
   "source": [
    "labels = clustering.labels_\n",
    "plus_x = []\n",
    "plus_y = []\n",
    "x_x = []\n",
    "x_y = []\n",
    "star_x = []\n",
    "star_y = []\n",
    "\n",
    "for i in range(len(coefficients.iloc[0,:])):\n",
    "    if labels[i] == 0:\n",
    "        plus_x.append(coefficients.iloc[0, i])\n",
    "        plus_y.append(coefficients.iloc[1, i])\n",
    "    elif labels[i] == 1:\n",
    "        x_x.append(coefficients.iloc[0, i])\n",
    "        x_y.append(coefficients.iloc[1, i])\n",
    "    else:\n",
    "        star_x.append(coefficients.iloc[0, i])\n",
    "        star_y.append(coefficients.iloc[1, i])\n",
    "        "
   ]
  },
  {
   "cell_type": "code",
   "execution_count": 49,
   "id": "c3b68394",
   "metadata": {},
   "outputs": [],
   "source": [
    "%matplotlib qt\n",
    "fig, ax = plt.subplots(figsize=set_size(2*width))\n",
    "ax.scatter(plus_x, plus_y, c = 'maroon', marker = 'o', label = '1')\n",
    "ax.scatter(x_x, x_y, c = 'lime', marker = 'o', label = '2')\n",
    "ax.scatter(star_x, star_y, c = 'cyan', marker = 'o', label = '3')\n",
    "\n",
    "\n",
    "ax.set_xlabel(\"PC1\")\n",
    "ax.set_ylabel(\"PC2\")\n",
    "ax.set_title(\"Hierarchical Clustering\")\n",
    "\n",
    "\n",
    "\n",
    "for i, txt in enumerate(np.array(df.columns)):\n",
    "    ax.annotate(txt, (coefficients.iloc[0,:][i], coefficients.iloc[1,:][i]))\n",
    "    \n",
    "plt.legend()\n",
    "if savefig: plt.savefig(\"hierarchical.jpg\")\n",
    "plt.show()"
   ]
  },
  {
   "cell_type": "code",
   "execution_count": 50,
   "id": "fa56481d",
   "metadata": {},
   "outputs": [],
   "source": [
    "import numpy as np\n",
    "\n",
    "from matplotlib import pyplot as plt\n",
    "from scipy.cluster.hierarchy import dendrogram\n",
    "from sklearn.datasets import load_iris\n",
    "from sklearn.cluster import AgglomerativeClustering\n",
    "\n",
    "\n",
    "def plot_dendrogram(model, **kwargs):\n",
    "    # Create linkage matrix and then plot the dendrogram\n",
    "\n",
    "    # create the counts of samples under each node\n",
    "    counts = np.zeros(model.children_.shape[0])\n",
    "    n_samples = len(model.labels_)\n",
    "    for i, merge in enumerate(model.children_):\n",
    "        current_count = 0\n",
    "        for child_idx in merge:\n",
    "            if child_idx < n_samples:\n",
    "                current_count += 1  # leaf node\n",
    "            else:\n",
    "                current_count += counts[child_idx - n_samples]\n",
    "        counts[i] = current_count\n",
    "\n",
    "    linkage_matrix = np.column_stack([model.children_, model.distances_,\n",
    "                                      counts]).astype(float)\n",
    "\n",
    "    # Plot the corresponding dendrogram\n",
    "    dendrogram(linkage_matrix, **kwargs)\n",
    "\n",
    "\n",
    "iris = load_iris()\n",
    "X = iris.data\n",
    "\n",
    "# setting distance_threshold=0 ensures we compute the full tree.\n",
    "model = AgglomerativeClustering(distance_threshold=0, n_clusters=None)\n",
    "\n",
    "model = model.fit(df_std)\n",
    "plt.title('Hierarchical Clustering Dendrogram')\n",
    "# plot the top three levels of the dendrogram\n",
    "plot_dendrogram(model, truncate_mode='level', p=3)\n",
    "plt.xlabel(\"Number of points in node (or index of point if no parenthesis).\")\n",
    "plt.show()"
   ]
  },
  {
   "cell_type": "code",
   "execution_count": null,
   "id": "10d430dc-1af1-475b-bd82-b3cea4572dd4",
   "metadata": {},
   "outputs": [],
   "source": []
  }
 ],
 "metadata": {
  "kernelspec": {
   "display_name": "Python 3",
   "language": "python",
   "name": "python3"
  },
  "language_info": {
   "codemirror_mode": {
    "name": "ipython",
    "version": 3
   },
   "file_extension": ".py",
   "mimetype": "text/x-python",
   "name": "python",
   "nbconvert_exporter": "python",
   "pygments_lexer": "ipython3",
   "version": "3.9.2"
  }
 },
 "nbformat": 4,
 "nbformat_minor": 5
}
