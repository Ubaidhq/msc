{
 "cells": [
  {
   "cell_type": "code",
   "execution_count": 2,
   "id": "stainless-raleigh",
   "metadata": {},
   "outputs": [],
   "source": [
    "import numpy as np\n",
    "import matplotlib.pyplot as plt\n",
    "import pandas as pd\n",
    "plt.style.use('ggplot')"
   ]
  },
  {
   "cell_type": "code",
   "execution_count": 3,
   "id": "trying-privilege",
   "metadata": {},
   "outputs": [],
   "source": [
    "np.random.seed(1600134)"
   ]
  },
  {
   "cell_type": "markdown",
   "id": "destroyed-sperm",
   "metadata": {},
   "source": [
    "# Time Series Generation"
   ]
  },
  {
   "cell_type": "code",
   "execution_count": 4,
   "id": "connected-making",
   "metadata": {},
   "outputs": [],
   "source": [
    "T = 2000\n",
    "y_t = np.zeros(2000)\n",
    "y_t[0] = 100 \n",
    "y_t[1] = 100\n",
    "e_t = np.random.standard_normal(size = T)"
   ]
  },
  {
   "cell_type": "code",
   "execution_count": 5,
   "id": "conditional-courage",
   "metadata": {},
   "outputs": [],
   "source": [
    "%matplotlib inline\n",
    "phi = 0.6\n",
    "d = 0.025\n",
    "theta = -0.4 \n",
    "for i in range(2,2000):\n",
    "    dy_ = y_t[i-1] - y_t[i-2]\n",
    "    dy = 0.6*(dy_ - d) + e_t[i] + theta*e_t[i-1]\n",
    "    y_t[i] = y_t[i-1] + dy"
   ]
  },
  {
   "cell_type": "code",
   "execution_count": 6,
   "id": "hollow-ministry",
   "metadata": {},
   "outputs": [
    {
     "data": {
      "text/plain": [
       "Text(0.5, 1.0, 'Price movement over 2000 days')"
      ]
     },
     "execution_count": 6,
     "metadata": {},
     "output_type": "execute_result"
    }
   ],
   "source": [
    "%matplotlib qt\n",
    "plt.figure(figsize=(12.6,4.6))\n",
    "plt.plot(y_t)\n",
    "plt.xlabel(\"Days\")\n",
    "plt.ylabel(\"Closing Price ($)\")\n",
    "plt.title(\"Price movement over 2000 days\")"
   ]
  },
  {
   "cell_type": "code",
   "execution_count": 7,
   "id": "marine-distributor",
   "metadata": {},
   "outputs": [],
   "source": [
    "X_train, X_test = y_t[:1400], y_t[len(y_t) - 600:]"
   ]
  },
  {
   "cell_type": "markdown",
   "id": "rocky-suicide",
   "metadata": {},
   "source": [
    "# Trading Strategies"
   ]
  },
  {
   "cell_type": "markdown",
   "id": "latin-respect",
   "metadata": {},
   "source": [
    "I am going to look at the following strategies: buy and hold, trend-following and mean-reversion. "
   ]
  },
  {
   "cell_type": "code",
   "execution_count": 8,
   "id": "activated-buffalo",
   "metadata": {},
   "outputs": [],
   "source": [
    "def log_returns(TV):\n",
    "    returns = [0]\n",
    "    for i in range(1,len(TV)):\n",
    "        r = np.log(TV[i]/TV[i-1])\n",
    "        returns.append(r)\n",
    "    return returns"
   ]
  },
  {
   "cell_type": "code",
   "execution_count": 9,
   "id": "mounted-mainstream",
   "metadata": {},
   "outputs": [],
   "source": [
    "def sharpe_ratio(returns):\n",
    "    returns=np.array(returns)\n",
    "    avg_return = returns.mean()\n",
    "    std = returns.std()\n",
    "    return avg_return*np.sqrt(252)/std"
   ]
  },
  {
   "cell_type": "code",
   "execution_count": 10,
   "id": "above-ebony",
   "metadata": {},
   "outputs": [],
   "source": [
    "cash = np.zeros(np.shape(y_t))\n",
    "cash[0] = 10000"
   ]
  },
  {
   "cell_type": "markdown",
   "id": "comic-writing",
   "metadata": {},
   "source": [
    "### Buy and hold\n",
    "\n",
    "I will be using this as a benchmark against our 3 trading strategies."
   ]
  },
  {
   "cell_type": "code",
   "execution_count": 11,
   "id": "engaged-preparation",
   "metadata": {},
   "outputs": [],
   "source": [
    "TV_bh = cash[0]*y_t/y_t[0]"
   ]
  },
  {
   "cell_type": "markdown",
   "id": "engaged-applicant",
   "metadata": {},
   "source": [
    "# Finding the optimal window length\n",
    "\n",
    "Here we are creating functions for our strategies.  "
   ]
  },
  {
   "cell_type": "code",
   "execution_count": 12,
   "id": "sized-international",
   "metadata": {},
   "outputs": [],
   "source": [
    "def mean_rev(window, data):\n",
    "    t = np.linspace(0, len(data), len(data))\n",
    "    time_window = window\n",
    "    cumsum = [0]\n",
    "\n",
    "    ma = np.zeros(np.shape(data))\n",
    "\n",
    "    w = np.zeros(np.shape(data))\n",
    "    cash = np.zeros(np.shape(data))\n",
    "\n",
    "    cash[0] = 10000\n",
    "\n",
    "    for i, x in enumerate(data[:-1], 0):\n",
    "        cumsum.append(cumsum[i] + x)\n",
    "        ma[i] = x\n",
    "        if i>=time_window:\n",
    "            moving_ave = (cumsum[i] - cumsum[i-time_window])/(time_window)\n",
    "            ma[i] = moving_ave\n",
    "\n",
    "        if ma[i] == x:\n",
    "            w[i+1] = w[i]\n",
    "            cash[i+1] = cash[i]\n",
    "\n",
    "        if ma[i] > x: \n",
    "            w[i+1] = cash[i]/x  + w[i]\n",
    "            cash[i+1] = 0\n",
    "\n",
    "        if ma[i] < x:\n",
    "            cash[i+1] = w[i]*x + cash[i]\n",
    "            w[i+1] = 0\n",
    "\n",
    "    ma[i+1] = data[len(data)-1]\n",
    "\n",
    "    mr_strategy = [a*b for a,b in zip(w,data)]+ cash\n",
    "    returns = log_returns(mr_strategy)\n",
    "    sharpe = sharpe_ratio(returns)\n",
    "    return mr_strategy, sharpe\n"
   ]
  },
  {
   "cell_type": "code",
   "execution_count": 13,
   "id": "normal-tribute",
   "metadata": {},
   "outputs": [],
   "source": [
    "def trend_f(window, data):\n",
    "    t = np.linspace(0, len(data), len(data))\n",
    "    time_window = window\n",
    "    cumsum = [0]\n",
    "\n",
    "    ma = np.zeros(np.shape(data))\n",
    "\n",
    "    w = np.zeros(np.shape(data))\n",
    "    cash = np.zeros(np.shape(data))\n",
    "\n",
    "    cash[0] = 10000\n",
    "\n",
    "    for i, x in enumerate(data[:-1], 0):\n",
    "        cumsum.append(cumsum[i] + x)\n",
    "        ma[i] = x\n",
    "        if i>=time_window:\n",
    "            moving_ave = (cumsum[i] - cumsum[i-time_window])/(time_window)\n",
    "            ma[i] = moving_ave\n",
    "\n",
    "        if ma[i] == x:\n",
    "            w[i+1] = w[i]\n",
    "            cash[i+1] = cash[i]\n",
    "\n",
    "        if ma[i] < x: \n",
    "            w[i+1] = cash[i]/x  + w[i]\n",
    "            cash[i+1] = 0\n",
    "\n",
    "        if ma[i] > x:\n",
    "            cash[i+1] = w[i]*x + cash[i]\n",
    "            w[i+1] = 0\n",
    "\n",
    "    ma[i+1] = data[len(data)-1]\n",
    "\n",
    "    tf_strategy = [a*b for a,b in zip(w,data)]+ cash\n",
    "    returns = log_returns(tf_strategy)\n",
    "    sharpe = sharpe_ratio(returns)\n",
    "    return tf_strategy, sharpe\n",
    "    \n",
    "\n"
   ]
  },
  {
   "cell_type": "code",
   "execution_count": 159,
   "id": "engaging-monitor",
   "metadata": {},
   "outputs": [],
   "source": [
    "def dual_cv(long_w, short_w, data):\n",
    "    X_train=data\n",
    "    cumsum = [0]\n",
    "    flag=-1\n",
    "\n",
    "    long_ma = np.zeros(np.shape(X_train))\n",
    "    short_ma = np.zeros(np.shape(X_train)\n",
    "                       )\n",
    "    w = np.zeros(np.shape(X_train))\n",
    "    cash = np.zeros(np.shape(X_train))\n",
    "\n",
    "    cash[0] = 10000\n",
    "\n",
    "    for i, x in enumerate(X_train[:-1], 0):\n",
    "        cumsum.append(cumsum[i] + x)\n",
    "        long_ma[i] = x\n",
    "        short_ma[i] = x\n",
    "        if i>=long_w:\n",
    "            long_moving_ave = (cumsum[i] - cumsum[i-long_w])/(long_w)\n",
    "            short_moving_ave = (cumsum[i] - cumsum[i-short_w])/(short_w)\n",
    "            long_ma[i] = long_moving_ave\n",
    "            short_ma[i] = short_moving_ave\n",
    "\n",
    "        if flag == -1:\n",
    "            if short_ma[i] > long_ma[i]:\n",
    "                flag = 1\n",
    "                w[i+1] = cash[i]/x + w[i]\n",
    "                cash[i+1] = 0\n",
    "            elif short_ma[i] < long_ma[i]:\n",
    "                flag = 0\n",
    "                cash[i+1] = w[i]*x + cash[i]\n",
    "                w[i+1] = 0\n",
    "            else:\n",
    "                w[i+1] = w[i]\n",
    "                cash[i+1] = cash[i]\n",
    "        elif flag == 0:\n",
    "            if short_ma[i] > long_ma[i]:\n",
    "                flag = 1\n",
    "                w[i+1] = cash[i]/x + w[i]\n",
    "                cash[i+1] = 0\n",
    "            else:\n",
    "                w[i+1] = w[i]\n",
    "                cash[i+1] = cash[i]\n",
    "        else:\n",
    "            if short_ma[i] < long_ma[i]:\n",
    "                flag = 0\n",
    "                cash[i+1] = w[i]*x + cash[i]\n",
    "                w[i+1] = 0\n",
    "            else:\n",
    "                w[i+1] = w[i]\n",
    "                cash[i+1] = cash[i]\n",
    "\n",
    "    long_ma[i+1] = X_train[len(X_train)-1]\n",
    "    short_ma[i+1] = X_train[len(X_train)-1]\n",
    "\n",
    "    dma_cv_strategy = [a*b for a,b in zip(w,X_train)]+ cash\n",
    "    returns = log_returns(dma_cv_strategy)\n",
    "    sharpe = sharpe_ratio(returns)\n",
    "    return sharpe"
   ]
  },
  {
   "cell_type": "markdown",
   "id": "digital-labor",
   "metadata": {},
   "source": [
    "### Grid Search\n",
    "\n",
    "We then complete a grid search over various window lenghths for each strategy, and use the annualized sharp ratio for each one to compute the best window size.  "
   ]
  },
  {
   "cell_type": "code",
   "execution_count": null,
   "id": "periodic-interference",
   "metadata": {},
   "outputs": [],
   "source": []
  },
  {
   "cell_type": "code",
   "execution_count": 160,
   "id": "treated-annotation",
   "metadata": {},
   "outputs": [],
   "source": [
    "mr_sharpe = []\n",
    "mr_max = 0\n",
    "mr_optim = 0\n",
    "for i in np.arange(15,100,20):\n",
    "    strat,mr = mean_rev(i, X_train)\n",
    "    mr_sharpe.append(mr)\n",
    "    if mr > mr_max:\n",
    "        mr_max = mr\n",
    "        mr_optim = i\n",
    "        \n",
    "plt.plot(mr_sharpe)\n",
    "plt.show()\n",
    "\n",
    "tf_max = 0\n",
    "tf_optim = 0\n",
    "tf_sharpe = []\n",
    "for i in np.arange(15,100,20):\n",
    "    strat, tf = trend_f(i, X_train)\n",
    "    tf_sharpe.append(tf)\n",
    "    if tf > tf_max:\n",
    "        tf_max = tf\n",
    "        tf_optim = i\n",
    "    \n",
    "plt.plot(tf_sharpe)\n",
    "plt.show()\n",
    "\n",
    "dma_sharpe_max = 0\n",
    "dma_long = 0\n",
    "dma_short = 0\n",
    "for i in np.arange(50,100, 20):\n",
    "    for k in np.arange(5,25,5):\n",
    "        dma = dual_cv(i, k, X_train)\n",
    "        if dma > dma_sharpe_max:\n",
    "            dma_long = i\n",
    "            dma_short = k"
   ]
  },
  {
   "cell_type": "code",
   "execution_count": 161,
   "id": "painted-precipitation",
   "metadata": {},
   "outputs": [
    {
     "name": "stdout",
     "output_type": "stream",
     "text": [
      "90\n",
      "20\n",
      "15\n",
      "95\n"
     ]
    }
   ],
   "source": [
    "print(dma_long)\n",
    "print(dma_short)\n",
    "print(tf_optim)\n",
    "print(mr_optim)"
   ]
  },
  {
   "cell_type": "markdown",
   "id": "brazilian-handle",
   "metadata": {},
   "source": [
    "## Strategy 3 : Dual moving average crossover\n",
    "\n",
    "In this model we look to compare a longer-term moving average to a shorter-term moving average.  When there is a cross over between the moving averages, we either buy or sell.  Specifically, when the shorter term moving average goes above the longer term moving average, we buy.  When the shorter term moving average goes below the longer term moving average, we sell. "
   ]
  },
  {
   "cell_type": "code",
   "execution_count": 162,
   "id": "satisfactory-lesbian",
   "metadata": {},
   "outputs": [],
   "source": [
    "def dual_mcv_sig(long, short, data):\n",
    "    long_w = long\n",
    "    short_w = short\n",
    "    X_test=data\n",
    "    flag = - 1\n",
    "    sigPriceBuy = []\n",
    "    sigPriceSell = []\n",
    "    cumsum = [0]\n",
    "\n",
    "    long_ma = np.zeros(np.shape(X_test))\n",
    "    short_ma = np.zeros(np.shape(X_test))\n",
    "    w = np.zeros(np.shape(X_test))\n",
    "    cash = np.zeros(np.shape(X_test))\n",
    "\n",
    "    cash[0] = 10000\n",
    "\n",
    "    for i, x in enumerate(X_test[:-1], 0):\n",
    "        cumsum.append(cumsum[i] + x)\n",
    "        long_ma[i] = x\n",
    "        short_ma[i] = x\n",
    "        if i>=long_w:\n",
    "            long_moving_ave = (cumsum[i] - cumsum[i-long_w])/(long_w)\n",
    "            short_moving_ave = (cumsum[i] - cumsum[i-short_w])/(short_w)\n",
    "            long_ma[i] = long_moving_ave\n",
    "            short_ma[i] = short_moving_ave\n",
    "\n",
    "        if flag == -1:\n",
    "            if short_ma[i] > long_ma[i]:\n",
    "                flag = 1\n",
    "                w[i+1] = cash[i]/x + w[i]\n",
    "                cash[i+1] = 0\n",
    "                sigPriceSell.append(np.nan)\n",
    "                sigPriceBuy.append(np.nan)\n",
    "            elif short_ma[i] < long_ma[i]:\n",
    "                flag = 0\n",
    "                cash[i+1] = w[i]*x + cash[i]\n",
    "                w[i+1] = 0\n",
    "                sigPriceBuy.append(np.nan)\n",
    "                sigPriceSell.append(np.nan)\n",
    "            else:\n",
    "                w[i+1] = w[i]\n",
    "                cash[i+1] = cash[i]\n",
    "                sigPriceBuy.append(np.nan)\n",
    "                sigPriceSell.append(np.nan)\n",
    "        elif flag == 0:\n",
    "            if short_ma[i] > long_ma[i]:\n",
    "                flag = 1\n",
    "                w[i+1] = cash[i]/x + w[i]\n",
    "                cash[i+1] = 0\n",
    "                sigPriceSell.append(np.nan)\n",
    "                sigPriceBuy.append(x)\n",
    "            else:\n",
    "                sigPriceBuy.append(np.nan)\n",
    "                sigPriceSell.append(np.nan)\n",
    "                w[i+1] = w[i]\n",
    "                cash[i+1] = cash[i]\n",
    "        else:\n",
    "            if short_ma[i] < long_ma[i]:\n",
    "                flag = 0\n",
    "                cash[i+1] = w[i]*x + cash[i]\n",
    "                w[i+1] = 0\n",
    "                sigPriceBuy.append(np.nan)\n",
    "                sigPriceSell.append(x)\n",
    "            else:\n",
    "                w[i+1] = w[i]\n",
    "                cash[i+1] = cash[i]\n",
    "                sigPriceBuy.append(np.nan)\n",
    "                sigPriceSell.append(np.nan)\n",
    "\n",
    "\n",
    "    long_ma[i+1] = X_test[len(X_test)-1]\n",
    "    short_ma[i+1] = X_test[len(X_test)-1]\n",
    "    sigPriceBuy.append(np.nan)\n",
    "    sigPriceSell.append(np.nan)\n",
    "\n",
    "    dma_cv_strategy = [a*b for a,b in zip(w,X_test)]+ cash\n",
    "\n",
    "    return long_ma, short_ma, sigPriceBuy, sigPriceSell, dma_cv_strategy"
   ]
  },
  {
   "cell_type": "markdown",
   "id": "radical-safety",
   "metadata": {},
   "source": [
    "## Returns for train and test\n",
    "\n",
    "### Train"
   ]
  },
  {
   "cell_type": "code",
   "execution_count": 163,
   "id": "answering-somewhere",
   "metadata": {},
   "outputs": [],
   "source": [
    "t = np.linspace(0, len(X_train), len(X_train))\n",
    "mr_train, mr_train_sharpe = mean_rev(mr_optim, X_train)\n",
    "tf_train, tf_train_sharpe = trend_f(tf_optim, X_train)\n",
    "long_ma_train, short_ma_train, sigPriceBuy_train, sigPriceSell_train, dma_train = dual_mcv_sig(dma_long,dma_short,X_train)"
   ]
  },
  {
   "cell_type": "code",
   "execution_count": 164,
   "id": "agreed-progressive",
   "metadata": {},
   "outputs": [],
   "source": [
    "returns_bh_train = log_returns(TV_bh[:1400])\n",
    "returns_tf_train = log_returns(tf_train)\n",
    "returns_mr_train = log_returns(mr_train)\n",
    "returns_dma_train = log_returns(dma_train)"
   ]
  },
  {
   "cell_type": "markdown",
   "id": "strategic-climate",
   "metadata": {},
   "source": [
    "### Test"
   ]
  },
  {
   "cell_type": "code",
   "execution_count": 165,
   "id": "latin-jones",
   "metadata": {},
   "outputs": [],
   "source": [
    "t = np.linspace(0, len(X_test), len(X_test))\n",
    "mr_test, mr_test_sharpe = mean_rev(mr_optim, X_test)\n",
    "tf_test, tf_test_sharpe = trend_f(tf_optim, X_test)\n",
    "long_ma_test, short_ma_test, sigPriceBuy_test, sigPriceSell_test, dma_test = dual_mcv_sig(dma_long,dma_short,X_test)"
   ]
  },
  {
   "cell_type": "code",
   "execution_count": 166,
   "id": "small-reservoir",
   "metadata": {},
   "outputs": [],
   "source": [
    "returns_bh_test = log_returns(TV_bh[1400:])\n",
    "returns_tf_test = log_returns(tf_test)\n",
    "returns_mr_test = log_returns(mr_test)\n",
    "returns_dma_test = log_returns(dma_test)"
   ]
  },
  {
   "cell_type": "markdown",
   "id": "systematic-cathedral",
   "metadata": {},
   "source": [
    "## Some plots"
   ]
  },
  {
   "cell_type": "code",
   "execution_count": 167,
   "id": "ranking-watch",
   "metadata": {},
   "outputs": [
    {
     "data": {
      "text/plain": [
       "[<matplotlib.lines.Line2D at 0x1a31149a670>]"
      ]
     },
     "execution_count": 167,
     "metadata": {},
     "output_type": "execute_result"
    }
   ],
   "source": [
    "\n",
    "fig, axes = plt.subplots(4,2, figsize=(25.2,9.2), constrained_layout=True)\n",
    "plt.rcParams['lines.linewidth'] = 1.5\n",
    "axes[0][0].plot(returns_bh_train)\n",
    "axes[0][0].set_ylabel(\"Buy and Hold\")\n",
    "axes[1][0].set_ylabel(\"Trend Following\")\n",
    "axes[2][0].set_ylabel(\"Mean Reversion\")\n",
    "axes[3][0].set_ylabel(\"Dual moving average\")\n",
    "axes[0][0].title.set_text(\"Training phase\")\n",
    "fig.suptitle(\"Log returns\", fontsize=15)\n",
    "axes[1][0].plot(returns_tf_train)\n",
    "axes[2][0].plot(returns_mr_train)\n",
    "axes[3][0].plot(returns_dma_train)\n",
    "axes[3][0].set_xlabel(\"Days\")\n",
    "axes[3][1].set_xlabel(\"Days\")\n",
    "axes[0][1].title.set_text(\"Testing phase\")\n",
    "axes[0][1].plot(returns_bh_test)\n",
    "axes[1][1].plot(returns_tf_test)\n",
    "axes[2][1].plot(returns_mr_test)\n",
    "axes[3][1].plot(returns_dma_test)"
   ]
  },
  {
   "cell_type": "code",
   "execution_count": 168,
   "id": "suburban-professional",
   "metadata": {},
   "outputs": [],
   "source": [
    "%matplotlib qt\n",
    "# Train\n",
    "plt.figure(figsize=(12.6,4.6))\n",
    "t=np.linspace(0,len(X_train),len(X_train))\n",
    "plt.plot(t, TV_bh[:1400], label=\"Buy and hold\")\n",
    "plt.plot(t, dma_train, label=\"Dual moving average crossover\")\n",
    "plt.plot(t, tf_train, label=\"Trend Following\")\n",
    "plt.plot(t, mr_train, label=\"Mean Reversion\")\n",
    "plt.xlabel(\"Days\")\n",
    "plt.ylabel(\"Total portfolio value ($)\")\n",
    "plt.title(\"Total portolio value movements over 1400 days (training phase)\")\n",
    "plt.legend()\n",
    "plt.show()\n",
    "\n",
    "# Test\n",
    "plt.figure(figsize=(12.6,4.6))\n",
    "t=np.linspace(0,len(X_test),len(X_test))\n",
    "plt.plot(t, TV_bh[1400:], label=\"Buy and hold\")\n",
    "plt.plot(t, dma_test, label=\"Dual moving average crossover\")\n",
    "plt.plot(t, tf_test, label=\"Trend Following\")\n",
    "plt.plot(t, mr_test, label=\"Mean Reversion\")\n",
    "plt.xlabel(\"Days\")\n",
    "plt.ylabel(\"Total portfolio value ($)\")\n",
    "plt.title(\"Total portolio value movements over 600 days (testing phase)\")\n",
    "plt.legend()\n",
    "plt.show()\n"
   ]
  },
  {
   "cell_type": "code",
   "execution_count": 196,
   "id": "nasty-stations",
   "metadata": {},
   "outputs": [],
   "source": [
    "%matplotlib qt\n",
    "plt.figure(figsize=(12.6,4.6))\n",
    "t=np.linspace(0,len(X_train),len(X_train))\n",
    "plt.plot(t, X_train, alpha=0.5, label=\"Price\", linewidth=1)\n",
    "plt.plot(t, long_ma_train, alpha=0.5, label=\"MA_90\", linewidth=1)\n",
    "plt.plot(t, short_ma_train, alpha=0.5, label=\"MA_20\", linewidth=1, color=\"blue\")\n",
    "plt.scatter(t,sigPriceBuy_train, marker = '^', label = 'Buy', color='green')\n",
    "plt.scatter(t, sigPriceSell_train, marker = 'v', label = 'Sell',  color='red')\n",
    "plt.xlabel(\"Days\")\n",
    "plt.ylabel(\"Price ($)\")\n",
    "plt.title(\"Dual moving average buy and sell points (training phase)\")\n",
    "plt.legend()\n",
    "plt.show()"
   ]
  },
  {
   "cell_type": "code",
   "execution_count": 197,
   "id": "reflected-wilderness",
   "metadata": {},
   "outputs": [],
   "source": [
    "%matplotlib qt\n",
    "t=np.linspace(0,len(X_test),len(X_test))\n",
    "plt.figure(figsize=(12.6,4.6))\n",
    "plt.plot(t, X_test, alpha=0.5, label=\"Price\", linewidth=1)\n",
    "plt.plot(t, long_ma_test, alpha=0.5, label=\"MA_90\", linewidth=1)\n",
    "plt.plot(t, short_ma_test, alpha=0.5, label=\"MA_20\", linewidth=1, color=\"blue\")\n",
    "plt.scatter(t,sigPriceBuy_test, marker = '^', label = 'Buy', color='green')\n",
    "plt.scatter(t, sigPriceSell_test, marker = 'v', label = 'Sell',  color='red')\n",
    "plt.xlabel(\"Days\")\n",
    "plt.ylabel(\"Price ($)\")\n",
    "plt.title(\"Dual moving average buy and sell points (testing phase)\")\n",
    "plt.legend()\n",
    "plt.show()"
   ]
  },
  {
   "cell_type": "markdown",
   "id": "taken-brunswick",
   "metadata": {},
   "source": [
    "# Performance Indicators\n",
    "\n",
    "I will compute the Sharpe Ratio, Value at Risk (VaR) and the conditional sharpe ratio for each of our strategies.  "
   ]
  },
  {
   "cell_type": "markdown",
   "id": "strange-affiliation",
   "metadata": {},
   "source": [
    "### Sharpe Ratio"
   ]
  },
  {
   "cell_type": "code",
   "execution_count": 171,
   "id": "exciting-mustang",
   "metadata": {},
   "outputs": [],
   "source": [
    "#Train\n",
    "\n",
    "sharpe_bh_train = sharpe_ratio(returns_bh_train)\n",
    "sharpe_tf_train = sharpe_ratio(returns_tf_train)\n",
    "sharpe_mr_train = sharpe_ratio(returns_mr_train)\n",
    "sharpe_dma_train = sharpe_ratio(returns_dma_train)\n",
    "\n",
    "#Test\n",
    "\n",
    "sharpe_bh_test = sharpe_ratio(returns_bh_test)\n",
    "sharpe_tf_test = sharpe_ratio(returns_tf_test)\n",
    "sharpe_mr_test = sharpe_ratio(returns_mr_test)\n",
    "sharpe_dma_test = sharpe_ratio(returns_dma_test)\n"
   ]
  },
  {
   "cell_type": "code",
   "execution_count": 172,
   "id": "social-sheep",
   "metadata": {},
   "outputs": [],
   "source": [
    "sharpe_train = [sharpe_bh_train, sharpe_tf_train, sharpe_mr_train, sharpe_dma_train]\n",
    "sharpe_test = [sharpe_bh_test, sharpe_tf_test, sharpe_mr_test, sharpe_dma_test]\n",
    "df = pd.DataFrame()\n",
    "df['sharpe_train'] = sharpe_train\n",
    "df['sharpe_test'] = sharpe_test\n",
    "df['strategy'] = [\"buy and hold\", \"trend following\", \"mean reversion\", \"dual moving avg\"]"
   ]
  },
  {
   "cell_type": "markdown",
   "id": "understood-ancient",
   "metadata": {},
   "source": [
    "### VaR"
   ]
  },
  {
   "cell_type": "code",
   "execution_count": 173,
   "id": "entitled-forth",
   "metadata": {},
   "outputs": [],
   "source": [
    "def vaR(data):\n",
    "    df = pd.DataFrame()\n",
    "    df['returns'] = data\n",
    "    df.sort_values('returns',inplace = True, ascending = True)\n",
    "    VaR_95 = df['returns'].quantile(0.05)\n",
    "\n",
    "    #plt.hist(df.returns, bins = 40)\n",
    "    #plt.axvline(x=VaR_95,color='b')\n",
    "\n",
    "    #plt.xlabel('Returns')\n",
    "    #plt.ylabel('Frequency')\n",
    "    #plt.s(how)\n",
    "\n",
    "\n",
    "    return VaR_95"
   ]
  },
  {
   "cell_type": "code",
   "execution_count": 174,
   "id": "appropriate-worst",
   "metadata": {},
   "outputs": [],
   "source": [
    "# Train\n",
    "vaR_bh_train = vaR(returns_bh_train)\n",
    "vaR_mr_train = vaR(returns_mr_train)\n",
    "vaR_tf_train = vaR(returns_tf_train)\n",
    "vaR_dma_train = vaR(returns_dma_train)\n",
    "\n",
    "# Test \n",
    "vaR_bh_test = vaR(returns_bh_test)\n",
    "vaR_mr_test = vaR(returns_mr_test)\n",
    "vaR_tf_test = vaR(returns_tf_test)\n",
    "vaR_dma_test = vaR(returns_dma_test)\n",
    "\n",
    "vaR_train = [vaR_bh_train, vaR_tf_train, vaR_mr_train, vaR_dma_train]\n",
    "vaR_test = [vaR_bh_test, vaR_tf_test, vaR_mr_test, vaR_dma_test]\n",
    "df['vaR_train'] = vaR_train\n",
    "df['vaR_test'] = vaR_test"
   ]
  },
  {
   "cell_type": "markdown",
   "id": "subsequent-porcelain",
   "metadata": {},
   "source": [
    "### Excess Shortfall"
   ]
  },
  {
   "cell_type": "code",
   "execution_count": 175,
   "id": "changed-essay",
   "metadata": {},
   "outputs": [],
   "source": [
    "def csr(data):\n",
    "    data = np.array(data)\n",
    "    avg_returns = data.mean()\n",
    "    df = pd.DataFrame()\n",
    "    df['returns'] = data\n",
    "    df.sort_values('returns',inplace = True, ascending = True)\n",
    "    VaR_95 = df['returns'].quantile(0.05)\n",
    "    excess = df[df['returns'] <= VaR_95]\n",
    "    excess_shortfall = excess.mean()\n",
    "    conditional_sharp = avg_returns*np.sqrt(252)/excess_shortfall\n",
    "    return conditional_sharp[0]"
   ]
  },
  {
   "cell_type": "code",
   "execution_count": 195,
   "id": "cheap-board",
   "metadata": {},
   "outputs": [
    {
     "data": {
      "text/html": [
       "<div>\n",
       "<style scoped>\n",
       "    .dataframe tbody tr th:only-of-type {\n",
       "        vertical-align: middle;\n",
       "    }\n",
       "\n",
       "    .dataframe tbody tr th {\n",
       "        vertical-align: top;\n",
       "    }\n",
       "\n",
       "    .dataframe thead th {\n",
       "        text-align: right;\n",
       "    }\n",
       "</style>\n",
       "<table border=\"1\" class=\"dataframe\">\n",
       "  <thead>\n",
       "    <tr style=\"text-align: right;\">\n",
       "      <th></th>\n",
       "      <th>sharpe_train</th>\n",
       "      <th>sharpe_test</th>\n",
       "      <th>vaR_train</th>\n",
       "      <th>vaR_test</th>\n",
       "      <th>csr_train</th>\n",
       "      <th>csr_test</th>\n",
       "      <th>p_train</th>\n",
       "      <th>p_test</th>\n",
       "    </tr>\n",
       "    <tr>\n",
       "      <th>strategy</th>\n",
       "      <th></th>\n",
       "      <th></th>\n",
       "      <th></th>\n",
       "      <th></th>\n",
       "      <th></th>\n",
       "      <th></th>\n",
       "      <th></th>\n",
       "      <th></th>\n",
       "    </tr>\n",
       "  </thead>\n",
       "  <tbody>\n",
       "    <tr>\n",
       "      <th>buy and hold</th>\n",
       "      <td>0.776</td>\n",
       "      <td>-2.392</td>\n",
       "      <td>-0.012</td>\n",
       "      <td>-0.016</td>\n",
       "      <td>-0.384</td>\n",
       "      <td>1.006</td>\n",
       "      <td>0.219</td>\n",
       "      <td>0.991</td>\n",
       "    </tr>\n",
       "    <tr>\n",
       "      <th>trend following</th>\n",
       "      <td>1.519</td>\n",
       "      <td>-0.585</td>\n",
       "      <td>-0.009</td>\n",
       "      <td>-0.010</td>\n",
       "      <td>-0.656</td>\n",
       "      <td>0.206</td>\n",
       "      <td>0.065</td>\n",
       "      <td>0.720</td>\n",
       "    </tr>\n",
       "    <tr>\n",
       "      <th>mean reversion</th>\n",
       "      <td>0.416</td>\n",
       "      <td>-1.778</td>\n",
       "      <td>-0.008</td>\n",
       "      <td>-0.015</td>\n",
       "      <td>-0.163</td>\n",
       "      <td>0.682</td>\n",
       "      <td>0.339</td>\n",
       "      <td>0.962</td>\n",
       "    </tr>\n",
       "    <tr>\n",
       "      <th>dual moving avg</th>\n",
       "      <td>0.287</td>\n",
       "      <td>-0.490</td>\n",
       "      <td>-0.010</td>\n",
       "      <td>-0.006</td>\n",
       "      <td>-0.120</td>\n",
       "      <td>0.163</td>\n",
       "      <td>0.387</td>\n",
       "      <td>0.688</td>\n",
       "    </tr>\n",
       "  </tbody>\n",
       "</table>\n",
       "</div>"
      ],
      "text/plain": [
       "                 sharpe_train  sharpe_test  vaR_train  vaR_test  csr_train  \\\n",
       "strategy                                                                     \n",
       "buy and hold            0.776       -2.392     -0.012    -0.016     -0.384   \n",
       "trend following         1.519       -0.585     -0.009    -0.010     -0.656   \n",
       "mean reversion          0.416       -1.778     -0.008    -0.015     -0.163   \n",
       "dual moving avg         0.287       -0.490     -0.010    -0.006     -0.120   \n",
       "\n",
       "                 csr_test  p_train  p_test  \n",
       "strategy                                    \n",
       "buy and hold        1.006    0.219   0.991  \n",
       "trend following     0.206    0.065   0.720  \n",
       "mean reversion      0.682    0.339   0.962  \n",
       "dual moving avg     0.163    0.387   0.688  "
      ]
     },
     "execution_count": 195,
     "metadata": {},
     "output_type": "execute_result"
    }
   ],
   "source": [
    "# Train\n",
    "\n",
    "csr_bh_train = csr(returns_bh_train)\n",
    "csr_tf_train = csr(returns_tf_train)\n",
    "csr_mr_train = csr(returns_mr_train)\n",
    "csr_dma_train = csr(returns_dma_train)\n",
    "\n",
    "# Test\n",
    "\n",
    "csr_bh_test = csr(returns_bh_test)\n",
    "csr_tf_test = csr(returns_tf_test)\n",
    "csr_mr_test = csr(returns_mr_test)\n",
    "csr_dma_test = csr(returns_dma_test)\n",
    "\n",
    "csr_train = [csr_bh_train, csr_tf_train, csr_mr_train, csr_dma_train]\n",
    "csr_test = [csr_bh_test, csr_tf_test, csr_mr_test, csr_dma_test]\n",
    "df['csr_train'] = csr_train\n",
    "df['csr_test'] = csr_test\n",
    "df['p_train'] = p_values_train\n",
    "df['p_test'] = p_values_test\n",
    "#df.set_index('strategy', inplace=True)\n",
    "df.round(3)"
   ]
  },
  {
   "cell_type": "markdown",
   "id": "eight-acrylic",
   "metadata": {},
   "source": [
    "# Statistical Tests"
   ]
  },
  {
   "cell_type": "code",
   "execution_count": 177,
   "id": "architectural-civilization",
   "metadata": {},
   "outputs": [],
   "source": [
    "from scipy.stats import t\n",
    "degrees_f = 251\n",
    "p_values_train = []\n",
    "p_values_test = []\n",
    "for sh in sharpe_train:\n",
    "    p = 1-t.cdf(sh,degrees_f)\n",
    "    p_values_train.append(p)\n",
    "\n",
    "for sh in sharpe_test:\n",
    "    p = 1-t.cdf(sh,degrees_f)\n",
    "    p_values_test.append(p)"
   ]
  },
  {
   "cell_type": "code",
   "execution_count": 178,
   "id": "average-administration",
   "metadata": {},
   "outputs": [
    {
     "name": "stdout",
     "output_type": "stream",
     "text": [
      "[0.21917363078525898, 0.06499017992243872, 0.3388644944337851, 0.387062808106277]\n",
      "[0.9912436382441551, 0.7204035198171459, 0.961676781837709, 0.6877605111177137]\n"
     ]
    }
   ],
   "source": [
    "print(p_values_train)\n",
    "print(p_values_test)"
   ]
  },
  {
   "cell_type": "code",
   "execution_count": 191,
   "id": "established-strategy",
   "metadata": {},
   "outputs": [
    {
     "data": {
      "text/html": [
       "<div>\n",
       "<style scoped>\n",
       "    .dataframe tbody tr th:only-of-type {\n",
       "        vertical-align: middle;\n",
       "    }\n",
       "\n",
       "    .dataframe tbody tr th {\n",
       "        vertical-align: top;\n",
       "    }\n",
       "\n",
       "    .dataframe thead th {\n",
       "        text-align: right;\n",
       "    }\n",
       "</style>\n",
       "<table border=\"1\" class=\"dataframe\">\n",
       "  <thead>\n",
       "    <tr style=\"text-align: right;\">\n",
       "      <th></th>\n",
       "      <th>p_train</th>\n",
       "      <th>p_test</th>\n",
       "    </tr>\n",
       "    <tr>\n",
       "      <th>strategy</th>\n",
       "      <th></th>\n",
       "      <th></th>\n",
       "    </tr>\n",
       "  </thead>\n",
       "  <tbody>\n",
       "    <tr>\n",
       "      <th>buy and hold</th>\n",
       "      <td>0.219</td>\n",
       "      <td>0.991</td>\n",
       "    </tr>\n",
       "    <tr>\n",
       "      <th>trend following</th>\n",
       "      <td>0.065</td>\n",
       "      <td>0.720</td>\n",
       "    </tr>\n",
       "    <tr>\n",
       "      <th>mean reversion</th>\n",
       "      <td>0.339</td>\n",
       "      <td>0.962</td>\n",
       "    </tr>\n",
       "    <tr>\n",
       "      <th>dual moving avg</th>\n",
       "      <td>0.387</td>\n",
       "      <td>0.688</td>\n",
       "    </tr>\n",
       "  </tbody>\n",
       "</table>\n",
       "</div>"
      ],
      "text/plain": [
       "                 p_train  p_test\n",
       "strategy                        \n",
       "buy and hold       0.219   0.991\n",
       "trend following    0.065   0.720\n",
       "mean reversion     0.339   0.962\n",
       "dual moving avg    0.387   0.688"
      ]
     },
     "execution_count": 191,
     "metadata": {},
     "output_type": "execute_result"
    }
   ],
   "source": [
    "df_p = pd.DataFrame()\n",
    "#df_p['sharpe_train'] = sharpe_train\n",
    "#df_p['sharpe_test'] = sharpe_test\n",
    "df_p['strategy'] = [\"buy and hold\", \"trend following\", \"mean reversion\", \"dual moving avg\"]\n",
    "df_p.set_index('strategy', inplace=True)\n",
    "df_p['p_train'] = p_values_train\n",
    "df_p['p_test'] = p_values_test\n",
    "df_p.round(3)"
   ]
  },
  {
   "cell_type": "markdown",
   "id": "severe-malawi",
   "metadata": {},
   "source": [
    "### Family wise error rate"
   ]
  },
  {
   "cell_type": "code",
   "execution_count": 180,
   "id": "norman-gentleman",
   "metadata": {},
   "outputs": [],
   "source": [
    "fw_p_train = [(1-(1-p)**3) for p in p_values_train]\n",
    "fw_p_test = [(1-(1-p)**3) for p in p_values_test]"
   ]
  },
  {
   "cell_type": "code",
   "execution_count": 181,
   "id": "fleet-copper",
   "metadata": {},
   "outputs": [
    {
     "data": {
      "text/html": [
       "<div>\n",
       "<style scoped>\n",
       "    .dataframe tbody tr th:only-of-type {\n",
       "        vertical-align: middle;\n",
       "    }\n",
       "\n",
       "    .dataframe tbody tr th {\n",
       "        vertical-align: top;\n",
       "    }\n",
       "\n",
       "    .dataframe thead th {\n",
       "        text-align: right;\n",
       "    }\n",
       "</style>\n",
       "<table border=\"1\" class=\"dataframe\">\n",
       "  <thead>\n",
       "    <tr style=\"text-align: right;\">\n",
       "      <th></th>\n",
       "      <th>fwer_train</th>\n",
       "      <th>fwer test</th>\n",
       "    </tr>\n",
       "  </thead>\n",
       "  <tbody>\n",
       "    <tr>\n",
       "      <th>0</th>\n",
       "      <td>0.523938</td>\n",
       "      <td>0.999999</td>\n",
       "    </tr>\n",
       "    <tr>\n",
       "      <th>1</th>\n",
       "      <td>0.182574</td>\n",
       "      <td>0.978143</td>\n",
       "    </tr>\n",
       "    <tr>\n",
       "      <th>2</th>\n",
       "      <td>0.711018</td>\n",
       "      <td>0.999944</td>\n",
       "    </tr>\n",
       "    <tr>\n",
       "      <th>3</th>\n",
       "      <td>0.769724</td>\n",
       "      <td>0.969559</td>\n",
       "    </tr>\n",
       "  </tbody>\n",
       "</table>\n",
       "</div>"
      ],
      "text/plain": [
       "   fwer_train  fwer test\n",
       "0    0.523938   0.999999\n",
       "1    0.182574   0.978143\n",
       "2    0.711018   0.999944\n",
       "3    0.769724   0.969559"
      ]
     },
     "execution_count": 181,
     "metadata": {},
     "output_type": "execute_result"
    }
   ],
   "source": [
    "df_w = pd.DataFrame()\n",
    "df_w['fwer_train'] = fw_p_train\n",
    "df_w['fwer test'] = fw_p_test\n",
    "df_w"
   ]
  },
  {
   "cell_type": "markdown",
   "id": "leading-crystal",
   "metadata": {},
   "source": [
    "To control for the family wise error rate, we use both the Bonferonni and Holm methods.  Give a brief explanation of this in the report"
   ]
  },
  {
   "cell_type": "code",
   "execution_count": 182,
   "id": "adapted-department",
   "metadata": {},
   "outputs": [],
   "source": [
    "bonferonni_train = multipletests(p_values_train[1:], alpha=0.05, method='bonferroni', is_sorted=False, returnsorted=False)\n",
    "bonferonni_test = multipletests(p_values_test[1:], alpha=0.05, method='bonferroni', is_sorted=False, returnsorted=False)"
   ]
  },
  {
   "cell_type": "code",
   "execution_count": 183,
   "id": "complicated-fabric",
   "metadata": {},
   "outputs": [],
   "source": [
    "from statsmodels.stats.multitest import multipletests\n",
    "holm_train = multipletests(p_values_train[1:], alpha=0.05, method='holm', is_sorted=False, returnsorted=False)\n",
    "holm_test = multipletests(p_values_test[1:], alpha=0.05, method='holm', is_sorted=False, returnsorted=False)"
   ]
  },
  {
   "cell_type": "code",
   "execution_count": 194,
   "id": "confirmed-prairie",
   "metadata": {},
   "outputs": [
    {
     "data": {
      "text/html": [
       "<div>\n",
       "<style scoped>\n",
       "    .dataframe tbody tr th:only-of-type {\n",
       "        vertical-align: middle;\n",
       "    }\n",
       "\n",
       "    .dataframe tbody tr th {\n",
       "        vertical-align: top;\n",
       "    }\n",
       "\n",
       "    .dataframe thead th {\n",
       "        text-align: right;\n",
       "    }\n",
       "</style>\n",
       "<table border=\"1\" class=\"dataframe\">\n",
       "  <thead>\n",
       "    <tr style=\"text-align: right;\">\n",
       "      <th></th>\n",
       "      <th>holm_train</th>\n",
       "      <th>holm_test</th>\n",
       "      <th>bonferonni_train</th>\n",
       "      <th>bonferonni_test</th>\n",
       "    </tr>\n",
       "    <tr>\n",
       "      <th>strategy</th>\n",
       "      <th></th>\n",
       "      <th></th>\n",
       "      <th></th>\n",
       "      <th></th>\n",
       "    </tr>\n",
       "  </thead>\n",
       "  <tbody>\n",
       "    <tr>\n",
       "      <th>trend following</th>\n",
       "      <td>0.19</td>\n",
       "      <td>1.0</td>\n",
       "      <td>0.19</td>\n",
       "      <td>1.0</td>\n",
       "    </tr>\n",
       "    <tr>\n",
       "      <th>mean reversion</th>\n",
       "      <td>0.68</td>\n",
       "      <td>1.0</td>\n",
       "      <td>1.00</td>\n",
       "      <td>1.0</td>\n",
       "    </tr>\n",
       "    <tr>\n",
       "      <th>dual moving avg</th>\n",
       "      <td>0.68</td>\n",
       "      <td>1.0</td>\n",
       "      <td>1.00</td>\n",
       "      <td>1.0</td>\n",
       "    </tr>\n",
       "  </tbody>\n",
       "</table>\n",
       "</div>"
      ],
      "text/plain": [
       "                 holm_train  holm_test  bonferonni_train  bonferonni_test\n",
       "strategy                                                                 \n",
       "trend following        0.19        1.0              0.19              1.0\n",
       "mean reversion         0.68        1.0              1.00              1.0\n",
       "dual moving avg        0.68        1.0              1.00              1.0"
      ]
     },
     "execution_count": 194,
     "metadata": {},
     "output_type": "execute_result"
    }
   ],
   "source": [
    "adjusted_p = pd.DataFrame()\n",
    "adjusted_p['holm_train'] = holm_train[1]\n",
    "adjusted_p['holm_test'] = holm_test[1]\n",
    "adjusted_p['bonferonni_train'] = bonferonni_train[1]\n",
    "adjusted_p['bonferonni_test'] = bonferonni_test[1]\n",
    "adjusted_p['strategy'] = [\"trend following\", \"mean reversion\", \"dual moving avg\"]\n",
    "adjusted_p.set_index('strategy', inplace=True)\n",
    "\n",
    "adjusted_p.round(2)"
   ]
  },
  {
   "cell_type": "code",
   "execution_count": null,
   "id": "narrative-sheffield",
   "metadata": {},
   "outputs": [],
   "source": []
  }
 ],
 "metadata": {
  "kernelspec": {
   "display_name": "Python 3",
   "language": "python",
   "name": "python3"
  },
  "language_info": {
   "codemirror_mode": {
    "name": "ipython",
    "version": 3
   },
   "file_extension": ".py",
   "mimetype": "text/x-python",
   "name": "python",
   "nbconvert_exporter": "python",
   "pygments_lexer": "ipython3",
   "version": "3.9.2"
  }
 },
 "nbformat": 4,
 "nbformat_minor": 5
}
