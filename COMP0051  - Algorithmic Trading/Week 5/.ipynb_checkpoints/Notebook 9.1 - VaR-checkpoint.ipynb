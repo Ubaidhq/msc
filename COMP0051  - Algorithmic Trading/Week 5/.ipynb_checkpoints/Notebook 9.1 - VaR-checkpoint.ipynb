{
 "cells": [
  {
   "cell_type": "code",
   "execution_count": 17,
   "metadata": {},
   "outputs": [
    {
     "name": "stdout",
     "output_type": "stream",
     "text": [
      "[*********************100%***********************]  1 of 1 completed\n"
     ]
    },
    {
     "name": "stderr",
     "output_type": "stream",
     "text": [
      "/anaconda3/lib/python3.6/site-packages/ipykernel_launcher.py:13: SettingWithCopyWarning: \n",
      "A value is trying to be set on a copy of a slice from a DataFrame\n",
      "\n",
      "See the caveats in the documentation: http://pandas.pydata.org/pandas-docs/stable/indexing.html#indexing-view-versus-copy\n",
      "  del sys.path[0]\n"
     ]
    },
    {
     "data": {
      "image/png": "[encoded data removed]",
      "text/plain": [
       "<Figure size 432x288 with 1 Axes>"
      ]
     },
     "metadata": {
      "needs_background": "light"
     },
     "output_type": "display_data"
    },
    {
     "name": "stdout",
     "output_type": "stream",
     "text": [
      "-0.03699179374484024\n"
     ]
    }
   ],
   "source": [
    "import numpy as np\n",
    "import pandas as pd\n",
    "import matplotlib as plt\n",
    "\n",
    "import fix_yahoo_finance as yf\n",
    "\n",
    "df = yf.download('AMZN', '2020-01-01','2021-01-01')\n",
    "\n",
    "df['returns']= df.Close.pct_change()\n",
    "\n",
    "df = df.dropna()\n",
    "\n",
    "df.sort_values('returns',inplace = True, ascending = True)\n",
    "VaR_95 = df['returns'].quantile(0.05)\n",
    "\n",
    "plt.pyplot.hist(df.returns, bins = 40)\n",
    "plt.pyplot.axvline(x=VaR_95,color='r')\n",
    "\n",
    "plt.pyplot.xlabel('Returns')\n",
    "plt.pyplot.ylabel('Frequency')\n",
    "plt.pyplot.grid(True)\n",
    "plt.pyplot.show()\n",
    "\n",
    "\n",
    "print(VaR_95)\n"
   ]
  },
  {
   "cell_type": "code",
   "execution_count": null,
   "metadata": {},
   "outputs": [],
   "source": []
  }
 ],
 "metadata": {
  "kernelspec": {
   "display_name": "Python 3",
   "language": "python",
   "name": "python3"
  },
  "language_info": {
   "codemirror_mode": {
    "name": "ipython",
    "version": 3
   },
   "file_extension": ".py",
   "mimetype": "text/x-python",
   "name": "python",
   "nbconvert_exporter": "python",
   "pygments_lexer": "ipython3",
   "version": "3.8.8"
  }
 },
 "nbformat": 4,
 "nbformat_minor": 2
}
