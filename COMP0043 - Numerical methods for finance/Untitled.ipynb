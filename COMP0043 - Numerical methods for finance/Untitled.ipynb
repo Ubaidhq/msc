{
 "cells": [
  {
   "cell_type": "code",
   "execution_count": 14,
   "id": "930907b6",
   "metadata": {},
   "outputs": [],
   "source": [
    "from fbm import FBM\n",
    "import matplotlib.pyplot as plt\n",
    "import matplotlib\n",
    "from my_plot import set_size"
   ]
  },
  {
   "cell_type": "code",
   "execution_count": 33,
   "id": "cc2b3e79",
   "metadata": {},
   "outputs": [
    {
     "name": "stdout",
     "output_type": "stream",
     "text": [
      "save figures? y\n",
      " ### SAVING FIGURES ### \n"
     ]
    }
   ],
   "source": [
    "savefig = input(\"save figures? \")\n",
    "if \"no\" in savefig or \"n\" in savefig:\n",
    "    savefig = False\n",
    "    print(\" ### NOT SAVING FIGURES ### \")\n",
    "else:\n",
    "    savefig = True\n",
    "    print(\" ### SAVING FIGURES ### \")"
   ]
  },
  {
   "cell_type": "code",
   "execution_count": 42,
   "id": "0e2ae2f3",
   "metadata": {},
   "outputs": [],
   "source": [
    "matplotlib.rcParams.update({'font.size': 22})\n",
    "matplotlib.rc('text', usetex=False)\n",
    "font = {'family' : 'serif',\n",
    "        'weight' : 'normal',\n",
    "        'size'   : 18}\n",
    "\n",
    "matplotlib.rc('font', **font)"
   ]
  },
  {
   "cell_type": "code",
   "execution_count": 35,
   "id": "8cc9037a",
   "metadata": {},
   "outputs": [],
   "source": [
    "f = FBM(1024, 0.1)\n",
    "b = FBM(1024, 0.5)\n",
    "\n",
    "# Generate a fBm realization\n",
    "fbm_sample = f.fbm()\n",
    "bm_sample = b.fbm()\n",
    "\n",
    "# Generate a fGn realization\n",
    "fgn_sample = f.fgn()\n",
    "\n",
    "# Get the times associated with the "
   ]
  },
  {
   "cell_type": "code",
   "execution_count": 36,
   "id": "b8fb50a5",
   "metadata": {},
   "outputs": [],
   "source": [
    "width = 430.00462"
   ]
  },
  {
   "cell_type": "code",
   "execution_count": 43,
   "id": "8d7bce48",
   "metadata": {},
   "outputs": [
    {
     "name": "stdout",
     "output_type": "stream",
     "text": [
      "Using matplotlib backend: Qt5Agg\n"
     ]
    }
   ],
   "source": [
    "%matplotlib\n",
    "fig, ax = plt.subplots(2,1, figsize=set_size(width, fraction=3))\n",
    "ax[0].plot(bm_sample, linewidth=1)\n",
    "ax[0].set_title(\"fBM with Hurst exponent 0.5\")\n",
    "ax[0].set_xlabel(\"t\")\n",
    "ax[1].plot(fbm_sample, linewidth=1)\n",
    "ax[1].set_title(\"fBM with Hurst exponent 0.1\")\n",
    "ax[1].set_xlabel(\"t\")\n",
    "plt.tight_layout(pad=3.0)\n",
    "if savefig: plt.savefig(\"fBM.jpg\")"
   ]
  },
  {
   "cell_type": "code",
   "execution_count": null,
   "id": "1cd44439",
   "metadata": {},
   "outputs": [],
   "source": []
  }
 ],
 "metadata": {
  "kernelspec": {
   "display_name": "Python 3",
   "language": "python",
   "name": "python3"
  },
  "language_info": {
   "codemirror_mode": {
    "name": "ipython",
    "version": 3
   },
   "file_extension": ".py",
   "mimetype": "text/x-python",
   "name": "python",
   "nbconvert_exporter": "python",
   "pygments_lexer": "ipython3",
   "version": "3.9.2"
  }
 },
 "nbformat": 4,
 "nbformat_minor": 5
}
