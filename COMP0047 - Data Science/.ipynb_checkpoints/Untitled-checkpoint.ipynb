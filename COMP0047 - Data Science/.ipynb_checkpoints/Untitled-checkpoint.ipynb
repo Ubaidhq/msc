{
 "cells": [
  {
   "cell_type": "code",
   "execution_count": null,
   "metadata": {},
   "outputs": [],
   "source": [
    "import json\n",
    "import pandas as pd\n",
    "import numpy as np\n",
    "import matplotlib.pyplot as plt\n",
    "import matplotlib as mpl\n",
    "import math\n",
    "import scipy.stats as si\n",
    "from numba import jit\n",
    "plt.style.use('ggplot')"
   ]
  },
  {
   "cell_type": "code",
   "execution_count": null,
   "metadata": {},
   "outputs": [],
   "source": [
    "savefig = input(\"save figures? \")\n",
    "if \"no\" in savefig or \"n\" in savefig:\n",
    "    savefig = False\n",
    "    print(\" ### NOT SAVING FIGURES ### \")\n",
    "else:\n",
    "    savefig = True\n",
    "    print(\" ### SAVING FIGURES ### \")"
   ]
  },
  {
   "cell_type": "code",
   "execution_count": 3,
   "metadata": {},
   "outputs": [],
   "source": [
    "plt.rcParams.update({'font.size': 12})\n",
    "mpl.rcParams['text.usetex']=False"
   ]
  },
  {
   "cell_type": "markdown",
   "metadata": {},
   "source": [
    "# Exploratory data work"
   ]
  },
  {
   "cell_type": "code",
   "execution_count": 4,
   "metadata": {},
   "outputs": [],
   "source": [
    "bus = []  \n",
    "for line in open(\"yelp_academic_dataset_business.json\", 'r'):\n",
    "    bus.append(json.loads(line))\n",
    "bus = pd.DataFrame(bus) "
   ]
  },
  {
   "cell_type": "code",
   "execution_count": 5,
   "metadata": {},
   "outputs": [],
   "source": [
    "idx = []\n",
    "for i in range(len(bus)):\n",
    "    cat = bus['categories'][i]\n",
    "    if 'Restaurants' in cat:\n",
    "        if 'Mexican' in cat:\n",
    "            idx.append(i)"
   ]
  },
  {
   "cell_type": "code",
   "execution_count": 6,
   "metadata": {},
   "outputs": [
    {
     "data": {
      "text/html": [
       "<div>\n",
       "<style scoped>\n",
       "    .dataframe tbody tr th:only-of-type {\n",
       "        vertical-align: middle;\n",
       "    }\n",
       "\n",
       "    .dataframe tbody tr th {\n",
       "        vertical-align: top;\n",
       "    }\n",
       "\n",
       "    .dataframe thead th {\n",
       "        text-align: right;\n",
       "    }\n",
       "</style>\n",
       "<table border=\"1\" class=\"dataframe\">\n",
       "  <thead>\n",
       "    <tr style=\"text-align: right;\">\n",
       "      <th></th>\n",
       "      <th>index</th>\n",
       "      <th>business_id</th>\n",
       "      <th>full_address</th>\n",
       "      <th>hours</th>\n",
       "      <th>open</th>\n",
       "      <th>categories</th>\n",
       "      <th>city</th>\n",
       "      <th>review_count</th>\n",
       "      <th>name</th>\n",
       "      <th>neighborhoods</th>\n",
       "      <th>longitude</th>\n",
       "      <th>state</th>\n",
       "      <th>stars</th>\n",
       "      <th>latitude</th>\n",
       "      <th>attributes</th>\n",
       "      <th>type</th>\n",
       "    </tr>\n",
       "  </thead>\n",
       "  <tbody>\n",
       "    <tr>\n",
       "      <th>0</th>\n",
       "      <td>340</td>\n",
       "      <td>JL5B_s1EoN4zIru4JSw4Qg</td>\n",
       "      <td>1603 S Braddock Ave\\nPittsburgh, PA 15218</td>\n",
       "      <td>{'Monday': {'close': '01:00', 'open': '07:00'}...</td>\n",
       "      <td>True</td>\n",
       "      <td>[Fast Food, Mexican, Tex-Mex, Restaurants]</td>\n",
       "      <td>Pittsburgh</td>\n",
       "      <td>6</td>\n",
       "      <td>Taco Bell</td>\n",
       "      <td>[]</td>\n",
       "      <td>-79.890649</td>\n",
       "      <td>PA</td>\n",
       "      <td>3.5</td>\n",
       "      <td>40.427135</td>\n",
       "      <td>{'Take-out': True, 'Wi-Fi': 'no', 'Drive-Thru'...</td>\n",
       "      <td>business</td>\n",
       "    </tr>\n",
       "    <tr>\n",
       "      <th>1</th>\n",
       "      <td>357</td>\n",
       "      <td>hhNlQWaKqGbMPoeZHoL-IQ</td>\n",
       "      <td>Scott Towne Center\\n2101 Greentree Rd\\nPittsbu...</td>\n",
       "      <td>{'Monday': {'close': '23:00', 'open': '11:00'}...</td>\n",
       "      <td>True</td>\n",
       "      <td>[Mexican, Tex-Mex, Restaurants]</td>\n",
       "      <td>Pittsburgh</td>\n",
       "      <td>94</td>\n",
       "      <td>Mad Mex - South Hills</td>\n",
       "      <td>[]</td>\n",
       "      <td>-80.070806</td>\n",
       "      <td>PA</td>\n",
       "      <td>3.5</td>\n",
       "      <td>40.390698</td>\n",
       "      <td>{'Take-out': True, 'Wi-Fi': 'free', 'Good For'...</td>\n",
       "      <td>business</td>\n",
       "    </tr>\n",
       "    <tr>\n",
       "      <th>2</th>\n",
       "      <td>416</td>\n",
       "      <td>buVALudg30kgkDusqB3yJw</td>\n",
       "      <td>2023 Penn Ave\\nStrip District\\nPittsburgh, PA ...</td>\n",
       "      <td>{'Monday': {'close': '16:00', 'open': '09:00'}...</td>\n",
       "      <td>True</td>\n",
       "      <td>[Food, Grocery, Mexican, Restaurants]</td>\n",
       "      <td>Pittsburgh</td>\n",
       "      <td>88</td>\n",
       "      <td>Reyna Foods</td>\n",
       "      <td>[Strip District]</td>\n",
       "      <td>-79.983403</td>\n",
       "      <td>PA</td>\n",
       "      <td>4.0</td>\n",
       "      <td>40.451486</td>\n",
       "      <td>{'Take-out': True, 'Wi-Fi': 'no', 'Good For': ...</td>\n",
       "      <td>business</td>\n",
       "    </tr>\n",
       "    <tr>\n",
       "      <th>3</th>\n",
       "      <td>449</td>\n",
       "      <td>8AskFIgGxqNb8RbcDCAfmA</td>\n",
       "      <td>441 Smithfield St\\nDowntown\\nPittsburgh, PA 15222</td>\n",
       "      <td>{'Friday': {'close': '15:00', 'open': '10:30'}...</td>\n",
       "      <td>False</td>\n",
       "      <td>[Mexican, Restaurants]</td>\n",
       "      <td>Pittsburgh</td>\n",
       "      <td>8</td>\n",
       "      <td>Madonna's Restaurant</td>\n",
       "      <td>[Downtown]</td>\n",
       "      <td>-79.999201</td>\n",
       "      <td>PA</td>\n",
       "      <td>4.0</td>\n",
       "      <td>40.439590</td>\n",
       "      <td>{'Take-out': True, 'Wi-Fi': 'no', 'Good For': ...</td>\n",
       "      <td>business</td>\n",
       "    </tr>\n",
       "    <tr>\n",
       "      <th>4</th>\n",
       "      <td>767</td>\n",
       "      <td>31cEXlDSos9C7FNtwtQHIw</td>\n",
       "      <td>825 Freeport Rd.\\nPittsburgh, PA 15238</td>\n",
       "      <td>{'Monday': {'close': '01:00', 'open': '07:00'}...</td>\n",
       "      <td>True</td>\n",
       "      <td>[Fast Food, Mexican, Tex-Mex, Restaurants]</td>\n",
       "      <td>Pittsburgh</td>\n",
       "      <td>4</td>\n",
       "      <td>Taco Bell</td>\n",
       "      <td>[]</td>\n",
       "      <td>-79.894991</td>\n",
       "      <td>PA</td>\n",
       "      <td>3.5</td>\n",
       "      <td>40.487466</td>\n",
       "      <td>{'Take-out': True, 'Wi-Fi': 'free', 'Drive-Thr...</td>\n",
       "      <td>business</td>\n",
       "    </tr>\n",
       "    <tr>\n",
       "      <th>...</th>\n",
       "      <td>...</td>\n",
       "      <td>...</td>\n",
       "      <td>...</td>\n",
       "      <td>...</td>\n",
       "      <td>...</td>\n",
       "      <td>...</td>\n",
       "      <td>...</td>\n",
       "      <td>...</td>\n",
       "      <td>...</td>\n",
       "      <td>...</td>\n",
       "      <td>...</td>\n",
       "      <td>...</td>\n",
       "      <td>...</td>\n",
       "      <td>...</td>\n",
       "      <td>...</td>\n",
       "      <td>...</td>\n",
       "    </tr>\n",
       "    <tr>\n",
       "      <th>2700</th>\n",
       "      <td>85845</td>\n",
       "      <td>zFJaMw8uz4ZQysu_UG32AQ</td>\n",
       "      <td>Tuscany Suites Casino\\n255 E Flamingo Rd\\nEast...</td>\n",
       "      <td>{'Monday': {'close': '04:00', 'open': '11:00'}...</td>\n",
       "      <td>True</td>\n",
       "      <td>[Bars, American (Traditional), Mexican, Pubs, ...</td>\n",
       "      <td>Las Vegas</td>\n",
       "      <td>21</td>\n",
       "      <td>PUB 365</td>\n",
       "      <td>[Eastside]</td>\n",
       "      <td>-115.159705</td>\n",
       "      <td>NV</td>\n",
       "      <td>4.0</td>\n",
       "      <td>36.114125</td>\n",
       "      <td>{'Alcohol': 'full_bar', 'Noise Level': 'averag...</td>\n",
       "      <td>business</td>\n",
       "    </tr>\n",
       "    <tr>\n",
       "      <th>2701</th>\n",
       "      <td>85850</td>\n",
       "      <td>x3SMg756CcEgxkay3s3v3w</td>\n",
       "      <td>1985 W Happy Valley Rd\\nSte 120\\nPhoenix, AZ 8...</td>\n",
       "      <td>{'Monday': {'close': '21:00', 'open': '07:30'}...</td>\n",
       "      <td>True</td>\n",
       "      <td>[Mexican, Restaurants]</td>\n",
       "      <td>Phoenix</td>\n",
       "      <td>6</td>\n",
       "      <td>Mi Familia Mexican Food</td>\n",
       "      <td>[]</td>\n",
       "      <td>-112.102009</td>\n",
       "      <td>AZ</td>\n",
       "      <td>2.5</td>\n",
       "      <td>33.712247</td>\n",
       "      <td>{'Take-out': True, 'Accepts Credit Cards': Tru...</td>\n",
       "      <td>business</td>\n",
       "    </tr>\n",
       "    <tr>\n",
       "      <th>2702</th>\n",
       "      <td>85861</td>\n",
       "      <td>8X2ZAL2ch1k_BEW2cK-GWA</td>\n",
       "      <td>8427 W Peoria Ave\\nPeoria, AZ 85345</td>\n",
       "      <td>{}</td>\n",
       "      <td>True</td>\n",
       "      <td>[Bars, Mexican, Seafood, Dive Bars, Nightlife,...</td>\n",
       "      <td>Peoria</td>\n",
       "      <td>4</td>\n",
       "      <td>El Alboroto Mariscos &amp; Chavelas</td>\n",
       "      <td>[]</td>\n",
       "      <td>-112.240464</td>\n",
       "      <td>AZ</td>\n",
       "      <td>4.0</td>\n",
       "      <td>33.581087</td>\n",
       "      <td>{}</td>\n",
       "      <td>business</td>\n",
       "    </tr>\n",
       "    <tr>\n",
       "      <th>2703</th>\n",
       "      <td>85897</td>\n",
       "      <td>g0vvhkZWZKlwF8BUeSPaTA</td>\n",
       "      <td>525 N Estrella Pkwy\\nSte 100\\nGoodyear, AZ 85338</td>\n",
       "      <td>{}</td>\n",
       "      <td>True</td>\n",
       "      <td>[Mexican, Restaurants]</td>\n",
       "      <td>Goodyear</td>\n",
       "      <td>89</td>\n",
       "      <td>Senor Taco</td>\n",
       "      <td>[]</td>\n",
       "      <td>-112.392009</td>\n",
       "      <td>AZ</td>\n",
       "      <td>3.5</td>\n",
       "      <td>33.452205</td>\n",
       "      <td>{'Take-out': True, 'Wi-Fi': 'no', 'Good For': ...</td>\n",
       "      <td>business</td>\n",
       "    </tr>\n",
       "    <tr>\n",
       "      <th>2704</th>\n",
       "      <td>85900</td>\n",
       "      <td>DH2Ujt_hwcMBIz8VvCb0Lg</td>\n",
       "      <td>Charlotte Douglas International Airport Termin...</td>\n",
       "      <td>{}</td>\n",
       "      <td>True</td>\n",
       "      <td>[Mexican, Restaurants]</td>\n",
       "      <td>Charlotte</td>\n",
       "      <td>57</td>\n",
       "      <td>Salsarita's Express</td>\n",
       "      <td>[]</td>\n",
       "      <td>-80.940290</td>\n",
       "      <td>NC</td>\n",
       "      <td>2.5</td>\n",
       "      <td>35.224223</td>\n",
       "      <td>{}</td>\n",
       "      <td>business</td>\n",
       "    </tr>\n",
       "  </tbody>\n",
       "</table>\n",
       "<p>2705 rows × 16 columns</p>\n",
       "</div>"
      ],
      "text/plain": [
       "      index             business_id  \\\n",
       "0       340  JL5B_s1EoN4zIru4JSw4Qg   \n",
       "1       357  hhNlQWaKqGbMPoeZHoL-IQ   \n",
       "2       416  buVALudg30kgkDusqB3yJw   \n",
       "3       449  8AskFIgGxqNb8RbcDCAfmA   \n",
       "4       767  31cEXlDSos9C7FNtwtQHIw   \n",
       "...     ...                     ...   \n",
       "2700  85845  zFJaMw8uz4ZQysu_UG32AQ   \n",
       "2701  85850  x3SMg756CcEgxkay3s3v3w   \n",
       "2702  85861  8X2ZAL2ch1k_BEW2cK-GWA   \n",
       "2703  85897  g0vvhkZWZKlwF8BUeSPaTA   \n",
       "2704  85900  DH2Ujt_hwcMBIz8VvCb0Lg   \n",
       "\n",
       "                                           full_address  \\\n",
       "0             1603 S Braddock Ave\\nPittsburgh, PA 15218   \n",
       "1     Scott Towne Center\\n2101 Greentree Rd\\nPittsbu...   \n",
       "2     2023 Penn Ave\\nStrip District\\nPittsburgh, PA ...   \n",
       "3     441 Smithfield St\\nDowntown\\nPittsburgh, PA 15222   \n",
       "4                825 Freeport Rd.\\nPittsburgh, PA 15238   \n",
       "...                                                 ...   \n",
       "2700  Tuscany Suites Casino\\n255 E Flamingo Rd\\nEast...   \n",
       "2701  1985 W Happy Valley Rd\\nSte 120\\nPhoenix, AZ 8...   \n",
       "2702                8427 W Peoria Ave\\nPeoria, AZ 85345   \n",
       "2703   525 N Estrella Pkwy\\nSte 100\\nGoodyear, AZ 85338   \n",
       "2704  Charlotte Douglas International Airport Termin...   \n",
       "\n",
       "                                                  hours   open  \\\n",
       "0     {'Monday': {'close': '01:00', 'open': '07:00'}...   True   \n",
       "1     {'Monday': {'close': '23:00', 'open': '11:00'}...   True   \n",
       "2     {'Monday': {'close': '16:00', 'open': '09:00'}...   True   \n",
       "3     {'Friday': {'close': '15:00', 'open': '10:30'}...  False   \n",
       "4     {'Monday': {'close': '01:00', 'open': '07:00'}...   True   \n",
       "...                                                 ...    ...   \n",
       "2700  {'Monday': {'close': '04:00', 'open': '11:00'}...   True   \n",
       "2701  {'Monday': {'close': '21:00', 'open': '07:30'}...   True   \n",
       "2702                                                 {}   True   \n",
       "2703                                                 {}   True   \n",
       "2704                                                 {}   True   \n",
       "\n",
       "                                             categories        city  \\\n",
       "0            [Fast Food, Mexican, Tex-Mex, Restaurants]  Pittsburgh   \n",
       "1                       [Mexican, Tex-Mex, Restaurants]  Pittsburgh   \n",
       "2                 [Food, Grocery, Mexican, Restaurants]  Pittsburgh   \n",
       "3                                [Mexican, Restaurants]  Pittsburgh   \n",
       "4            [Fast Food, Mexican, Tex-Mex, Restaurants]  Pittsburgh   \n",
       "...                                                 ...         ...   \n",
       "2700  [Bars, American (Traditional), Mexican, Pubs, ...   Las Vegas   \n",
       "2701                             [Mexican, Restaurants]     Phoenix   \n",
       "2702  [Bars, Mexican, Seafood, Dive Bars, Nightlife,...      Peoria   \n",
       "2703                             [Mexican, Restaurants]    Goodyear   \n",
       "2704                             [Mexican, Restaurants]   Charlotte   \n",
       "\n",
       "      review_count                             name     neighborhoods  \\\n",
       "0                6                        Taco Bell                []   \n",
       "1               94            Mad Mex - South Hills                []   \n",
       "2               88                      Reyna Foods  [Strip District]   \n",
       "3                8             Madonna's Restaurant        [Downtown]   \n",
       "4                4                        Taco Bell                []   \n",
       "...            ...                              ...               ...   \n",
       "2700            21                          PUB 365        [Eastside]   \n",
       "2701             6          Mi Familia Mexican Food                []   \n",
       "2702             4  El Alboroto Mariscos & Chavelas                []   \n",
       "2703            89                       Senor Taco                []   \n",
       "2704            57              Salsarita's Express                []   \n",
       "\n",
       "       longitude state  stars   latitude  \\\n",
       "0     -79.890649    PA    3.5  40.427135   \n",
       "1     -80.070806    PA    3.5  40.390698   \n",
       "2     -79.983403    PA    4.0  40.451486   \n",
       "3     -79.999201    PA    4.0  40.439590   \n",
       "4     -79.894991    PA    3.5  40.487466   \n",
       "...          ...   ...    ...        ...   \n",
       "2700 -115.159705    NV    4.0  36.114125   \n",
       "2701 -112.102009    AZ    2.5  33.712247   \n",
       "2702 -112.240464    AZ    4.0  33.581087   \n",
       "2703 -112.392009    AZ    3.5  33.452205   \n",
       "2704  -80.940290    NC    2.5  35.224223   \n",
       "\n",
       "                                             attributes      type  \n",
       "0     {'Take-out': True, 'Wi-Fi': 'no', 'Drive-Thru'...  business  \n",
       "1     {'Take-out': True, 'Wi-Fi': 'free', 'Good For'...  business  \n",
       "2     {'Take-out': True, 'Wi-Fi': 'no', 'Good For': ...  business  \n",
       "3     {'Take-out': True, 'Wi-Fi': 'no', 'Good For': ...  business  \n",
       "4     {'Take-out': True, 'Wi-Fi': 'free', 'Drive-Thr...  business  \n",
       "...                                                 ...       ...  \n",
       "2700  {'Alcohol': 'full_bar', 'Noise Level': 'averag...  business  \n",
       "2701  {'Take-out': True, 'Accepts Credit Cards': Tru...  business  \n",
       "2702                                                 {}  business  \n",
       "2703  {'Take-out': True, 'Wi-Fi': 'no', 'Good For': ...  business  \n",
       "2704                                                 {}  business  \n",
       "\n",
       "[2705 rows x 16 columns]"
      ]
     },
     "execution_count": 6,
     "metadata": {},
     "output_type": "execute_result"
    }
   ],
   "source": [
    "mx_r = bus[bus.index.isin(idx)]\n",
    "mx_r.reset_index()"
   ]
  },
  {
   "cell_type": "code",
   "execution_count": 7,
   "metadata": {},
   "outputs": [
    {
     "data": {
      "text/plain": [
       "array(['PA', 'NC', 'SC', 'WI', 'IL', 'AZ', 'NV', 'QC', 'EDH', 'BW', 'ON',\n",
       "       'MLN'], dtype=object)"
      ]
     },
     "execution_count": 7,
     "metadata": {},
     "output_type": "execute_result"
    }
   ],
   "source": [
    "mx_r['state'].unique()"
   ]
  },
  {
   "cell_type": "code",
   "execution_count": 8,
   "metadata": {},
   "outputs": [
    {
     "data": {
      "text/plain": [
       "6"
      ]
     },
     "execution_count": 8,
     "metadata": {},
     "output_type": "execute_result"
    }
   ],
   "source": [
    "np.where(mx_r['state'].unique() == 'NV')[0][0]"
   ]
  },
  {
   "cell_type": "code",
   "execution_count": 9,
   "metadata": {},
   "outputs": [],
   "source": [
    "state_colors = list(map(lambda x: np.where(mx_r['state'].unique() == x)[0][0],mx_r['state']))\n",
    "    "
   ]
  },
  {
   "cell_type": "code",
   "execution_count": 14,
   "metadata": {},
   "outputs": [],
   "source": [
    "# Defining a function to retrieve all the unique entries within an array of arrays, and then returning as an ordered dict.   \n",
    "def unique_entries(big_arr):\n",
    "    result = []\n",
    "    for arr in big_arr:\n",
    "        for cat in arr:\n",
    "            result.append(cat)\n",
    "    [names, counts] = np.unique(result, return_counts = True)\n",
    "    d = dict(zip(names, counts))\n",
    "    d_sorted = dict(sorted(d.items(), key=lambda item:item[1]))\n",
    "    return d_sorted"
   ]
  },
  {
   "cell_type": "code",
   "execution_count": 18,
   "metadata": {},
   "outputs": [],
   "source": [
    "idx = []\n",
    "for i in range(len(bus)):\n",
    "    if 'Restaurants' in bus['categories'][i]:\n",
    "        idx.append(i)\n",
    "        \n",
    "restaurants = bus[bus.index.isin(idx)]\n",
    "restaurants.reset_index(drop=True, inplace=True)\n"
   ]
  },
  {
   "cell_type": "code",
   "execution_count": 19,
   "metadata": {},
   "outputs": [],
   "source": [
    "restaurant_cat = restaurants['categories']\n",
    "r_arr = []\n",
    "\n",
    "for arr in restaurant_cat:\n",
    "    for cat in arr:\n",
    "        r_arr.append(cat)\n"
   ]
  },
  {
   "cell_type": "code",
   "execution_count": 20,
   "metadata": {},
   "outputs": [],
   "source": [
    "r_arr = np.array(r_arr)"
   ]
  },
  {
   "cell_type": "code",
   "execution_count": 21,
   "metadata": {},
   "outputs": [],
   "source": [
    "[names, counts] = np.unique(r_arr, return_counts = True)"
   ]
  },
  {
   "cell_type": "code",
   "execution_count": 22,
   "metadata": {},
   "outputs": [],
   "source": [
    "r_dict = dict(zip(names, counts))"
   ]
  },
  {
   "cell_type": "code",
   "execution_count": 23,
   "metadata": {},
   "outputs": [],
   "source": [
    "r_dict = dict(sorted(r_dict.items(), key=lambda item: item[1]))"
   ]
  },
  {
   "cell_type": "code",
   "execution_count": 24,
   "metadata": {},
   "outputs": [
    {
     "data": {
      "text/plain": [
       "{'Appliances': 1,\n",
       " 'Austrian': 1,\n",
       " 'Banks & Credit Unions': 1,\n",
       " 'Bartenders': 1,\n",
       " 'Beer Hall': 1,\n",
       " 'Bikes': 1,\n",
       " 'Boating': 1,\n",
       " 'Cabaret': 1,\n",
       " 'Car Wash': 1,\n",
       " 'Colleges & Universities': 1,\n",
       " 'Cosmetics & Beauty Supply': 1,\n",
       " 'DJs': 1,\n",
       " 'Day Spas': 1,\n",
       " 'Department Stores': 1,\n",
       " 'Dinner Theater': 1,\n",
       " 'Donairs': 1,\n",
       " 'Drive-Thru Bars': 1,\n",
       " 'Dry Cleaning & Laundry': 1,\n",
       " 'Eastern European': 1,\n",
       " 'Ethnic Grocery': 1,\n",
       " 'Fitness & Instruction': 1,\n",
       " 'Flea Markets': 1,\n",
       " 'Florists': 1,\n",
       " 'Flowers & Gifts': 1,\n",
       " 'Framing': 1,\n",
       " 'Furniture Stores': 1,\n",
       " 'Golf Equipment Shops': 1,\n",
       " 'Guest Houses': 1,\n",
       " 'Hardware Stores': 1,\n",
       " 'Health & Medical': 1,\n",
       " 'Hiking': 1,\n",
       " 'Hong Kong Style Cafe': 1,\n",
       " 'Kids Activities': 1,\n",
       " 'Kitchen & Bath': 1,\n",
       " 'Lakes': 1,\n",
       " 'Landmarks & Historical Buildings': 1,\n",
       " 'Local Services': 1,\n",
       " \"Men's Clothing\": 1,\n",
       " 'Music & DVDs': 1,\n",
       " 'Musicians': 1,\n",
       " 'Nutritionists': 1,\n",
       " 'Olive Oil': 1,\n",
       " 'Oriental': 1,\n",
       " 'Palatine': 1,\n",
       " 'Pita': 1,\n",
       " 'Public Services & Government': 1,\n",
       " 'Recreation Centers': 1,\n",
       " 'Rhinelandian': 1,\n",
       " 'Senegalese': 1,\n",
       " 'Slovakian': 1,\n",
       " 'Soccer': 1,\n",
       " 'Sports Wear': 1,\n",
       " 'Supper Clubs': 1,\n",
       " 'Swiss Food': 1,\n",
       " 'Tiki Bars': 1,\n",
       " 'Tours': 1,\n",
       " 'Travel Services': 1,\n",
       " 'Trinidadian': 1,\n",
       " 'Vinyl Records': 1,\n",
       " 'Vitamins & Supplements': 1,\n",
       " 'Whiskey Bars': 1,\n",
       " 'Wine Tasting Room': 1,\n",
       " 'Wok': 1,\n",
       " 'Yoga': 1,\n",
       " 'Alsatian': 2,\n",
       " 'Antiques': 2,\n",
       " 'Bavarian': 2,\n",
       " 'Beauty & Spas': 2,\n",
       " 'Candy Stores': 2,\n",
       " 'Champagne Bars': 2,\n",
       " 'Country Clubs': 2,\n",
       " 'Country Dance Halls': 2,\n",
       " 'Distilleries': 2,\n",
       " 'Farmers Market': 2,\n",
       " 'Financial Services': 2,\n",
       " 'Herbs & Spices': 2,\n",
       " 'Home Decor': 2,\n",
       " 'Horseback Riding': 2,\n",
       " 'Hotel bar': 2,\n",
       " 'Macarons': 2,\n",
       " 'Piano Bars': 2,\n",
       " 'Pretzels': 2,\n",
       " 'Shopping Centers': 2,\n",
       " 'Sports Clubs': 2,\n",
       " 'Toy Stores': 2,\n",
       " 'Tuscan': 2,\n",
       " 'Adult Entertainment': 3,\n",
       " 'Amateur Sports Teams': 3,\n",
       " 'Bed & Breakfast': 3,\n",
       " 'Cooking Schools': 3,\n",
       " 'Czech': 3,\n",
       " 'Education': 3,\n",
       " 'Empanadas': 3,\n",
       " 'Fashion': 3,\n",
       " 'Hungarian': 3,\n",
       " 'Organic Stores': 3,\n",
       " 'Personal Chefs': 3,\n",
       " 'Social Clubs': 3,\n",
       " 'Specialty Schools': 3,\n",
       " 'Sri Lankan': 3,\n",
       " 'Swimming Pools': 3,\n",
       " 'Uzbek': 3,\n",
       " 'Amusement Parks': 4,\n",
       " 'Australian': 4,\n",
       " 'Cinema': 4,\n",
       " 'Cupcakes': 4,\n",
       " 'Curry Sausage': 4,\n",
       " 'Dominican': 4,\n",
       " 'Fruits & Veggies': 4,\n",
       " 'Haitian': 4,\n",
       " 'Home & Garden': 4,\n",
       " 'Local Flavor': 4,\n",
       " 'Sporting Goods': 4,\n",
       " 'Ukrainian': 4,\n",
       " 'Arts & Crafts': 5,\n",
       " 'Bangladeshi': 5,\n",
       " 'Bookstores': 5,\n",
       " 'Burmese': 5,\n",
       " 'Cafeteria': 5,\n",
       " 'Egyptian': 5,\n",
       " 'Pasta Shops': 5,\n",
       " 'Performing Arts': 5,\n",
       " 'Poke': 5,\n",
       " 'Serbo Croatian': 5,\n",
       " 'Shanghainese': 5,\n",
       " 'Singaporean': 5,\n",
       " 'Wineries': 5,\n",
       " 'Automotive': 6,\n",
       " 'Festivals': 6,\n",
       " 'Gas & Service Stations': 6,\n",
       " 'Gay Bars': 6,\n",
       " 'Party & Event Planning': 6,\n",
       " 'Art Galleries': 7,\n",
       " 'Books, Mags, Music & Video': 7,\n",
       " 'Irish Pub': 7,\n",
       " 'Laotian': 7,\n",
       " 'Waffles': 7,\n",
       " 'Cambodian': 8,\n",
       " 'Chocolatiers & Shops': 8,\n",
       " 'Puerto Rican': 8,\n",
       " 'Teppanyaki': 8,\n",
       " 'Venezuelan': 8,\n",
       " 'Health Markets': 9,\n",
       " 'New Mexican Cuisine': 9,\n",
       " 'Scandinavian': 9,\n",
       " 'Bowling': 10,\n",
       " 'Do-It-Yourself Food': 10,\n",
       " 'Gelato': 10,\n",
       " 'Internet Cafes': 10,\n",
       " 'Shaved Ice': 10,\n",
       " 'Arabian': 11,\n",
       " 'Argentine': 11,\n",
       " 'Baden': 11,\n",
       " 'Butcher': 11,\n",
       " 'Indonesian': 12,\n",
       " 'Malaysian': 12,\n",
       " 'Patisserie/Cake Shop': 12,\n",
       " 'Delicatessen': 13,\n",
       " 'Falafel': 13,\n",
       " 'Seafood Markets': 13,\n",
       " 'Beer Gardens': 15,\n",
       " 'Golf': 15,\n",
       " 'Himalayan/Nepalese': 16,\n",
       " 'Hot Pot': 16,\n",
       " 'Arcades': 17,\n",
       " 'Belgian': 17,\n",
       " 'Colombian': 17,\n",
       " 'Jazz & Blues': 17,\n",
       " 'Russian': 17,\n",
       " 'Afghan': 18,\n",
       " 'Basque': 18,\n",
       " 'Bubble Tea': 18,\n",
       " 'Pool Halls': 18,\n",
       " 'Cheese Shops': 19,\n",
       " 'Live/Raw Food': 19,\n",
       " 'Convenience Stores': 20,\n",
       " 'Beer Bar': 22,\n",
       " 'Meat Shops': 24,\n",
       " 'Fondue': 25,\n",
       " 'International': 25,\n",
       " 'Bistros': 26,\n",
       " 'Moroccan': 26,\n",
       " 'Chicken Shop': 27,\n",
       " 'Cantonese': 28,\n",
       " 'Mongolian': 28,\n",
       " 'Polish': 28,\n",
       " 'Salvadoran': 29,\n",
       " 'Beer Garden': 30,\n",
       " 'Hookah Bars': 31,\n",
       " 'Poutineries': 32,\n",
       " 'Szechuan': 32,\n",
       " 'Ethiopian': 33,\n",
       " 'Casinos': 35,\n",
       " 'Cuban': 36,\n",
       " 'Kebab': 36,\n",
       " 'Kosher': 36,\n",
       " 'Brazilian': 37,\n",
       " 'Hotels': 37,\n",
       " 'Dance Clubs': 38,\n",
       " 'Food Court': 38,\n",
       " 'Shopping': 38,\n",
       " 'Street Vendors': 38,\n",
       " 'Tea Rooms': 38,\n",
       " 'Donuts': 39,\n",
       " 'Food Delivery Services': 42,\n",
       " 'Hotels & Travel': 44,\n",
       " 'Active Life': 45,\n",
       " 'Persian/Iranian': 45,\n",
       " 'Ramen': 47,\n",
       " 'Scottish': 47,\n",
       " 'African': 48,\n",
       " 'Taiwanese': 48,\n",
       " 'Venues & Event Spaces': 53,\n",
       " 'Dim Sum': 57,\n",
       " 'Lebanese': 57,\n",
       " 'Peruvian': 57,\n",
       " 'Karaoke': 59,\n",
       " 'Halal': 60,\n",
       " 'Noodles': 61,\n",
       " 'Modern European': 62,\n",
       " 'Dive Bars': 68,\n",
       " 'Irish': 70,\n",
       " 'Brasseries': 71,\n",
       " 'Cheesesteaks': 73,\n",
       " 'Portuguese': 73,\n",
       " 'Breweries': 74,\n",
       " 'Beer, Wine & Spirits': 75,\n",
       " 'Turkish': 80,\n",
       " 'Food Stands': 81,\n",
       " 'Creperies': 83,\n",
       " 'Filipino': 84,\n",
       " 'Music Venues': 86,\n",
       " 'Spanish': 90,\n",
       " 'Caterers': 91,\n",
       " 'Ethnic Food': 92,\n",
       " 'Pakistani': 94,\n",
       " 'Grocery': 99,\n",
       " 'Comfort Food': 101,\n",
       " 'Cajun/Creole': 104,\n",
       " 'Fish & Chips': 113,\n",
       " 'Tapas Bars': 116,\n",
       " 'Soul Food': 117,\n",
       " 'Tapas/Small Plates': 120,\n",
       " 'Caribbean': 122,\n",
       " 'Bagels': 132,\n",
       " 'Cocktail Bars': 148,\n",
       " 'Hawaiian': 150,\n",
       " 'Food Trucks': 160,\n",
       " 'Soup': 161,\n",
       " 'Gastropubs': 167,\n",
       " 'British': 175,\n",
       " 'Juice Bars & Smoothies': 185,\n",
       " 'Southern': 185,\n",
       " 'Event Planning & Services': 188,\n",
       " 'Arts & Entertainment': 189,\n",
       " 'German': 190,\n",
       " 'Ice Cream & Frozen Yogurt': 198,\n",
       " 'Latin American': 212,\n",
       " 'Desserts': 216,\n",
       " 'Specialty Food': 216,\n",
       " 'Vegan': 218,\n",
       " 'Lounges': 223,\n",
       " 'Gluten-Free': 231,\n",
       " 'Canadian (New)': 232,\n",
       " 'Korean': 247,\n",
       " 'Hot Dogs': 287,\n",
       " 'Middle Eastern': 289,\n",
       " 'Wine Bars': 296,\n",
       " 'Vegetarian': 311,\n",
       " 'Tex-Mex': 348,\n",
       " 'Bakeries': 385,\n",
       " 'Vietnamese': 389,\n",
       " 'Diners': 396,\n",
       " 'Buffets': 435,\n",
       " 'Greek': 439,\n",
       " 'Pubs': 446,\n",
       " 'Indian': 461,\n",
       " 'French': 488,\n",
       " 'Salad': 540,\n",
       " 'Asian Fusion': 554,\n",
       " 'Thai': 554,\n",
       " 'Mediterranean': 614,\n",
       " 'Coffee & Tea': 620,\n",
       " 'Steakhouses': 636,\n",
       " 'Barbeque': 646,\n",
       " 'Sports Bars': 649,\n",
       " 'Delis': 730,\n",
       " 'Seafood': 748,\n",
       " 'Chicken Wings': 812,\n",
       " 'Sushi Bars': 859,\n",
       " 'Japanese': 922,\n",
       " 'Cafes': 1100,\n",
       " 'Breakfast & Brunch': 1609,\n",
       " 'American (New)': 1671,\n",
       " 'Chinese': 1714,\n",
       " 'Italian': 1939,\n",
       " 'Burgers': 1960,\n",
       " 'Food': 2369,\n",
       " 'American (Traditional)': 2608,\n",
       " 'Sandwiches': 2666,\n",
       " 'Bars': 2694,\n",
       " 'Mexican': 2705,\n",
       " 'Nightlife': 2806,\n",
       " 'Pizza': 2881,\n",
       " 'Fast Food': 3154,\n",
       " 'Restaurants': 26729}"
      ]
     },
     "execution_count": 24,
     "metadata": {},
     "output_type": "execute_result"
    }
   ],
   "source": [
    "r_dict"
   ]
  },
  {
   "cell_type": "code",
   "execution_count": 25,
   "metadata": {},
   "outputs": [
    {
     "name": "stdout",
     "output_type": "stream",
     "text": [
      "PA\n",
      "{'Chinese': 106, 'Mexican': 81, 'Italian': 165}\n",
      "NC\n",
      "{'Chinese': 155, 'Mexican': 197, 'Italian': 136}\n",
      "SC\n",
      "{'Chinese': 11, 'Mexican': 11, 'Italian': 11}\n",
      "WI\n",
      "{'Chinese': 80, 'Mexican': 101, 'Italian': 62}\n",
      "IL\n",
      "{'Chinese': 27, 'Mexican': 38, 'Italian': 14}\n",
      "AZ\n",
      "{'Chinese': 576, 'Mexican': 1424, 'Italian': 680}\n",
      "CA\n",
      "{'Chinese': None, 'Mexican': None, 'Italian': None}\n",
      "NV\n",
      "{'Chinese': 424, 'Mexican': 737, 'Italian': 352}\n",
      "FL\n",
      "{'Chinese': None, 'Mexican': None, 'Italian': None}\n",
      "NM\n",
      "{'Chinese': None, 'Mexican': None, 'Italian': None}\n",
      "QC\n",
      "{'Chinese': 180, 'Mexican': 80, 'Italian': 279}\n",
      "ON\n",
      "{'Chinese': 45, 'Mexican': 10, 'Italian': 14}\n",
      "TX\n",
      "{'Chinese': None, 'Mexican': None, 'Italian': None}\n",
      "EDH\n",
      "{'Chinese': 78, 'Mexican': 20, 'Italian': 124}\n",
      "MLN\n",
      "{'Chinese': 3, 'Mexican': 2, 'Italian': 6}\n",
      "HAM\n",
      "{'Chinese': None, 'Mexican': None, 'Italian': None}\n",
      "SCB\n",
      "{'Chinese': None, 'Mexican': None, 'Italian': None}\n",
      "ELN\n",
      "{'Chinese': None, 'Mexican': None, 'Italian': 1}\n",
      "FIF\n",
      "{'Chinese': None, 'Mexican': None, 'Italian': None}\n",
      "NTH\n",
      "{'Chinese': None, 'Mexican': None, 'Italian': None}\n",
      "XGL\n",
      "{'Chinese': None, 'Mexican': None, 'Italian': None}\n",
      "BW\n",
      "{'Chinese': 29, 'Mexican': 4, 'Italian': 92}\n",
      "RP\n",
      "{'Chinese': None, 'Mexican': None, 'Italian': 3}\n",
      "KHL\n",
      "{'Chinese': None, 'Mexican': None, 'Italian': None}\n",
      "MN\n",
      "{'Chinese': None, 'Mexican': None, 'Italian': None}\n",
      "NW\n",
      "{'Chinese': None, 'Mexican': None, 'Italian': None}\n",
      "TAM\n",
      "{'Chinese': None, 'Mexican': None, 'Italian': None}\n",
      "AL\n",
      "{'Chinese': None, 'Mexican': None, 'Italian': None}\n",
      "\n",
      "{'Chinese': None, 'Mexican': None, 'Italian': None}\n",
      "AK\n",
      "{'Chinese': None, 'Mexican': None, 'Italian': None}\n"
     ]
    }
   ],
   "source": [
    "# Here we want to go through all of the states and check the count for the most popular type of restaurants.\n",
    "output = {}\n",
    "states = bus['state'].unique()\n",
    "for state in states:\n",
    "    state_df = bus[bus['state'] == state]\n",
    "    state_df.reset_index(drop=True, inplace=True)\n",
    "    idx = []\n",
    "    for i in range(len(state_df)):\n",
    "        cats = state_df['categories'][i]\n",
    "        if 'Restaurants' in cat:\n",
    "                idx.append(i)\n",
    "    # Now collating all the rows which are restaurants. \n",
    "    restaurants = state_df[state_df.index.isin(idx)]\n",
    "    restaurants.reset_index(drop=True)\n",
    "    \n",
    "    # Want to create a new dict with results for each state, ie a key should be an object with 5 keys. \n",
    "    categories_d = unique_entries(restaurants['categories'])\n",
    "    d = {\n",
    "        'Chinese': categories_d.get('Chinese'),\n",
    "        'Mexican': categories_d.get('Mexican'),\n",
    "        'Italian': categories_d.get('Italian')\n",
    "    }\n",
    "    print(state)\n",
    "    print(d)"
   ]
  },
  {
   "cell_type": "code",
   "execution_count": 26,
   "metadata": {},
   "outputs": [
    {
     "data": {
      "text/plain": [
       "array(['PA', 'NC', 'SC', 'WI', 'IL', 'AZ', 'CA', 'NV', 'FL', 'NM', 'QC',\n",
       "       'ON', 'TX', 'EDH', 'MLN', 'HAM', 'SCB', 'ELN', 'FIF', 'NTH', 'XGL',\n",
       "       'BW', 'RP', 'KHL', 'MN', 'NW', 'TAM', 'AL', '', 'AK'], dtype=object)"
      ]
     },
     "execution_count": 26,
     "metadata": {},
     "output_type": "execute_result"
    }
   ],
   "source": [
    "bus['state'].unique()"
   ]
  },
  {
   "cell_type": "code",
   "execution_count": 27,
   "metadata": {},
   "outputs": [
    {
     "name": "stdout",
     "output_type": "stream",
     "text": [
      "['Italian', 'Mexican', 'Restaurants']\n"
     ]
    }
   ],
   "source": [
    "az = bus[bus['state'] == 'AZ']\n",
    "az.reset_index(drop=True, inplace=True)\n",
    "for i in range(len(az)):\n",
    "    if 'Italian' in az['categories'][i]:\n",
    "        if 'Mexican' in az['categories'][i]:  \n",
    "            print(az['categories'][i])"
   ]
  },
  {
   "cell_type": "markdown",
   "metadata": {},
   "source": [
    "## Arizona"
   ]
  },
  {
   "cell_type": "code",
   "execution_count": 28,
   "metadata": {},
   "outputs": [],
   "source": [
    "def get_restaurants(df):\n",
    "    '''Gets the rows which have restaurant in the array of categories and returns as df'''\n",
    "    idx = []\n",
    "    for i in range(len(df)):\n",
    "        cat = df['categories'][i]\n",
    "        if 'Restaurants' in cat:\n",
    "            idx.append(i)\n",
    "    restaurants = df[df.index.isin(idx)]\n",
    "    restaurants.reset_index(drop=True, inplace=True)\n",
    "    return restaurants \n"
   ]
  },
  {
   "cell_type": "code",
   "execution_count": 29,
   "metadata": {},
   "outputs": [
    {
     "data": {
      "text/plain": [
       "<matplotlib.collections.PathCollection at 0x203608b7970>"
      ]
     },
     "execution_count": 29,
     "metadata": {},
     "output_type": "execute_result"
    }
   ],
   "source": [
    "az_restaurants = get_restaurants(az)\n",
    "plt.scatter(az_restaurants['longitude'], az_restaurants['latitude'])"
   ]
  },
  {
   "cell_type": "code",
   "execution_count": 30,
   "metadata": {},
   "outputs": [],
   "source": [
    "@jit(nopython=True)\n",
    "def measure(lat1, lon1, lat2, lon2):  \n",
    "    '''generally used geo measurement function'''\n",
    "    R = 6378.137; # Radius of earth in KM\n",
    "    dLat = lat2 * math.pi / 180 - lat1 * math.pi / 180;\n",
    "    dLon = lon2 * math.pi / 180 - lon1 * math.pi / 180;\n",
    "    a = math.sin(dLat/2) * math.sin(dLat/2) + math.cos(lat1 * math.pi / 180) * math.cos(lat2 * math.pi / 180) * math.sin(dLon/2) * math.sin(dLon/2);\n",
    "    c = 2 * math.atan2(math.sqrt(a), math.sqrt(1-a));\n",
    "    d = R * c;\n",
    "    return d * 1000; # Returns in metres"
   ]
  },
  {
   "cell_type": "code",
   "execution_count": 31,
   "metadata": {},
   "outputs": [],
   "source": [
    "def measure_matrix(df):\n",
    "    N = len(df)\n",
    "    lon = df['longitude']\n",
    "    lat = df['latitude']\n",
    "    distances = np.zeros((N,N))\n",
    "    for i in range(N):\n",
    "        for j in range(i+1, N):\n",
    "            d = measure(lat[i], lon[i], lat[j], lon[j])\n",
    "            distances[i,j] = d\n",
    "            distances[j,i] = d\n",
    "    return distances"
   ]
  },
  {
   "cell_type": "code",
   "execution_count": 32,
   "metadata": {},
   "outputs": [],
   "source": [
    "phoenix_r = az_restaurants[az_restaurants['city'] == 'Phoenix']\n",
    "phoenix_r.reset_index(drop=True, inplace=True)\n",
    "phoenix_r_distances = measure_matrix(phoenix_r)\n",
    "phoenix_r_distances = pd.DataFrame(phoenix_r_distances)\n",
    "phoenix_r_distances = phoenix_r_distances.replace(0, np.nan)"
   ]
  },
  {
   "cell_type": "markdown",
   "metadata": {},
   "source": [
    "### Distributions of distances to first nearby restaurant"
   ]
  },
  {
   "cell_type": "code",
   "execution_count": 33,
   "metadata": {},
   "outputs": [],
   "source": [
    "plt.hist(phoenix_r_distances.min(), bins=np.arange(0,8000,100))\n",
    "plt.yscale('log')"
   ]
  },
  {
   "cell_type": "code",
   "execution_count": 34,
   "metadata": {},
   "outputs": [],
   "source": [
    "phx_r_min_distances = phoenix_r_distances.min()"
   ]
  },
  {
   "cell_type": "markdown",
   "metadata": {},
   "source": [
    "# Geopandas"
   ]
  },
  {
   "cell_type": "code",
   "execution_count": 35,
   "metadata": {},
   "outputs": [
    {
     "name": "stderr",
     "output_type": "stream",
     "text": [
      "C:\\Users\\Ubaid\\miniconda3\\envs\\msc\\lib\\site-packages\\geopandas\\_compat.py:106: UserWarning: The Shapely GEOS version (3.9.1dev-CAPI-1.14.1) is incompatible with the GEOS version PyGEOS was compiled with (3.9.1-CAPI-1.14.2). Conversions between both will be slow.\n",
      "  warnings.warn(\n"
     ]
    }
   ],
   "source": [
    "import descartes\n",
    "import geopandas as gpd\n",
    "from shapely.geometry import Point, Polygon\n",
    "import pyproj"
   ]
  },
  {
   "cell_type": "markdown",
   "metadata": {},
   "source": [
    "### Phoenix"
   ]
  },
  {
   "cell_type": "code",
   "execution_count": 36,
   "metadata": {},
   "outputs": [
    {
     "data": {
      "text/plain": [
       "<AxesSubplot:>"
      ]
     },
     "execution_count": 36,
     "metadata": {},
     "output_type": "execute_result"
    }
   ],
   "source": [
    "phoenix_map = gpd.read_file('/Users/Ubaid/Projects/msc/COMP0047 - Data Science/Arizona/Zoning.shp')\n",
    "phoenix_map_geo = phoenix_map.to_crs(epsg=4326)\n",
    "fig, ax = plt.subplots(figsize = (15,15))\n",
    "phoenix_map_geo.plot(ax=ax, color = 'grey')"
   ]
  },
  {
   "cell_type": "code",
   "execution_count": 37,
   "metadata": {},
   "outputs": [],
   "source": [
    "phoenix_r = az_restaurants[az_restaurants['city'] == 'Phoenix']\n",
    "phoenix_r.reset_index(drop=True, inplace=True)"
   ]
  },
  {
   "cell_type": "code",
   "execution_count": 38,
   "metadata": {},
   "outputs": [
    {
     "data": {
      "text/plain": [
       "[<shapely.geometry.point.Point at 0x20369909af0>,\n",
       " <shapely.geometry.point.Point at 0x20369909a00>,\n",
       " <shapely.geometry.point.Point at 0x203699099a0>]"
      ]
     },
     "execution_count": 38,
     "metadata": {},
     "output_type": "execute_result"
    }
   ],
   "source": [
    "crs = {'init': 'epsg:4326'}\n",
    "geometry = [Point(xy) for xy in zip( phoenix_r['longitude'], phoenix_r['latitude'])]\n",
    "geometry[:3]"
   ]
  },
  {
   "cell_type": "code",
   "execution_count": 39,
   "metadata": {},
   "outputs": [
    {
     "name": "stderr",
     "output_type": "stream",
     "text": [
      "<ipython-input-39-043b5eeb0366>:2: SettingWithCopyWarning: \n",
      "A value is trying to be set on a copy of a slice from a DataFrame.\n",
      "Try using .loc[row_indexer,col_indexer] = value instead\n",
      "\n",
      "See the caveats in the documentation: https://pandas.pydata.org/pandas-docs/stable/user_guide/indexing.html#returning-a-view-versus-a-copy\n",
      "  phoenix_r['min_distance'] = phx_r_min_distances\n",
      "<ipython-input-39-043b5eeb0366>:3: SettingWithCopyWarning: \n",
      "A value is trying to be set on a copy of a slice from a DataFrame.\n",
      "Try using .loc[row_indexer,col_indexer] = value instead\n",
      "\n",
      "See the caveats in the documentation: https://pandas.pydata.org/pandas-docs/stable/user_guide/indexing.html#returning-a-view-versus-a-copy\n",
      "  phoenix_r['class'] = phoenix_r.apply(lambda x: 'independent' if x['min_distance'] > 500 else 'clustered', axis=1)\n",
      "<ipython-input-39-043b5eeb0366>:4: SettingWithCopyWarning: \n",
      "A value is trying to be set on a copy of a slice from a DataFrame.\n",
      "Try using .loc[row_indexer,col_indexer] = value instead\n",
      "\n",
      "See the caveats in the documentation: https://pandas.pydata.org/pandas-docs/stable/user_guide/indexing.html#returning-a-view-versus-a-copy\n",
      "  phoenix_r['color'] = phoenix_r.apply(lambda x: 'cyan' if x['min_distance'] > 500 else 'indigo', axis = 1)\n",
      "C:\\Users\\Ubaid\\miniconda3\\envs\\msc\\lib\\site-packages\\pyproj\\crs\\crs.py:53: FutureWarning: '+init=<authority>:<code>' syntax is deprecated. '<authority>:<code>' is the preferred initialization method. When making the change, be mindful of axis order changes: https://pyproj4.github.io/pyproj/stable/gotchas.html#axis-order-changes-in-proj-6\n",
      "  return _prepare_from_string(\" \".join(pjargs))\n"
     ]
    }
   ],
   "source": [
    "#create function which assigns colors to whether they are clustered or indepedent\n",
    "phoenix_r['min_distance'] = phx_r_min_distances\n",
    "phoenix_r['class'] = phoenix_r.apply(lambda x: 'independent' if x['min_distance'] > 500 else 'clustered', axis=1)\n",
    "phoenix_r['color'] = phoenix_r.apply(lambda x: 'cyan' if x['min_distance'] > 500 else 'indigo', axis = 1)\n",
    "geo_df = gpd.GeoDataFrame(phoenix_r, crs=crs, geometry=geometry)"
   ]
  },
  {
   "cell_type": "code",
   "execution_count": 40,
   "metadata": {},
   "outputs": [],
   "source": [
    "az_city_colors = list(map(lambda x: np.where(az_restaurants['city'].unique() == x)[0][0],az_restaurants['city']))\n",
    "az_city_colors = np.array(az_city_colors)"
   ]
  },
  {
   "cell_type": "code",
   "execution_count": 41,
   "metadata": {},
   "outputs": [],
   "source": [
    "import matplotlib.patches as mpatches\n",
    "%matplotlib qt\n",
    "mpl.rcParams['ytick.major.pad']='10'\n",
    "fig, ax = plt.subplots(figsize = (10,20))\n",
    "phoenix_map_geo.plot(ax=ax, color='grey')\n",
    "geo_df.plot(ax=ax, markersize = 3, marker = 'x', color=phoenix_r['color'])\n",
    "plt.xlabel(\"$Longitude$\")\n",
    "plt.ylabel(\"$Latitude$\")\n",
    "plt.title(\"Independent and clustered restaurants in Phoenix, Arizona\")\n",
    "'''\n",
    "plt.setp(ax.get_xticklabels(), rotation=90, va=\"top\", ha=\"center\")\n",
    "plt.setp(ax.get_yticklabels(), rotation=270, va=\"center\", ha=\"left\")\n",
    "ax.set_ylabel(\"Latitude\", rotation=90)\n",
    "ax.set_xlabel(\"Longitude\", rotation=180)\n",
    "ax.yaxis.tick_right()\n",
    "ax.yaxis.set_label_position(\"right\")\n",
    "\n",
    "ax.text(-0.10,0.5,\"Independent and clustered restaruants in Phoenix, Arizona\", ha=\"center\", va=\"center\",\n",
    "        transform=ax.transAxes, rotation=90)\n",
    "'''\n",
    "cyan_patch = mpatches.Patch(color='indigo', label='clustered')\n",
    "indigo_patch = mpatches.Patch(color='cyan', label='independent')\n",
    "\n",
    "plt.legend(handles=[cyan_patch, indigo_patch], loc='best')\n",
    "\n",
    "\n",
    "if savefig: plt.savefig(\"phoenix.jpg\")\n",
    "plt.show()"
   ]
  },
  {
   "cell_type": "code",
   "execution_count": null,
   "metadata": {},
   "outputs": [],
   "source": [
    "az_r_distances = measure_matrix(az_restaurants)\n",
    "az_r_distances = pd.DataFrame(az_r_distances)\n",
    "az_r_distances.replace(0, np.nan, inplace=True)"
   ]
  },
  {
   "cell_type": "code",
   "execution_count": null,
   "metadata": {},
   "outputs": [],
   "source": [
    "plt.hist(az_r_distances.min(), bins=np.arange(0,25000,1000))\n",
    "plt.yscale('log')"
   ]
  },
  {
   "cell_type": "code",
   "execution_count": null,
   "metadata": {},
   "outputs": [],
   "source": [
    "az_restaurants['min_distance'] = az_r_distances.min()\n",
    "az_restaurants['class'] = az_restaurants.apply(lambda x: 'independent' if x['min_distance'] > 500 else 'clustered', axis=1)\n",
    "az_restaurants['color'] = az_restaurants.apply(lambda x: 'orange' if x['min_distance'] > 500 else 'indigo', axis = 1)"
   ]
  },
  {
   "cell_type": "code",
   "execution_count": null,
   "metadata": {},
   "outputs": [],
   "source": [
    "plt.scatter(az_restaurants['longitude'], az_restaurants['latitude'], c=az_restaurants['color'], s=3)"
   ]
  },
  {
   "cell_type": "markdown",
   "metadata": {},
   "source": [
    "## Comparing distributions\n",
    "\n",
    "Firstly for Arizona."
   ]
  },
  {
   "cell_type": "code",
   "execution_count": null,
   "metadata": {},
   "outputs": [],
   "source": [
    "az_ind = az_restaurants[az_restaurants['class'] == 'independent']\n",
    "az_clust = az_restaurants[az_restaurants['class'] == 'clustered']"
   ]
  },
  {
   "cell_type": "code",
   "execution_count": null,
   "metadata": {},
   "outputs": [],
   "source": [
    "bins = np.unique(np.sort(ind['stars']))"
   ]
  },
  {
   "cell_type": "code",
   "execution_count": null,
   "metadata": {},
   "outputs": [],
   "source": [
    "ind = az_ind\n",
    "clust=az_clust\n",
    "# moments\n",
    "m_az_i = np.mean(ind[\"stars\"].values)\n",
    "v_az_i = np.var(ind[\"stars\"].values)\n",
    "std_dev_az_i = np.sqrt(v_az_i)\n",
    "s_az_i = si.skew(ind[\"stars\"].values)\n",
    "k_az_i = si.kurtosis(ind[\"stars\"].values)\n",
    "\n",
    "# moments\n",
    "m_az_c = np.mean(clust[\"stars\"].values)\n",
    "v_az_c = np.var(clust[\"stars\"].values)\n",
    "std_dev_az_c = np.sqrt(v_az_c)\n",
    "s_az_c = si.skew(clust[\"stars\"].values)\n",
    "k_az_c = si.kurtosis(clust[\"stars\"].values)\n",
    "\n",
    "# Z-statistic\n",
    "z_i = (m_az_i-m_az_c)/np.sqrt(std_dev_az_i + std_dev_az_c)\n",
    "\n",
    "# Kolmogorov-Smirnov test for two samples\n",
    "stat_i, pval_i = si.ks_2samp(ind[\"stars\"].values, clust[\"stars\"].values)\n",
    "critical_i = 1.36*np.sqrt((ind[\"stars\"].size + clust[\"stars\"].size)/(ind[\"stars\"].size * clust[\"stars\"].size) )\n",
    "\n",
    "# Anderson Darling test for two samples\n",
    "ad_i, crit_vals, sig = si.anderson_ksamp([ind[\"stars\"].values,clust[\"stars\"].values])"
   ]
  },
  {
   "cell_type": "code",
   "execution_count": null,
   "metadata": {},
   "outputs": [],
   "source": [
    "# save results\n",
    "print(\"### Arizona Independent Rsetaurants ###\")\n",
    "print(\"### Moments ###\")\n",
    "print(\"Mean:      {0:.3f}\".format(m_az_i))\n",
    "print(\"Variance:  {0:.3f}\".format(v_az_i))\n",
    "print(\"Std Dev:   {0:.3f}\".format(std_dev_az_i))\n",
    "print(\"Skewness:  {0:.3f}\".format(s_az_i))\n",
    "print(\"Kurtosis:  {0:.3f}\\n\".format(k_az_i))\n",
    "print(\"### Arizona Clustered Restaurants ###\")\n",
    "print(\"### Moments ###\")\n",
    "print(\"Mean:      {0:.3f}\".format(m_az_c))\n",
    "print(\"Variance:  {0:.3f}\".format(v_az_c))\n",
    "print(\"Std Dev:   {0:.3f}\".format(std_dev_az_c))\n",
    "print(\"Skewness:  {0:.3f}\".format(s_az_c))\n",
    "print(\"Kurtosis:  {0:.3f}\\n\".format(k_az_c))\n",
    "print(\"### Comparision ###\")\n",
    "print(\"Z-test:   {:.3f}\".format(z_i))\n",
    "print(\"### Anderson Darling ###\")\n",
    "print(\"AD statistic: {:.3f}\".format(ad_i))\n",
    "print(\"AD critical values: {}\".format(crit_vals))\n",
    "print(\"K-S, statistic: {:.3f}\".format(stat_i))\n",
    "print(\"K-S, p-value:   {:.3f}\".format(pval_i))\n",
    "print(\"Critical value: {:.3f}\".format(critical_i))\n",
    "if stat_i < critical_i:\n",
    "    print(\"Do not reject the null hypothesis\")\n",
    "else:\n",
    "    print(\"Reject the null hypothesis\")"
   ]
  },
  {
   "cell_type": "code",
   "execution_count": null,
   "metadata": {},
   "outputs": [],
   "source": [
    "fig = plt.figure(figsize=(5,5))\n",
    "plt.hist(ind[\"stars\"],bins=bins,alpha=0.5,density=True,color=\"r\")\n",
    "plt.hist(clust[\"stars\"],bins=bins,alpha=0.5,density=True,color=\"b\")\n",
    "# plt.yscale(\"log\")\n",
    "plt.title(\"Histogram\")\n",
    "plt.xlabel(\"Stars\")\n",
    "plt.ylabel(\"Density\")\n",
    "plt.tight_layout()\n",
    "plt.legend([\"Independent\",\"Clustered\"],loc=\"best\")\n",
    "if savefig: plt.savefig(\"az_histogram.jpg\")\n",
    "plt.show()"
   ]
  },
  {
   "cell_type": "code",
   "execution_count": null,
   "metadata": {},
   "outputs": [],
   "source": [
    "fig, ax = plt.subplots(figsize=(10, 5))\n",
    "\n",
    "# plot the cumulative histogram\n",
    "n, bins, patches = ax.hist(ind[\"stars\"], bins=bins, density=True, histtype='step',\n",
    "                           cumulative=True, label='Empirical',color='b')\n",
    "n_2, bins_2, _ = ax.hist(clust[\"stars\"], bins=bins, density=True, histtype='step',\n",
    "                           cumulative=True, label='Empirical',color='r')\n",
    "# Add a line showing the expected distribution.\n",
    "#y = ((1 / (np.sqrt(2 * np.pi) * std_dev_p)) *\n",
    "#np.exp(-0.5 * (1 / std_dev_p * (bins - m_p))**2))\n",
    "#y = y.cumsum()\n",
    "#y /= y[-1]\n",
    "# ax.plot(bins, y, 'k--', linewidth=1.5, label='Theoretical',color='g')\n",
    "ax.legend([\"Independent\", \"Clustered\"], loc=\"best\")\n",
    "plt.title(\"CDF\")\n",
    "plt.xlabel(\"$X$\")\n",
    "plt.ylabel(\"$C(x)$\")\n",
    "plt.tight_layout()\n",
    "if savefig: plt.savefig(\"az_cdf.jpg\")\n",
    "plt.show()"
   ]
  },
  {
   "cell_type": "code",
   "execution_count": null,
   "metadata": {},
   "outputs": [],
   "source": [
    "fig, ax1 = plt.subplots(figsize=(5,5))\n",
    "data = [ind[\"stars\"], clust[\"stars\"]]\n",
    "# plt.boxplot(penn[\"stars\"])\n",
    "plt.boxplot(data)\n",
    "plt.title(\"Box Plot\")\n",
    "ax1.set_xticklabels([\"Independent\",\"Clustered\"])\n",
    "plt.xlabel(\"$Class$\")\n",
    "plt.ylabel(\"$Rating$\")\n",
    "plt.tight_layout()\n",
    "if savefig: plt.savefig(\"az_boxplot.jpg\")\n",
    "plt.show()"
   ]
  },
  {
   "cell_type": "markdown",
   "metadata": {},
   "source": [
    "# Mexican and Chinese \n",
    "\n",
    "We want to compare the distribution of indepedent and clustered for each of the 2 cuisines in the all the data available.  We choose this state in particular because it has the most data entries for the 2 types of cuisine above.  We allow this since we see that there is only one state with one restaurant of either Mexican and Chinese and therefore since we are using minimum distances for our clustering, not paying any attention to relative geographical locations from state to state is not an issue"
   ]
  },
  {
   "cell_type": "code",
   "execution_count": null,
   "metadata": {},
   "outputs": [],
   "source": [
    "def get_restaurants(cuisine, df):\n",
    "    N = len(df)\n",
    "    idx = []\n",
    "    for i in range(N):\n",
    "        cats = df['categories'][i]\n",
    "        if 'Restaurants' in cats:\n",
    "            if cuisine in cats:\n",
    "                idx.append(i)\n",
    "                    \n",
    "    restaurants = df[df.index.isin(idx)]\n",
    "    restaurants.reset_index(drop=True, inplace=True)\n",
    "    return restaurants[restaurants['state'] != 'ELN']"
   ]
  },
  {
   "cell_type": "code",
   "execution_count": null,
   "metadata": {},
   "outputs": [],
   "source": [
    "mexican_r = get_restaurants('Mexican', bus)\n",
    "italian_r = get_restaurants('Italian', bus)\n",
    "chinese_r = get_restaurants('Chinese', bus)"
   ]
  },
  {
   "cell_type": "code",
   "execution_count": null,
   "metadata": {},
   "outputs": [],
   "source": [
    "mexican_r_dist = pd.DataFrame(measure_matrix(mexican_r))\n",
    "mexican_r_dist.reset_index(drop=True, inplace=True)\n",
    "mexican_r_dist.replace(0, np.nan, inplace=True)"
   ]
  },
  {
   "cell_type": "code",
   "execution_count": null,
   "metadata": {},
   "outputs": [],
   "source": [
    "chinese_r_dist = pd.DataFrame(measure_matrix(chinese_r))\n",
    "chinese_r_dist.reset_index(drop=True, inplace=True)\n",
    "chinese_r_dist.replace(0, np.nan, inplace=True)"
   ]
  },
  {
   "cell_type": "code",
   "execution_count": null,
   "metadata": {},
   "outputs": [],
   "source": [
    "def add_class(df, distances):\n",
    "    df['min_distance'] = distances.min()\n",
    "    df['class'] = df.apply(lambda x: 'independent' if x['min_distance'] > 500 else 'clustered', axis=1)\n",
    "    df['color'] = df.apply(lambda x: 'cyan' if x['min_distance'] > 500 else 'indigo', axis = 1)\n",
    "    return df"
   ]
  },
  {
   "cell_type": "code",
   "execution_count": null,
   "metadata": {},
   "outputs": [],
   "source": [
    "mexican_r = add_class(mexican_r,mexican_r_dist)\n",
    "chinese_r = add_class(chinese_r, chinese_r_dist)"
   ]
  },
  {
   "cell_type": "code",
   "execution_count": null,
   "metadata": {},
   "outputs": [],
   "source": [
    "mexican_r_i = mexican_r[mexican_r['class'] == 'independent']\n",
    "mexican_r_c = mexican_r[mexican_r['class'] == 'clustered']\n",
    "chinese_r_i = chinese_r[chinese_r['class'] == 'independent']\n",
    "chinese_r_c = chinese_r[chinese_r['class'] == 'clustered']"
   ]
  },
  {
   "cell_type": "code",
   "execution_count": null,
   "metadata": {},
   "outputs": [],
   "source": [
    "plt.scatter(mexican_r['longitude'], mexican_r['latitude'], c=mexican_r['color'], s=3)"
   ]
  },
  {
   "cell_type": "code",
   "execution_count": null,
   "metadata": {},
   "outputs": [],
   "source": [
    "sum(mexican_r['class'] != 'independent')"
   ]
  },
  {
   "cell_type": "code",
   "execution_count": null,
   "metadata": {},
   "outputs": [],
   "source": [
    "plt.scatter(mexican_r[\"stars\"].values, mexican_r_dist.min(), alpha=.1)\n",
    "plt.ylim(0,5000)"
   ]
  },
  {
   "cell_type": "code",
   "execution_count": null,
   "metadata": {},
   "outputs": [],
   "source": [
    "plt.hist(mexican_r_dist.min())\n",
    "plt.yscale('log')"
   ]
  },
  {
   "cell_type": "code",
   "execution_count": null,
   "metadata": {},
   "outputs": [],
   "source": [
    "mexican_r"
   ]
  },
  {
   "cell_type": "markdown",
   "metadata": {},
   "source": [
    "# Correlation\n",
    "\n",
    "## Kendall's Tau "
   ]
  },
  {
   "cell_type": "code",
   "execution_count": null,
   "metadata": {},
   "outputs": [],
   "source": []
  },
  {
   "cell_type": "markdown",
   "metadata": {},
   "source": [
    "## Spearmans Rank Coefficient "
   ]
  },
  {
   "cell_type": "code",
   "execution_count": null,
   "metadata": {},
   "outputs": [],
   "source": []
  }
 ],
 "metadata": {
  "kernelspec": {
   "display_name": "Python 3",
   "language": "python",
   "name": "python3"
  },
  "language_info": {
   "codemirror_mode": {
    "name": "ipython",
    "version": 3
   },
   "file_extension": ".py",
   "mimetype": "text/x-python",
   "name": "python",
   "nbconvert_exporter": "python",
   "pygments_lexer": "ipython3",
   "version": "3.9.2"
  }
 },
 "nbformat": 4,
 "nbformat_minor": 4
}
