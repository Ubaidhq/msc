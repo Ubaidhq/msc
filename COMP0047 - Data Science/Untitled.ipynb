{
 "cells": [
  {
   "cell_type": "code",
<<<<<<< HEAD
   "execution_count": 116,
=======
   "execution_count": 1,
>>>>>>> c40e698759a01f44ebe12fe340556bdae901445a
   "metadata": {},
   "outputs": [],
   "source": [
    "import json\n",
    "import pandas as pd\n",
    "import numpy as np\n",
    "import matplotlib.pyplot as plt\n",
<<<<<<< HEAD
    "import math\n",
    "plt.style.use('ggplot')"
   ]
  },
  {
   "cell_type": "markdown",
   "metadata": {},
   "source": [
    "# Exploratory data work"
=======
    "import math"
>>>>>>> c40e698759a01f44ebe12fe340556bdae901445a
   ]
  },
  {
   "cell_type": "code",
<<<<<<< HEAD
   "execution_count": 49,
=======
   "execution_count": 3,
>>>>>>> c40e698759a01f44ebe12fe340556bdae901445a
   "metadata": {},
   "outputs": [],
   "source": [
    "bus = []  \n",
    "for line in open(\"yelp_academic_dataset_business.json\", 'r'):\n",
    "    bus.append(json.loads(line))\n",
    "bus = pd.DataFrame(bus) "
   ]
  },
  {
   "cell_type": "code",
<<<<<<< HEAD
   "execution_count": 50,
=======
   "execution_count": 11,
>>>>>>> c40e698759a01f44ebe12fe340556bdae901445a
   "metadata": {},
   "outputs": [],
   "source": [
    "idx = []\n",
    "for i in range(len(bus)):\n",
    "    cat = bus['categories'][i]\n",
    "    if 'Restaurants' in cat:\n",
    "        if 'Mexican' in cat:\n",
    "            idx.append(i)"
   ]
  },
  {
   "cell_type": "code",
<<<<<<< HEAD
   "execution_count": 51,
=======
   "execution_count": 18,
>>>>>>> c40e698759a01f44ebe12fe340556bdae901445a
   "metadata": {},
   "outputs": [
    {
     "data": {
      "text/html": [
       "<div>\n",
       "<style scoped>\n",
       "    .dataframe tbody tr th:only-of-type {\n",
       "        vertical-align: middle;\n",
       "    }\n",
       "\n",
       "    .dataframe tbody tr th {\n",
       "        vertical-align: top;\n",
       "    }\n",
       "\n",
       "    .dataframe thead th {\n",
       "        text-align: right;\n",
       "    }\n",
       "</style>\n",
       "<table border=\"1\" class=\"dataframe\">\n",
       "  <thead>\n",
       "    <tr style=\"text-align: right;\">\n",
       "      <th></th>\n",
       "      <th>index</th>\n",
       "      <th>business_id</th>\n",
       "      <th>full_address</th>\n",
       "      <th>hours</th>\n",
       "      <th>open</th>\n",
       "      <th>categories</th>\n",
       "      <th>city</th>\n",
       "      <th>review_count</th>\n",
       "      <th>name</th>\n",
       "      <th>neighborhoods</th>\n",
       "      <th>longitude</th>\n",
       "      <th>state</th>\n",
       "      <th>stars</th>\n",
       "      <th>latitude</th>\n",
       "      <th>attributes</th>\n",
       "      <th>type</th>\n",
       "    </tr>\n",
       "  </thead>\n",
       "  <tbody>\n",
       "    <tr>\n",
       "      <th>0</th>\n",
       "      <td>340</td>\n",
       "      <td>JL5B_s1EoN4zIru4JSw4Qg</td>\n",
       "      <td>1603 S Braddock Ave\\nPittsburgh, PA 15218</td>\n",
       "      <td>{'Monday': {'close': '01:00', 'open': '07:00'}...</td>\n",
       "      <td>True</td>\n",
       "      <td>[Fast Food, Mexican, Tex-Mex, Restaurants]</td>\n",
       "      <td>Pittsburgh</td>\n",
       "      <td>6</td>\n",
       "      <td>Taco Bell</td>\n",
       "      <td>[]</td>\n",
       "      <td>-79.890649</td>\n",
       "      <td>PA</td>\n",
       "      <td>3.5</td>\n",
       "      <td>40.427135</td>\n",
       "      <td>{'Take-out': True, 'Wi-Fi': 'no', 'Drive-Thru'...</td>\n",
       "      <td>business</td>\n",
       "    </tr>\n",
       "    <tr>\n",
       "      <th>1</th>\n",
       "      <td>357</td>\n",
       "      <td>hhNlQWaKqGbMPoeZHoL-IQ</td>\n",
       "      <td>Scott Towne Center\\n2101 Greentree Rd\\nPittsbu...</td>\n",
       "      <td>{'Monday': {'close': '23:00', 'open': '11:00'}...</td>\n",
       "      <td>True</td>\n",
       "      <td>[Mexican, Tex-Mex, Restaurants]</td>\n",
       "      <td>Pittsburgh</td>\n",
       "      <td>94</td>\n",
       "      <td>Mad Mex - South Hills</td>\n",
       "      <td>[]</td>\n",
       "      <td>-80.070806</td>\n",
       "      <td>PA</td>\n",
       "      <td>3.5</td>\n",
       "      <td>40.390698</td>\n",
       "      <td>{'Take-out': True, 'Wi-Fi': 'free', 'Good For'...</td>\n",
       "      <td>business</td>\n",
       "    </tr>\n",
       "    <tr>\n",
       "      <th>2</th>\n",
       "      <td>416</td>\n",
       "      <td>buVALudg30kgkDusqB3yJw</td>\n",
       "      <td>2023 Penn Ave\\nStrip District\\nPittsburgh, PA ...</td>\n",
       "      <td>{'Monday': {'close': '16:00', 'open': '09:00'}...</td>\n",
       "      <td>True</td>\n",
       "      <td>[Food, Grocery, Mexican, Restaurants]</td>\n",
       "      <td>Pittsburgh</td>\n",
       "      <td>88</td>\n",
       "      <td>Reyna Foods</td>\n",
       "      <td>[Strip District]</td>\n",
       "      <td>-79.983403</td>\n",
       "      <td>PA</td>\n",
       "      <td>4.0</td>\n",
       "      <td>40.451486</td>\n",
       "      <td>{'Take-out': True, 'Wi-Fi': 'no', 'Good For': ...</td>\n",
       "      <td>business</td>\n",
       "    </tr>\n",
       "    <tr>\n",
       "      <th>3</th>\n",
       "      <td>449</td>\n",
       "      <td>8AskFIgGxqNb8RbcDCAfmA</td>\n",
       "      <td>441 Smithfield St\\nDowntown\\nPittsburgh, PA 15222</td>\n",
       "      <td>{'Friday': {'close': '15:00', 'open': '10:30'}...</td>\n",
       "      <td>False</td>\n",
       "      <td>[Mexican, Restaurants]</td>\n",
       "      <td>Pittsburgh</td>\n",
       "      <td>8</td>\n",
       "      <td>Madonna's Restaurant</td>\n",
       "      <td>[Downtown]</td>\n",
       "      <td>-79.999201</td>\n",
       "      <td>PA</td>\n",
       "      <td>4.0</td>\n",
       "      <td>40.439590</td>\n",
       "      <td>{'Take-out': True, 'Wi-Fi': 'no', 'Good For': ...</td>\n",
       "      <td>business</td>\n",
       "    </tr>\n",
       "    <tr>\n",
       "      <th>4</th>\n",
       "      <td>767</td>\n",
       "      <td>31cEXlDSos9C7FNtwtQHIw</td>\n",
       "      <td>825 Freeport Rd.\\nPittsburgh, PA 15238</td>\n",
       "      <td>{'Monday': {'close': '01:00', 'open': '07:00'}...</td>\n",
       "      <td>True</td>\n",
       "      <td>[Fast Food, Mexican, Tex-Mex, Restaurants]</td>\n",
       "      <td>Pittsburgh</td>\n",
       "      <td>4</td>\n",
       "      <td>Taco Bell</td>\n",
       "      <td>[]</td>\n",
       "      <td>-79.894991</td>\n",
       "      <td>PA</td>\n",
       "      <td>3.5</td>\n",
       "      <td>40.487466</td>\n",
       "      <td>{'Take-out': True, 'Wi-Fi': 'free', 'Drive-Thr...</td>\n",
       "      <td>business</td>\n",
       "    </tr>\n",
       "    <tr>\n",
       "      <th>...</th>\n",
       "      <td>...</td>\n",
       "      <td>...</td>\n",
       "      <td>...</td>\n",
       "      <td>...</td>\n",
       "      <td>...</td>\n",
       "      <td>...</td>\n",
       "      <td>...</td>\n",
       "      <td>...</td>\n",
       "      <td>...</td>\n",
       "      <td>...</td>\n",
       "      <td>...</td>\n",
       "      <td>...</td>\n",
       "      <td>...</td>\n",
       "      <td>...</td>\n",
       "      <td>...</td>\n",
       "      <td>...</td>\n",
       "    </tr>\n",
       "    <tr>\n",
       "      <th>2700</th>\n",
       "      <td>85845</td>\n",
       "      <td>zFJaMw8uz4ZQysu_UG32AQ</td>\n",
       "      <td>Tuscany Suites Casino\\n255 E Flamingo Rd\\nEast...</td>\n",
       "      <td>{'Monday': {'close': '04:00', 'open': '11:00'}...</td>\n",
       "      <td>True</td>\n",
       "      <td>[Bars, American (Traditional), Mexican, Pubs, ...</td>\n",
       "      <td>Las Vegas</td>\n",
       "      <td>21</td>\n",
       "      <td>PUB 365</td>\n",
       "      <td>[Eastside]</td>\n",
       "      <td>-115.159705</td>\n",
       "      <td>NV</td>\n",
       "      <td>4.0</td>\n",
       "      <td>36.114125</td>\n",
       "      <td>{'Alcohol': 'full_bar', 'Noise Level': 'averag...</td>\n",
       "      <td>business</td>\n",
       "    </tr>\n",
       "    <tr>\n",
       "      <th>2701</th>\n",
       "      <td>85850</td>\n",
       "      <td>x3SMg756CcEgxkay3s3v3w</td>\n",
       "      <td>1985 W Happy Valley Rd\\nSte 120\\nPhoenix, AZ 8...</td>\n",
       "      <td>{'Monday': {'close': '21:00', 'open': '07:30'}...</td>\n",
       "      <td>True</td>\n",
       "      <td>[Mexican, Restaurants]</td>\n",
       "      <td>Phoenix</td>\n",
       "      <td>6</td>\n",
       "      <td>Mi Familia Mexican Food</td>\n",
       "      <td>[]</td>\n",
       "      <td>-112.102009</td>\n",
       "      <td>AZ</td>\n",
       "      <td>2.5</td>\n",
       "      <td>33.712247</td>\n",
       "      <td>{'Take-out': True, 'Accepts Credit Cards': Tru...</td>\n",
       "      <td>business</td>\n",
       "    </tr>\n",
       "    <tr>\n",
       "      <th>2702</th>\n",
       "      <td>85861</td>\n",
       "      <td>8X2ZAL2ch1k_BEW2cK-GWA</td>\n",
       "      <td>8427 W Peoria Ave\\nPeoria, AZ 85345</td>\n",
       "      <td>{}</td>\n",
       "      <td>True</td>\n",
       "      <td>[Bars, Mexican, Seafood, Dive Bars, Nightlife,...</td>\n",
       "      <td>Peoria</td>\n",
       "      <td>4</td>\n",
       "      <td>El Alboroto Mariscos &amp; Chavelas</td>\n",
       "      <td>[]</td>\n",
       "      <td>-112.240464</td>\n",
       "      <td>AZ</td>\n",
       "      <td>4.0</td>\n",
       "      <td>33.581087</td>\n",
       "      <td>{}</td>\n",
       "      <td>business</td>\n",
       "    </tr>\n",
       "    <tr>\n",
       "      <th>2703</th>\n",
       "      <td>85897</td>\n",
       "      <td>g0vvhkZWZKlwF8BUeSPaTA</td>\n",
       "      <td>525 N Estrella Pkwy\\nSte 100\\nGoodyear, AZ 85338</td>\n",
       "      <td>{}</td>\n",
       "      <td>True</td>\n",
       "      <td>[Mexican, Restaurants]</td>\n",
       "      <td>Goodyear</td>\n",
       "      <td>89</td>\n",
       "      <td>Senor Taco</td>\n",
       "      <td>[]</td>\n",
       "      <td>-112.392009</td>\n",
       "      <td>AZ</td>\n",
       "      <td>3.5</td>\n",
       "      <td>33.452205</td>\n",
       "      <td>{'Take-out': True, 'Wi-Fi': 'no', 'Good For': ...</td>\n",
       "      <td>business</td>\n",
       "    </tr>\n",
       "    <tr>\n",
       "      <th>2704</th>\n",
       "      <td>85900</td>\n",
       "      <td>DH2Ujt_hwcMBIz8VvCb0Lg</td>\n",
       "      <td>Charlotte Douglas International Airport Termin...</td>\n",
       "      <td>{}</td>\n",
       "      <td>True</td>\n",
       "      <td>[Mexican, Restaurants]</td>\n",
       "      <td>Charlotte</td>\n",
       "      <td>57</td>\n",
       "      <td>Salsarita's Express</td>\n",
       "      <td>[]</td>\n",
       "      <td>-80.940290</td>\n",
       "      <td>NC</td>\n",
       "      <td>2.5</td>\n",
       "      <td>35.224223</td>\n",
       "      <td>{}</td>\n",
       "      <td>business</td>\n",
       "    </tr>\n",
       "  </tbody>\n",
       "</table>\n",
       "<p>2705 rows × 16 columns</p>\n",
       "</div>"
      ],
      "text/plain": [
       "      index             business_id  \\\n",
       "0       340  JL5B_s1EoN4zIru4JSw4Qg   \n",
       "1       357  hhNlQWaKqGbMPoeZHoL-IQ   \n",
       "2       416  buVALudg30kgkDusqB3yJw   \n",
       "3       449  8AskFIgGxqNb8RbcDCAfmA   \n",
       "4       767  31cEXlDSos9C7FNtwtQHIw   \n",
       "...     ...                     ...   \n",
       "2700  85845  zFJaMw8uz4ZQysu_UG32AQ   \n",
       "2701  85850  x3SMg756CcEgxkay3s3v3w   \n",
       "2702  85861  8X2ZAL2ch1k_BEW2cK-GWA   \n",
       "2703  85897  g0vvhkZWZKlwF8BUeSPaTA   \n",
       "2704  85900  DH2Ujt_hwcMBIz8VvCb0Lg   \n",
       "\n",
       "                                           full_address  \\\n",
       "0             1603 S Braddock Ave\\nPittsburgh, PA 15218   \n",
       "1     Scott Towne Center\\n2101 Greentree Rd\\nPittsbu...   \n",
       "2     2023 Penn Ave\\nStrip District\\nPittsburgh, PA ...   \n",
       "3     441 Smithfield St\\nDowntown\\nPittsburgh, PA 15222   \n",
       "4                825 Freeport Rd.\\nPittsburgh, PA 15238   \n",
       "...                                                 ...   \n",
       "2700  Tuscany Suites Casino\\n255 E Flamingo Rd\\nEast...   \n",
       "2701  1985 W Happy Valley Rd\\nSte 120\\nPhoenix, AZ 8...   \n",
       "2702                8427 W Peoria Ave\\nPeoria, AZ 85345   \n",
       "2703   525 N Estrella Pkwy\\nSte 100\\nGoodyear, AZ 85338   \n",
       "2704  Charlotte Douglas International Airport Termin...   \n",
       "\n",
       "                                                  hours   open  \\\n",
       "0     {'Monday': {'close': '01:00', 'open': '07:00'}...   True   \n",
       "1     {'Monday': {'close': '23:00', 'open': '11:00'}...   True   \n",
       "2     {'Monday': {'close': '16:00', 'open': '09:00'}...   True   \n",
       "3     {'Friday': {'close': '15:00', 'open': '10:30'}...  False   \n",
       "4     {'Monday': {'close': '01:00', 'open': '07:00'}...   True   \n",
       "...                                                 ...    ...   \n",
       "2700  {'Monday': {'close': '04:00', 'open': '11:00'}...   True   \n",
       "2701  {'Monday': {'close': '21:00', 'open': '07:30'}...   True   \n",
       "2702                                                 {}   True   \n",
       "2703                                                 {}   True   \n",
       "2704                                                 {}   True   \n",
       "\n",
       "                                             categories        city  \\\n",
       "0            [Fast Food, Mexican, Tex-Mex, Restaurants]  Pittsburgh   \n",
       "1                       [Mexican, Tex-Mex, Restaurants]  Pittsburgh   \n",
       "2                 [Food, Grocery, Mexican, Restaurants]  Pittsburgh   \n",
       "3                                [Mexican, Restaurants]  Pittsburgh   \n",
       "4            [Fast Food, Mexican, Tex-Mex, Restaurants]  Pittsburgh   \n",
       "...                                                 ...         ...   \n",
       "2700  [Bars, American (Traditional), Mexican, Pubs, ...   Las Vegas   \n",
       "2701                             [Mexican, Restaurants]     Phoenix   \n",
       "2702  [Bars, Mexican, Seafood, Dive Bars, Nightlife,...      Peoria   \n",
       "2703                             [Mexican, Restaurants]    Goodyear   \n",
       "2704                             [Mexican, Restaurants]   Charlotte   \n",
       "\n",
       "      review_count                             name     neighborhoods  \\\n",
       "0                6                        Taco Bell                []   \n",
       "1               94            Mad Mex - South Hills                []   \n",
       "2               88                      Reyna Foods  [Strip District]   \n",
       "3                8             Madonna's Restaurant        [Downtown]   \n",
       "4                4                        Taco Bell                []   \n",
       "...            ...                              ...               ...   \n",
       "2700            21                          PUB 365        [Eastside]   \n",
       "2701             6          Mi Familia Mexican Food                []   \n",
       "2702             4  El Alboroto Mariscos & Chavelas                []   \n",
       "2703            89                       Senor Taco                []   \n",
       "2704            57              Salsarita's Express                []   \n",
       "\n",
       "       longitude state  stars   latitude  \\\n",
       "0     -79.890649    PA    3.5  40.427135   \n",
       "1     -80.070806    PA    3.5  40.390698   \n",
       "2     -79.983403    PA    4.0  40.451486   \n",
       "3     -79.999201    PA    4.0  40.439590   \n",
       "4     -79.894991    PA    3.5  40.487466   \n",
       "...          ...   ...    ...        ...   \n",
       "2700 -115.159705    NV    4.0  36.114125   \n",
       "2701 -112.102009    AZ    2.5  33.712247   \n",
       "2702 -112.240464    AZ    4.0  33.581087   \n",
       "2703 -112.392009    AZ    3.5  33.452205   \n",
       "2704  -80.940290    NC    2.5  35.224223   \n",
       "\n",
       "                                             attributes      type  \n",
       "0     {'Take-out': True, 'Wi-Fi': 'no', 'Drive-Thru'...  business  \n",
       "1     {'Take-out': True, 'Wi-Fi': 'free', 'Good For'...  business  \n",
       "2     {'Take-out': True, 'Wi-Fi': 'no', 'Good For': ...  business  \n",
       "3     {'Take-out': True, 'Wi-Fi': 'no', 'Good For': ...  business  \n",
       "4     {'Take-out': True, 'Wi-Fi': 'free', 'Drive-Thr...  business  \n",
       "...                                                 ...       ...  \n",
       "2700  {'Alcohol': 'full_bar', 'Noise Level': 'averag...  business  \n",
       "2701  {'Take-out': True, 'Accepts Credit Cards': Tru...  business  \n",
       "2702                                                 {}  business  \n",
       "2703  {'Take-out': True, 'Wi-Fi': 'no', 'Good For': ...  business  \n",
       "2704                                                 {}  business  \n",
       "\n",
       "[2705 rows x 16 columns]"
      ]
     },
<<<<<<< HEAD
     "execution_count": 51,
=======
     "execution_count": 18,
>>>>>>> c40e698759a01f44ebe12fe340556bdae901445a
     "metadata": {},
     "output_type": "execute_result"
    }
   ],
   "source": [
    "mx_r = bus[bus.index.isin(idx)]\n",
    "mx_r.reset_index()"
   ]
  },
  {
   "cell_type": "code",
<<<<<<< HEAD
   "execution_count": 52,
=======
   "execution_count": 22,
>>>>>>> c40e698759a01f44ebe12fe340556bdae901445a
   "metadata": {},
   "outputs": [
    {
     "data": {
      "text/plain": [
       "array(['PA', 'NC', 'SC', 'WI', 'IL', 'AZ', 'NV', 'QC', 'EDH', 'BW', 'ON',\n",
       "       'MLN'], dtype=object)"
      ]
     },
<<<<<<< HEAD
     "execution_count": 52,
=======
     "execution_count": 22,
>>>>>>> c40e698759a01f44ebe12fe340556bdae901445a
     "metadata": {},
     "output_type": "execute_result"
    }
   ],
   "source": [
    "mx_r['state'].unique()"
   ]
  },
  {
   "cell_type": "code",
<<<<<<< HEAD
   "execution_count": 53,
=======
   "execution_count": 29,
>>>>>>> c40e698759a01f44ebe12fe340556bdae901445a
   "metadata": {},
   "outputs": [
    {
     "data": {
      "text/plain": [
       "6"
      ]
     },
<<<<<<< HEAD
     "execution_count": 53,
=======
     "execution_count": 29,
>>>>>>> c40e698759a01f44ebe12fe340556bdae901445a
     "metadata": {},
     "output_type": "execute_result"
    }
   ],
   "source": [
    "np.where(mx_r['state'].unique() == 'NV')[0][0]"
   ]
  },
  {
   "cell_type": "code",
<<<<<<< HEAD
   "execution_count": 54,
=======
   "execution_count": 31,
>>>>>>> c40e698759a01f44ebe12fe340556bdae901445a
   "metadata": {},
   "outputs": [],
   "source": [
    "state_colors = list(map(lambda x: np.where(mx_r['state'].unique() == x)[0][0],mx_r['state']))\n",
    "    "
   ]
  },
  {
   "cell_type": "code",
<<<<<<< HEAD
   "execution_count": 55,
   "metadata": {},
   "outputs": [],
   "source": [
    "state_colors = np.array(state_colors)"
   ]
  },
  {
   "cell_type": "code",
   "execution_count": 56,
=======
   "execution_count": 37,
   "metadata": {},
   "outputs": [],
   "source": []
  },
  {
   "cell_type": "code",
   "execution_count": 38,
>>>>>>> c40e698759a01f44ebe12fe340556bdae901445a
   "metadata": {},
   "outputs": [
    {
     "data": {
      "text/plain": [
<<<<<<< HEAD
       "array([0, 0, 0, ..., 5, 5, 1], dtype=int64)"
      ]
     },
     "execution_count": 56,
     "metadata": {},
     "output_type": "execute_result"
    }
   ],
   "source": [
    "state_colors"
   ]
  },
  {
   "cell_type": "code",
   "execution_count": 57,
   "metadata": {},
   "outputs": [],
   "source": [
    "mx_r.reset_index(inplace=True)"
   ]
  },
  {
   "cell_type": "code",
   "execution_count": 58,
   "metadata": {},
   "outputs": [],
   "source": [
    "%matplotlib qt\n",
    "plt.scatter(mx_r['longitude'], mx_r['latitude'], c=state_colors)\n",
    "for i, txt in enumerate(np.array(mx_r['state'])):\n",
    "    plt.annotate(txt, (mx_r['longitude'][i], mx_r['latitude'][i]))\n",
    "plt.show()"
   ]
  },
  {
   "cell_type": "code",
   "execution_count": 59,
   "metadata": {},
   "outputs": [],
   "source": [
    "mx_r_az = mx_r[mx_r['state'] == 'AZ']"
   ]
  },
  {
   "cell_type": "code",
   "execution_count": 60,
   "metadata": {},
   "outputs": [
    {
     "data": {
      "text/plain": [
       "<matplotlib.collections.PathCollection at 0x220719e9970>"
      ]
     },
     "execution_count": 60,
     "metadata": {},
     "output_type": "execute_result"
    }
   ],
   "source": [
    "plt.scatter(mx_r_az['longitude'], mx_r_az['latitude'])"
   ]
  },
  {
   "cell_type": "code",
   "execution_count": 61,
   "metadata": {},
   "outputs": [],
   "source": [
    "az_city_colors = list(map(lambda x: np.where(mx_r_az['city'].unique() == x), mx_r_az['city']))\n",
    "az_city_colors = np.array(az_city_colors)"
   ]
  },
  {
   "cell_type": "code",
   "execution_count": 62,
   "metadata": {},
   "outputs": [
    {
     "data": {
      "text/plain": [
       "<matplotlib.collections.PathCollection at 0x22071a0dfd0>"
      ]
     },
     "execution_count": 62,
     "metadata": {},
     "output_type": "execute_result"
    }
   ],
   "source": [
    "plt.scatter(mx_r_az['longitude'], mx_r_az['latitude'], c=az_city_colors, s=2)"
   ]
  },
  {
   "cell_type": "code",
   "execution_count": 63,
   "metadata": {},
   "outputs": [
    {
     "data": {
      "text/plain": [
       "1424"
      ]
     },
     "execution_count": 63,
     "metadata": {},
     "output_type": "execute_result"
    }
   ],
   "source": [
    "len(mx_r_az)"
   ]
  },
  {
   "cell_type": "code",
   "execution_count": 64,
   "metadata": {},
   "outputs": [],
   "source": [
    "idx = []\n",
    "for i in range(len(bus)):\n",
    "    cat = bus['categories'][i]\n",
    "    if 'Restaurants' in cat:\n",
    "            idx.append(i)"
   ]
  },
  {
   "cell_type": "code",
   "execution_count": 65,
   "metadata": {},
   "outputs": [
    {
     "data": {
      "text/html": [
       "<div>\n",
       "<style scoped>\n",
       "    .dataframe tbody tr th:only-of-type {\n",
       "        vertical-align: middle;\n",
       "    }\n",
       "\n",
       "    .dataframe tbody tr th {\n",
       "        vertical-align: top;\n",
       "    }\n",
       "\n",
       "    .dataframe thead th {\n",
       "        text-align: right;\n",
       "    }\n",
       "</style>\n",
       "<table border=\"1\" class=\"dataframe\">\n",
       "  <thead>\n",
       "    <tr style=\"text-align: right;\">\n",
       "      <th></th>\n",
       "      <th>business_id</th>\n",
       "      <th>full_address</th>\n",
       "      <th>hours</th>\n",
       "      <th>open</th>\n",
       "      <th>categories</th>\n",
       "      <th>city</th>\n",
       "      <th>review_count</th>\n",
       "      <th>name</th>\n",
       "      <th>neighborhoods</th>\n",
       "      <th>longitude</th>\n",
       "      <th>state</th>\n",
       "      <th>stars</th>\n",
       "      <th>latitude</th>\n",
       "      <th>attributes</th>\n",
       "      <th>type</th>\n",
       "    </tr>\n",
       "  </thead>\n",
       "  <tbody>\n",
       "    <tr>\n",
       "      <th>0</th>\n",
       "      <td>5UmKMjUEUNdYWqANhGckJw</td>\n",
       "      <td>4734 Lebanon Church Rd\\nDravosburg, PA 15034</td>\n",
       "      <td>{'Friday': {'close': '21:00', 'open': '11:00'}...</td>\n",
       "      <td>True</td>\n",
       "      <td>[Fast Food, Restaurants]</td>\n",
       "      <td>Dravosburg</td>\n",
       "      <td>7</td>\n",
       "      <td>Mr Hoagie</td>\n",
       "      <td>[]</td>\n",
       "      <td>-79.900706</td>\n",
       "      <td>PA</td>\n",
       "      <td>3.5</td>\n",
       "      <td>40.354327</td>\n",
       "      <td>{'Take-out': True, 'Drive-Thru': False, 'Good ...</td>\n",
       "      <td>business</td>\n",
       "    </tr>\n",
       "    <tr>\n",
       "      <th>1</th>\n",
       "      <td>mVHrayjG3uZ_RLHkLj-AMg</td>\n",
       "      <td>414 Hawkins Ave\\nBraddock, PA 15104</td>\n",
       "      <td>{'Tuesday': {'close': '19:00', 'open': '10:00'...</td>\n",
       "      <td>True</td>\n",
       "      <td>[Bars, American (New), Nightlife, Lounges, Res...</td>\n",
       "      <td>Braddock</td>\n",
       "      <td>26</td>\n",
       "      <td>Emil's Lounge</td>\n",
       "      <td>[]</td>\n",
       "      <td>-79.866211</td>\n",
       "      <td>PA</td>\n",
       "      <td>4.5</td>\n",
       "      <td>40.408830</td>\n",
       "      <td>{'Alcohol': 'full_bar', 'Noise Level': 'averag...</td>\n",
       "      <td>business</td>\n",
       "    </tr>\n",
       "    <tr>\n",
       "      <th>2</th>\n",
       "      <td>KayYbHCt-RkbGcPdGOThNg</td>\n",
       "      <td>141 Hawthorne St\\nGreentree\\nCarnegie, PA 15106</td>\n",
       "      <td>{'Monday': {'close': '02:00', 'open': '11:00'}...</td>\n",
       "      <td>True</td>\n",
       "      <td>[Bars, American (Traditional), Nightlife, Rest...</td>\n",
       "      <td>Carnegie</td>\n",
       "      <td>23</td>\n",
       "      <td>Alexion's Bar &amp; Grill</td>\n",
       "      <td>[Greentree]</td>\n",
       "      <td>-80.067549</td>\n",
       "      <td>PA</td>\n",
       "      <td>4.0</td>\n",
       "      <td>40.415486</td>\n",
       "      <td>{'Alcohol': 'full_bar', 'Noise Level': 'loud',...</td>\n",
       "      <td>business</td>\n",
       "    </tr>\n",
       "    <tr>\n",
       "      <th>3</th>\n",
       "      <td>wJr6kSA5dchdgOdwH6dZ2w</td>\n",
       "      <td>2100 Washington Pike\\nCarnegie, PA 15106</td>\n",
       "      <td>{'Monday': {'close': '02:00', 'open': '08:00'}...</td>\n",
       "      <td>True</td>\n",
       "      <td>[Burgers, Breakfast &amp; Brunch, American (Tradit...</td>\n",
       "      <td>Carnegie</td>\n",
       "      <td>10</td>\n",
       "      <td>Kings Family Restaurant</td>\n",
       "      <td>[]</td>\n",
       "      <td>-80.093215</td>\n",
       "      <td>PA</td>\n",
       "      <td>3.5</td>\n",
       "      <td>40.387512</td>\n",
       "      <td>{'Take-out': True, 'Drive-Thru': False, 'Good ...</td>\n",
       "      <td>business</td>\n",
       "    </tr>\n",
       "    <tr>\n",
       "      <th>4</th>\n",
       "      <td>fNGIbpazjTRdXgwRY_NIXA</td>\n",
       "      <td>1201 Washington Ave\\nCarnegie, PA 15106</td>\n",
       "      <td>{'Monday': {'close': '23:00', 'open': '11:00'}...</td>\n",
       "      <td>True</td>\n",
       "      <td>[Bars, American (Traditional), Nightlife, Loun...</td>\n",
       "      <td>Carnegie</td>\n",
       "      <td>10</td>\n",
       "      <td>Rocky's Lounge</td>\n",
       "      <td>[]</td>\n",
       "      <td>-80.084942</td>\n",
       "      <td>PA</td>\n",
       "      <td>4.0</td>\n",
       "      <td>40.396469</td>\n",
       "      <td>{'Alcohol': 'full_bar', 'Noise Level': 'averag...</td>\n",
       "      <td>business</td>\n",
       "    </tr>\n",
       "    <tr>\n",
       "      <th>...</th>\n",
       "      <td>...</td>\n",
       "      <td>...</td>\n",
       "      <td>...</td>\n",
       "      <td>...</td>\n",
       "      <td>...</td>\n",
       "      <td>...</td>\n",
       "      <td>...</td>\n",
       "      <td>...</td>\n",
       "      <td>...</td>\n",
       "      <td>...</td>\n",
       "      <td>...</td>\n",
       "      <td>...</td>\n",
       "      <td>...</td>\n",
       "      <td>...</td>\n",
       "      <td>...</td>\n",
       "    </tr>\n",
       "    <tr>\n",
       "      <th>26724</th>\n",
       "      <td>mCiSmiZ7iNI08F6dGXP7tw</td>\n",
       "      <td>7100 W Craig Rd\\nNorthwest\\nLas Vegas, NV 89129</td>\n",
       "      <td>{'Monday': {'close': '22:00', 'open': '07:00'}...</td>\n",
       "      <td>True</td>\n",
       "      <td>[Food, Desserts, Restaurants, Bakeries, Sandwi...</td>\n",
       "      <td>Las Vegas</td>\n",
       "      <td>24</td>\n",
       "      <td>Kneaders Bakery &amp; Cafe</td>\n",
       "      <td>[Northwest]</td>\n",
       "      <td>-115.249473</td>\n",
       "      <td>NV</td>\n",
       "      <td>3.5</td>\n",
       "      <td>36.240983</td>\n",
       "      <td>{'Take-out': True, 'Wi-Fi': 'free', 'Good For'...</td>\n",
       "      <td>business</td>\n",
       "    </tr>\n",
       "    <tr>\n",
       "      <th>26725</th>\n",
       "      <td>TFCPmrQj9PD1WvnZGYO85Q</td>\n",
       "      <td>4350 E Camelback Rd\\nBldg I-100\\nPhoenix, AZ 8...</td>\n",
       "      <td>{'Monday': {'close': '14:00', 'open': '07:00'}...</td>\n",
       "      <td>True</td>\n",
       "      <td>[Breakfast &amp; Brunch, American (New), Ramen, Ja...</td>\n",
       "      <td>Phoenix</td>\n",
       "      <td>168</td>\n",
       "      <td>Chestnut</td>\n",
       "      <td>[]</td>\n",
       "      <td>-111.987108</td>\n",
       "      <td>AZ</td>\n",
       "      <td>3.5</td>\n",
       "      <td>33.510044</td>\n",
       "      <td>{'Take-out': True, 'Wi-Fi': 'free', 'Good For'...</td>\n",
       "      <td>business</td>\n",
       "    </tr>\n",
       "    <tr>\n",
       "      <th>26726</th>\n",
       "      <td>hNX62vEzvdVsMUMmYYHoPQ</td>\n",
       "      <td>5020 W Baseline Rd\\nSte 123\\nLaveen, AZ 85339</td>\n",
       "      <td>{'Monday': {'close': '23:00', 'open': '07:00'}...</td>\n",
       "      <td>True</td>\n",
       "      <td>[Bars, American (Traditional), Breakfast &amp; Bru...</td>\n",
       "      <td>Laveen</td>\n",
       "      <td>4</td>\n",
       "      <td>Greathouse Sports Grill</td>\n",
       "      <td>[]</td>\n",
       "      <td>-112.166458</td>\n",
       "      <td>AZ</td>\n",
       "      <td>2.0</td>\n",
       "      <td>33.378922</td>\n",
       "      <td>{'Take-out': True, 'Takes Reservations': False...</td>\n",
       "      <td>business</td>\n",
       "    </tr>\n",
       "    <tr>\n",
       "      <th>26727</th>\n",
       "      <td>g0vvhkZWZKlwF8BUeSPaTA</td>\n",
       "      <td>525 N Estrella Pkwy\\nSte 100\\nGoodyear, AZ 85338</td>\n",
       "      <td>{}</td>\n",
       "      <td>True</td>\n",
       "      <td>[Mexican, Restaurants]</td>\n",
       "      <td>Goodyear</td>\n",
       "      <td>89</td>\n",
       "      <td>Senor Taco</td>\n",
       "      <td>[]</td>\n",
       "      <td>-112.392009</td>\n",
       "      <td>AZ</td>\n",
       "      <td>3.5</td>\n",
       "      <td>33.452205</td>\n",
       "      <td>{'Take-out': True, 'Wi-Fi': 'no', 'Good For': ...</td>\n",
       "      <td>business</td>\n",
       "    </tr>\n",
       "    <tr>\n",
       "      <th>26728</th>\n",
       "      <td>DH2Ujt_hwcMBIz8VvCb0Lg</td>\n",
       "      <td>Charlotte Douglas International Airport Termin...</td>\n",
       "      <td>{}</td>\n",
       "      <td>True</td>\n",
       "      <td>[Mexican, Restaurants]</td>\n",
       "      <td>Charlotte</td>\n",
       "      <td>57</td>\n",
       "      <td>Salsarita's Express</td>\n",
       "      <td>[]</td>\n",
       "      <td>-80.940290</td>\n",
       "      <td>NC</td>\n",
       "      <td>2.5</td>\n",
       "      <td>35.224223</td>\n",
       "      <td>{}</td>\n",
       "      <td>business</td>\n",
       "    </tr>\n",
       "  </tbody>\n",
       "</table>\n",
       "<p>26729 rows × 15 columns</p>\n",
       "</div>"
      ],
      "text/plain": [
       "                  business_id  \\\n",
       "0      5UmKMjUEUNdYWqANhGckJw   \n",
       "1      mVHrayjG3uZ_RLHkLj-AMg   \n",
       "2      KayYbHCt-RkbGcPdGOThNg   \n",
       "3      wJr6kSA5dchdgOdwH6dZ2w   \n",
       "4      fNGIbpazjTRdXgwRY_NIXA   \n",
       "...                       ...   \n",
       "26724  mCiSmiZ7iNI08F6dGXP7tw   \n",
       "26725  TFCPmrQj9PD1WvnZGYO85Q   \n",
       "26726  hNX62vEzvdVsMUMmYYHoPQ   \n",
       "26727  g0vvhkZWZKlwF8BUeSPaTA   \n",
       "26728  DH2Ujt_hwcMBIz8VvCb0Lg   \n",
       "\n",
       "                                            full_address  \\\n",
       "0           4734 Lebanon Church Rd\\nDravosburg, PA 15034   \n",
       "1                    414 Hawkins Ave\\nBraddock, PA 15104   \n",
       "2        141 Hawthorne St\\nGreentree\\nCarnegie, PA 15106   \n",
       "3               2100 Washington Pike\\nCarnegie, PA 15106   \n",
       "4                1201 Washington Ave\\nCarnegie, PA 15106   \n",
       "...                                                  ...   \n",
       "26724    7100 W Craig Rd\\nNorthwest\\nLas Vegas, NV 89129   \n",
       "26725  4350 E Camelback Rd\\nBldg I-100\\nPhoenix, AZ 8...   \n",
       "26726      5020 W Baseline Rd\\nSte 123\\nLaveen, AZ 85339   \n",
       "26727   525 N Estrella Pkwy\\nSte 100\\nGoodyear, AZ 85338   \n",
       "26728  Charlotte Douglas International Airport Termin...   \n",
       "\n",
       "                                                   hours  open  \\\n",
       "0      {'Friday': {'close': '21:00', 'open': '11:00'}...  True   \n",
       "1      {'Tuesday': {'close': '19:00', 'open': '10:00'...  True   \n",
       "2      {'Monday': {'close': '02:00', 'open': '11:00'}...  True   \n",
       "3      {'Monday': {'close': '02:00', 'open': '08:00'}...  True   \n",
       "4      {'Monday': {'close': '23:00', 'open': '11:00'}...  True   \n",
       "...                                                  ...   ...   \n",
       "26724  {'Monday': {'close': '22:00', 'open': '07:00'}...  True   \n",
       "26725  {'Monday': {'close': '14:00', 'open': '07:00'}...  True   \n",
       "26726  {'Monday': {'close': '23:00', 'open': '07:00'}...  True   \n",
       "26727                                                 {}  True   \n",
       "26728                                                 {}  True   \n",
       "\n",
       "                                              categories        city  \\\n",
       "0                               [Fast Food, Restaurants]  Dravosburg   \n",
       "1      [Bars, American (New), Nightlife, Lounges, Res...    Braddock   \n",
       "2      [Bars, American (Traditional), Nightlife, Rest...    Carnegie   \n",
       "3      [Burgers, Breakfast & Brunch, American (Tradit...    Carnegie   \n",
       "4      [Bars, American (Traditional), Nightlife, Loun...    Carnegie   \n",
       "...                                                  ...         ...   \n",
       "26724  [Food, Desserts, Restaurants, Bakeries, Sandwi...   Las Vegas   \n",
       "26725  [Breakfast & Brunch, American (New), Ramen, Ja...     Phoenix   \n",
       "26726  [Bars, American (Traditional), Breakfast & Bru...      Laveen   \n",
       "26727                             [Mexican, Restaurants]    Goodyear   \n",
       "26728                             [Mexican, Restaurants]   Charlotte   \n",
       "\n",
       "       review_count                     name neighborhoods   longitude state  \\\n",
       "0                 7                Mr Hoagie            []  -79.900706    PA   \n",
       "1                26            Emil's Lounge            []  -79.866211    PA   \n",
       "2                23    Alexion's Bar & Grill   [Greentree]  -80.067549    PA   \n",
       "3                10  Kings Family Restaurant            []  -80.093215    PA   \n",
       "4                10           Rocky's Lounge            []  -80.084942    PA   \n",
       "...             ...                      ...           ...         ...   ...   \n",
       "26724            24   Kneaders Bakery & Cafe   [Northwest] -115.249473    NV   \n",
       "26725           168                 Chestnut            [] -111.987108    AZ   \n",
       "26726             4  Greathouse Sports Grill            [] -112.166458    AZ   \n",
       "26727            89               Senor Taco            [] -112.392009    AZ   \n",
       "26728            57      Salsarita's Express            []  -80.940290    NC   \n",
       "\n",
       "       stars   latitude                                         attributes  \\\n",
       "0        3.5  40.354327  {'Take-out': True, 'Drive-Thru': False, 'Good ...   \n",
       "1        4.5  40.408830  {'Alcohol': 'full_bar', 'Noise Level': 'averag...   \n",
       "2        4.0  40.415486  {'Alcohol': 'full_bar', 'Noise Level': 'loud',...   \n",
       "3        3.5  40.387512  {'Take-out': True, 'Drive-Thru': False, 'Good ...   \n",
       "4        4.0  40.396469  {'Alcohol': 'full_bar', 'Noise Level': 'averag...   \n",
       "...      ...        ...                                                ...   \n",
       "26724    3.5  36.240983  {'Take-out': True, 'Wi-Fi': 'free', 'Good For'...   \n",
       "26725    3.5  33.510044  {'Take-out': True, 'Wi-Fi': 'free', 'Good For'...   \n",
       "26726    2.0  33.378922  {'Take-out': True, 'Takes Reservations': False...   \n",
       "26727    3.5  33.452205  {'Take-out': True, 'Wi-Fi': 'no', 'Good For': ...   \n",
       "26728    2.5  35.224223                                                 {}   \n",
       "\n",
       "           type  \n",
       "0      business  \n",
       "1      business  \n",
       "2      business  \n",
       "3      business  \n",
       "4      business  \n",
       "...         ...  \n",
       "26724  business  \n",
       "26725  business  \n",
       "26726  business  \n",
       "26727  business  \n",
       "26728  business  \n",
       "\n",
       "[26729 rows x 15 columns]"
      ]
     },
     "execution_count": 65,
     "metadata": {},
     "output_type": "execute_result"
    }
   ],
   "source": [
    "restaurants = bus[bus.index.isin(idx)]\n",
    "restaurants.reset_index(drop=True)"
   ]
  },
  {
   "cell_type": "code",
   "execution_count": 66,
   "metadata": {},
   "outputs": [],
   "source": [
    "# Defining a function to retrieve all the unique entries within an array of arrays, and then returning as an ordered dict.   \n",
    "def unique_entries(big_arr):\n",
    "    result = []\n",
    "    for arr in big_arr:\n",
    "        for cat in arr:\n",
    "            result.append(cat)\n",
    "    [names, counts] = np.unique(result, return_counts = True)\n",
    "    d = dict(zip(names, counts))\n",
    "    d_sorted = dict(sorted(d.items(), key=lambda item:item[1]))\n",
    "    return d_sorted"
   ]
  },
  {
   "cell_type": "code",
   "execution_count": 67,
   "metadata": {},
   "outputs": [],
   "source": [
    "restaurant_cat = restaurants['categories']\n",
    "r_arr = []\n",
    "\n",
    "for arr in restaurant_cat:\n",
    "    for cat in arr:\n",
    "        r_arr.append(cat)\n"
   ]
  },
  {
   "cell_type": "code",
   "execution_count": 68,
   "metadata": {},
   "outputs": [],
   "source": [
    "r_arr = np.array(r_arr)"
   ]
  },
  {
   "cell_type": "code",
   "execution_count": 69,
   "metadata": {},
   "outputs": [],
   "source": [
    "[names, counts] = np.unique(r_arr, return_counts = True)"
   ]
  },
  {
   "cell_type": "code",
   "execution_count": 70,
   "metadata": {},
   "outputs": [],
   "source": [
    "r_dict = dict(zip(names, counts))"
   ]
  },
  {
   "cell_type": "code",
   "execution_count": 71,
   "metadata": {},
   "outputs": [],
   "source": [
    "r_dict = dict(sorted(r_dict.items(), key=lambda item: item[1]))"
   ]
  },
  {
   "cell_type": "code",
   "execution_count": 72,
   "metadata": {},
   "outputs": [
    {
     "data": {
      "text/plain": [
       "{'Appliances': 1,\n",
       " 'Austrian': 1,\n",
       " 'Banks & Credit Unions': 1,\n",
       " 'Bartenders': 1,\n",
       " 'Beer Hall': 1,\n",
       " 'Bikes': 1,\n",
       " 'Boating': 1,\n",
       " 'Cabaret': 1,\n",
       " 'Car Wash': 1,\n",
       " 'Colleges & Universities': 1,\n",
       " 'Cosmetics & Beauty Supply': 1,\n",
       " 'DJs': 1,\n",
       " 'Day Spas': 1,\n",
       " 'Department Stores': 1,\n",
       " 'Dinner Theater': 1,\n",
       " 'Donairs': 1,\n",
       " 'Drive-Thru Bars': 1,\n",
       " 'Dry Cleaning & Laundry': 1,\n",
       " 'Eastern European': 1,\n",
       " 'Ethnic Grocery': 1,\n",
       " 'Fitness & Instruction': 1,\n",
       " 'Flea Markets': 1,\n",
       " 'Florists': 1,\n",
       " 'Flowers & Gifts': 1,\n",
       " 'Framing': 1,\n",
       " 'Furniture Stores': 1,\n",
       " 'Golf Equipment Shops': 1,\n",
       " 'Guest Houses': 1,\n",
       " 'Hardware Stores': 1,\n",
       " 'Health & Medical': 1,\n",
       " 'Hiking': 1,\n",
       " 'Hong Kong Style Cafe': 1,\n",
       " 'Kids Activities': 1,\n",
       " 'Kitchen & Bath': 1,\n",
       " 'Lakes': 1,\n",
       " 'Landmarks & Historical Buildings': 1,\n",
       " 'Local Services': 1,\n",
       " \"Men's Clothing\": 1,\n",
       " 'Music & DVDs': 1,\n",
       " 'Musicians': 1,\n",
       " 'Nutritionists': 1,\n",
       " 'Olive Oil': 1,\n",
       " 'Oriental': 1,\n",
       " 'Palatine': 1,\n",
       " 'Pita': 1,\n",
       " 'Public Services & Government': 1,\n",
       " 'Recreation Centers': 1,\n",
       " 'Rhinelandian': 1,\n",
       " 'Senegalese': 1,\n",
       " 'Slovakian': 1,\n",
       " 'Soccer': 1,\n",
       " 'Sports Wear': 1,\n",
       " 'Supper Clubs': 1,\n",
       " 'Swiss Food': 1,\n",
       " 'Tiki Bars': 1,\n",
       " 'Tours': 1,\n",
       " 'Travel Services': 1,\n",
       " 'Trinidadian': 1,\n",
       " 'Vinyl Records': 1,\n",
       " 'Vitamins & Supplements': 1,\n",
       " 'Whiskey Bars': 1,\n",
       " 'Wine Tasting Room': 1,\n",
       " 'Wok': 1,\n",
       " 'Yoga': 1,\n",
       " 'Alsatian': 2,\n",
       " 'Antiques': 2,\n",
       " 'Bavarian': 2,\n",
       " 'Beauty & Spas': 2,\n",
       " 'Candy Stores': 2,\n",
       " 'Champagne Bars': 2,\n",
       " 'Country Clubs': 2,\n",
       " 'Country Dance Halls': 2,\n",
       " 'Distilleries': 2,\n",
       " 'Farmers Market': 2,\n",
       " 'Financial Services': 2,\n",
       " 'Herbs & Spices': 2,\n",
       " 'Home Decor': 2,\n",
       " 'Horseback Riding': 2,\n",
       " 'Hotel bar': 2,\n",
       " 'Macarons': 2,\n",
       " 'Piano Bars': 2,\n",
       " 'Pretzels': 2,\n",
       " 'Shopping Centers': 2,\n",
       " 'Sports Clubs': 2,\n",
       " 'Toy Stores': 2,\n",
       " 'Tuscan': 2,\n",
       " 'Adult Entertainment': 3,\n",
       " 'Amateur Sports Teams': 3,\n",
       " 'Bed & Breakfast': 3,\n",
       " 'Cooking Schools': 3,\n",
       " 'Czech': 3,\n",
       " 'Education': 3,\n",
       " 'Empanadas': 3,\n",
       " 'Fashion': 3,\n",
       " 'Hungarian': 3,\n",
       " 'Organic Stores': 3,\n",
       " 'Personal Chefs': 3,\n",
       " 'Social Clubs': 3,\n",
       " 'Specialty Schools': 3,\n",
       " 'Sri Lankan': 3,\n",
       " 'Swimming Pools': 3,\n",
       " 'Uzbek': 3,\n",
       " 'Amusement Parks': 4,\n",
       " 'Australian': 4,\n",
       " 'Cinema': 4,\n",
       " 'Cupcakes': 4,\n",
       " 'Curry Sausage': 4,\n",
       " 'Dominican': 4,\n",
       " 'Fruits & Veggies': 4,\n",
       " 'Haitian': 4,\n",
       " 'Home & Garden': 4,\n",
       " 'Local Flavor': 4,\n",
       " 'Sporting Goods': 4,\n",
       " 'Ukrainian': 4,\n",
       " 'Arts & Crafts': 5,\n",
       " 'Bangladeshi': 5,\n",
       " 'Bookstores': 5,\n",
       " 'Burmese': 5,\n",
       " 'Cafeteria': 5,\n",
       " 'Egyptian': 5,\n",
       " 'Pasta Shops': 5,\n",
       " 'Performing Arts': 5,\n",
       " 'Poke': 5,\n",
       " 'Serbo Croatian': 5,\n",
       " 'Shanghainese': 5,\n",
       " 'Singaporean': 5,\n",
       " 'Wineries': 5,\n",
       " 'Automotive': 6,\n",
       " 'Festivals': 6,\n",
       " 'Gas & Service Stations': 6,\n",
       " 'Gay Bars': 6,\n",
       " 'Party & Event Planning': 6,\n",
       " 'Art Galleries': 7,\n",
       " 'Books, Mags, Music & Video': 7,\n",
       " 'Irish Pub': 7,\n",
       " 'Laotian': 7,\n",
       " 'Waffles': 7,\n",
       " 'Cambodian': 8,\n",
       " 'Chocolatiers & Shops': 8,\n",
       " 'Puerto Rican': 8,\n",
       " 'Teppanyaki': 8,\n",
       " 'Venezuelan': 8,\n",
       " 'Health Markets': 9,\n",
       " 'New Mexican Cuisine': 9,\n",
       " 'Scandinavian': 9,\n",
       " 'Bowling': 10,\n",
       " 'Do-It-Yourself Food': 10,\n",
       " 'Gelato': 10,\n",
       " 'Internet Cafes': 10,\n",
       " 'Shaved Ice': 10,\n",
       " 'Arabian': 11,\n",
       " 'Argentine': 11,\n",
       " 'Baden': 11,\n",
       " 'Butcher': 11,\n",
       " 'Indonesian': 12,\n",
       " 'Malaysian': 12,\n",
       " 'Patisserie/Cake Shop': 12,\n",
       " 'Delicatessen': 13,\n",
       " 'Falafel': 13,\n",
       " 'Seafood Markets': 13,\n",
       " 'Beer Gardens': 15,\n",
       " 'Golf': 15,\n",
       " 'Himalayan/Nepalese': 16,\n",
       " 'Hot Pot': 16,\n",
       " 'Arcades': 17,\n",
       " 'Belgian': 17,\n",
       " 'Colombian': 17,\n",
       " 'Jazz & Blues': 17,\n",
       " 'Russian': 17,\n",
       " 'Afghan': 18,\n",
       " 'Basque': 18,\n",
       " 'Bubble Tea': 18,\n",
       " 'Pool Halls': 18,\n",
       " 'Cheese Shops': 19,\n",
       " 'Live/Raw Food': 19,\n",
       " 'Convenience Stores': 20,\n",
       " 'Beer Bar': 22,\n",
       " 'Meat Shops': 24,\n",
       " 'Fondue': 25,\n",
       " 'International': 25,\n",
       " 'Bistros': 26,\n",
       " 'Moroccan': 26,\n",
       " 'Chicken Shop': 27,\n",
       " 'Cantonese': 28,\n",
       " 'Mongolian': 28,\n",
       " 'Polish': 28,\n",
       " 'Salvadoran': 29,\n",
       " 'Beer Garden': 30,\n",
       " 'Hookah Bars': 31,\n",
       " 'Poutineries': 32,\n",
       " 'Szechuan': 32,\n",
       " 'Ethiopian': 33,\n",
       " 'Casinos': 35,\n",
       " 'Cuban': 36,\n",
       " 'Kebab': 36,\n",
       " 'Kosher': 36,\n",
       " 'Brazilian': 37,\n",
       " 'Hotels': 37,\n",
       " 'Dance Clubs': 38,\n",
       " 'Food Court': 38,\n",
       " 'Shopping': 38,\n",
       " 'Street Vendors': 38,\n",
       " 'Tea Rooms': 38,\n",
       " 'Donuts': 39,\n",
       " 'Food Delivery Services': 42,\n",
       " 'Hotels & Travel': 44,\n",
       " 'Active Life': 45,\n",
       " 'Persian/Iranian': 45,\n",
       " 'Ramen': 47,\n",
       " 'Scottish': 47,\n",
       " 'African': 48,\n",
       " 'Taiwanese': 48,\n",
       " 'Venues & Event Spaces': 53,\n",
       " 'Dim Sum': 57,\n",
       " 'Lebanese': 57,\n",
       " 'Peruvian': 57,\n",
       " 'Karaoke': 59,\n",
       " 'Halal': 60,\n",
       " 'Noodles': 61,\n",
       " 'Modern European': 62,\n",
       " 'Dive Bars': 68,\n",
       " 'Irish': 70,\n",
       " 'Brasseries': 71,\n",
       " 'Cheesesteaks': 73,\n",
       " 'Portuguese': 73,\n",
       " 'Breweries': 74,\n",
       " 'Beer, Wine & Spirits': 75,\n",
       " 'Turkish': 80,\n",
       " 'Food Stands': 81,\n",
       " 'Creperies': 83,\n",
       " 'Filipino': 84,\n",
       " 'Music Venues': 86,\n",
       " 'Spanish': 90,\n",
       " 'Caterers': 91,\n",
       " 'Ethnic Food': 92,\n",
       " 'Pakistani': 94,\n",
       " 'Grocery': 99,\n",
       " 'Comfort Food': 101,\n",
       " 'Cajun/Creole': 104,\n",
       " 'Fish & Chips': 113,\n",
       " 'Tapas Bars': 116,\n",
       " 'Soul Food': 117,\n",
       " 'Tapas/Small Plates': 120,\n",
       " 'Caribbean': 122,\n",
       " 'Bagels': 132,\n",
       " 'Cocktail Bars': 148,\n",
       " 'Hawaiian': 150,\n",
       " 'Food Trucks': 160,\n",
       " 'Soup': 161,\n",
       " 'Gastropubs': 167,\n",
       " 'British': 175,\n",
       " 'Juice Bars & Smoothies': 185,\n",
       " 'Southern': 185,\n",
       " 'Event Planning & Services': 188,\n",
       " 'Arts & Entertainment': 189,\n",
       " 'German': 190,\n",
       " 'Ice Cream & Frozen Yogurt': 198,\n",
       " 'Latin American': 212,\n",
       " 'Desserts': 216,\n",
       " 'Specialty Food': 216,\n",
       " 'Vegan': 218,\n",
       " 'Lounges': 223,\n",
       " 'Gluten-Free': 231,\n",
       " 'Canadian (New)': 232,\n",
       " 'Korean': 247,\n",
       " 'Hot Dogs': 287,\n",
       " 'Middle Eastern': 289,\n",
       " 'Wine Bars': 296,\n",
       " 'Vegetarian': 311,\n",
       " 'Tex-Mex': 348,\n",
       " 'Bakeries': 385,\n",
       " 'Vietnamese': 389,\n",
       " 'Diners': 396,\n",
       " 'Buffets': 435,\n",
       " 'Greek': 439,\n",
       " 'Pubs': 446,\n",
       " 'Indian': 461,\n",
       " 'French': 488,\n",
       " 'Salad': 540,\n",
       " 'Asian Fusion': 554,\n",
       " 'Thai': 554,\n",
       " 'Mediterranean': 614,\n",
       " 'Coffee & Tea': 620,\n",
       " 'Steakhouses': 636,\n",
       " 'Barbeque': 646,\n",
       " 'Sports Bars': 649,\n",
       " 'Delis': 730,\n",
       " 'Seafood': 748,\n",
       " 'Chicken Wings': 812,\n",
       " 'Sushi Bars': 859,\n",
       " 'Japanese': 922,\n",
       " 'Cafes': 1100,\n",
       " 'Breakfast & Brunch': 1609,\n",
       " 'American (New)': 1671,\n",
       " 'Chinese': 1714,\n",
       " 'Italian': 1939,\n",
       " 'Burgers': 1960,\n",
       " 'Food': 2369,\n",
       " 'American (Traditional)': 2608,\n",
       " 'Sandwiches': 2666,\n",
       " 'Bars': 2694,\n",
       " 'Mexican': 2705,\n",
       " 'Nightlife': 2806,\n",
       " 'Pizza': 2881,\n",
       " 'Fast Food': 3154,\n",
       " 'Restaurants': 26729}"
      ]
     },
     "execution_count": 72,
     "metadata": {},
     "output_type": "execute_result"
    }
   ],
   "source": [
    "r_dict"
   ]
  },
  {
   "cell_type": "code",
   "execution_count": 73,
   "metadata": {},
   "outputs": [
    {
     "name": "stdout",
     "output_type": "stream",
     "text": [
      "PA\n",
      "{'Chinese': 106, 'Mexican': 81, 'Italian': 165}\n",
      "NC\n",
      "{'Chinese': 155, 'Mexican': 197, 'Italian': 136}\n",
      "SC\n",
      "{'Chinese': 11, 'Mexican': 11, 'Italian': 11}\n",
      "WI\n",
      "{'Chinese': 80, 'Mexican': 101, 'Italian': 62}\n",
      "IL\n",
      "{'Chinese': 27, 'Mexican': 38, 'Italian': 14}\n",
      "AZ\n",
      "{'Chinese': 576, 'Mexican': 1424, 'Italian': 680}\n",
      "CA\n",
      "{'Chinese': None, 'Mexican': None, 'Italian': None}\n",
      "NV\n",
      "{'Chinese': 424, 'Mexican': 737, 'Italian': 352}\n",
      "FL\n",
      "{'Chinese': None, 'Mexican': None, 'Italian': None}\n",
      "NM\n",
      "{'Chinese': None, 'Mexican': None, 'Italian': None}\n",
      "QC\n",
      "{'Chinese': 180, 'Mexican': 80, 'Italian': 279}\n",
      "ON\n",
      "{'Chinese': 45, 'Mexican': 10, 'Italian': 14}\n",
      "TX\n",
      "{'Chinese': None, 'Mexican': None, 'Italian': None}\n",
      "EDH\n",
      "{'Chinese': 78, 'Mexican': 20, 'Italian': 124}\n",
      "MLN\n",
      "{'Chinese': 3, 'Mexican': 2, 'Italian': 6}\n",
      "HAM\n",
      "{'Chinese': None, 'Mexican': None, 'Italian': None}\n",
      "SCB\n",
      "{'Chinese': None, 'Mexican': None, 'Italian': None}\n",
      "ELN\n",
      "{'Chinese': None, 'Mexican': None, 'Italian': 1}\n",
      "FIF\n",
      "{'Chinese': None, 'Mexican': None, 'Italian': None}\n",
      "NTH\n",
      "{'Chinese': None, 'Mexican': None, 'Italian': None}\n",
      "XGL\n",
      "{'Chinese': None, 'Mexican': None, 'Italian': None}\n",
      "BW\n",
      "{'Chinese': 29, 'Mexican': 4, 'Italian': 92}\n",
      "RP\n",
      "{'Chinese': None, 'Mexican': None, 'Italian': 3}\n",
      "KHL\n",
      "{'Chinese': None, 'Mexican': None, 'Italian': None}\n",
      "MN\n",
      "{'Chinese': None, 'Mexican': None, 'Italian': None}\n",
      "NW\n",
      "{'Chinese': None, 'Mexican': None, 'Italian': None}\n",
      "TAM\n",
      "{'Chinese': None, 'Mexican': None, 'Italian': None}\n",
      "AL\n",
      "{'Chinese': None, 'Mexican': None, 'Italian': None}\n",
      "\n",
      "{'Chinese': None, 'Mexican': None, 'Italian': None}\n",
      "AK\n",
      "{'Chinese': None, 'Mexican': None, 'Italian': None}\n"
     ]
    }
   ],
   "source": [
    "# Here we want to go through all of the states and check the count for the most popular type of restaurants.\n",
    "output = {}\n",
    "states = bus['state'].unique()\n",
    "for state in states:\n",
    "    state_df = bus[bus['state'] == state]\n",
    "    state_df.reset_index(drop=True, inplace=True)\n",
    "    idx = []\n",
    "    for i in range(len(state_df)):\n",
    "        cats = state_df['categories'][i]\n",
    "        if 'Restaurants' in cat:\n",
    "                idx.append(i)\n",
    "    # Now collating all the rows which are restaurants. \n",
    "    restaurants = state_df[state_df.index.isin(idx)]\n",
    "    restaurants.reset_index(drop=True)\n",
    "    \n",
    "    # Want to create a new dict with results for each state, ie a key should be an object with 5 keys. \n",
    "    categories_d = unique_entries(restaurants['categories'])\n",
    "    d = {\n",
    "        'Chinese': categories_d.get('Chinese'),\n",
    "        'Mexican': categories_d.get('Mexican'),\n",
    "        'Italian': categories_d.get('Italian')\n",
    "    }\n",
    "    print(state)\n",
    "    print(d)"
   ]
  },
  {
   "cell_type": "code",
   "execution_count": 74,
   "metadata": {},
   "outputs": [
    {
     "data": {
      "text/plain": [
       "array(['PA', 'NC', 'SC', 'WI', 'IL', 'AZ', 'CA', 'NV', 'FL', 'NM', 'QC',\n",
       "       'ON', 'TX', 'EDH', 'MLN', 'HAM', 'SCB', 'ELN', 'FIF', 'NTH', 'XGL',\n",
       "       'BW', 'RP', 'KHL', 'MN', 'NW', 'TAM', 'AL', '', 'AK'], dtype=object)"
      ]
     },
     "execution_count": 74,
     "metadata": {},
     "output_type": "execute_result"
    }
   ],
   "source": [
    "bus['state'].unique()"
   ]
  },
  {
   "cell_type": "code",
   "execution_count": 75,
   "metadata": {},
   "outputs": [
    {
     "name": "stdout",
     "output_type": "stream",
     "text": [
      "['Italian', 'Mexican', 'Restaurants']\n"
     ]
    }
   ],
   "source": [
    "az = bus[bus['state'] == 'AZ']\n",
    "az.reset_index(drop=True, inplace=True)\n",
    "for i in range(len(az)):\n",
    "    if 'Italian' in az['categories'][i]:\n",
    "        if 'Mexican' in az['categories'][i]:  \n",
    "            print(az['categories'][i])"
   ]
  },
  {
   "cell_type": "markdown",
   "metadata": {},
   "source": [
    "## Arizona"
   ]
  },
  {
   "cell_type": "code",
   "execution_count": 76,
   "metadata": {},
   "outputs": [],
   "source": [
    "def get_restaurants(df):\n",
    "    '''Gets the rows which have restaurant in the array of categories and returns as df'''\n",
    "    idx = []\n",
    "    for i in range(len(df)):\n",
    "        cat = df['categories'][i]\n",
    "        if 'Restaurants' in cat:\n",
    "            idx.append(i)\n",
    "    restaurants = df[df.index.isin(idx)]\n",
    "    restaurants.reset_index(drop=True, inplace=True)\n",
    "    return restaurants \n"
   ]
  },
  {
   "cell_type": "code",
   "execution_count": null,
   "metadata": {},
   "outputs": [],
   "source": [
    "az_restaurants = get_restaurants(az)\n",
    "plt.scatter(az_restaurants['longitude'], az_restaurants['latitude'])"
   ]
  },
  {
   "cell_type": "code",
   "execution_count": 97,
   "metadata": {},
   "outputs": [],
   "source": [
    "@jit(nopython=True)\n",
    "def measure(lat1, lon1, lat2, lon2):  \n",
    "    '''generally used geo measurement function'''\n",
    "    R = 6378.137; # Radius of earth in KM\n",
    "    dLat = lat2 * math.pi / 180 - lat1 * math.pi / 180;\n",
    "    dLon = lon2 * math.pi / 180 - lon1 * math.pi / 180;\n",
    "    a = math.sin(dLat/2) * math.sin(dLat/2) + math.cos(lat1 * math.pi / 180) * math.cos(lat2 * math.pi / 180) * math.sin(dLon/2) * math.sin(dLon/2);\n",
    "    c = 2 * math.atan2(math.sqrt(a), math.sqrt(1-a));\n",
    "    d = R * c;\n",
    "    return d * 1000; # Returns in metres"
   ]
  },
  {
   "cell_type": "code",
   "execution_count": 100,
   "metadata": {},
   "outputs": [],
   "source": [
    "def measure_matrix(df):\n",
    "    N = len(df)\n",
    "    lon = df['longitude']\n",
    "    lat = df['latitude']\n",
    "    distances = np.zeros((N,N))\n",
    "    for i in range(N):\n",
    "        for j in range(i+1, N):\n",
    "            d = measure(lat[i], lon[i], lat[j], lon[j])\n",
    "            distances[i,j] = d\n",
    "            distances[j,i] = d\n",
    "    return distances"
   ]
  },
  {
   "cell_type": "code",
   "execution_count": 101,
   "metadata": {},
   "outputs": [],
   "source": [
    "phoenix_r.reset_index(drop=True, inplace=True)"
   ]
  },
  {
   "cell_type": "code",
   "execution_count": 94,
   "metadata": {},
   "outputs": [],
   "source": [
    "from numba import jit"
   ]
  },
  {
   "cell_type": "code",
   "execution_count": 103,
   "metadata": {},
   "outputs": [],
   "source": [
    "pheonix_r_distances = measure_matrix(phoenix_r)"
   ]
  },
  {
   "cell_type": "code",
   "execution_count": 106,
   "metadata": {},
   "outputs": [],
   "source": [
    "pheonix_r_distances = pd.DataFrame(pheonix_r_distances)"
   ]
  },
  {
   "cell_type": "code",
   "execution_count": 109,
   "metadata": {},
   "outputs": [],
   "source": [
    "phoenix_r_distances.replace(0, np.nan, inplace=True)"
   ]
  },
  {
   "cell_type": "code",
   "execution_count": 138,
   "metadata": {},
   "outputs": [],
   "source": [
    "plt.hist(phoenix_r_distances.min(), bins=np.arange(0,8000,100))\n",
    "plt.yscale('log')"
   ]
  },
  {
   "cell_type": "code",
   "execution_count": 127,
   "metadata": {},
   "outputs": [
    {
     "data": {
      "text/plain": [
       "3049"
      ]
     },
     "execution_count": 127,
     "metadata": {},
     "output_type": "execute_result"
    }
   ],
   "source": [
    "phx_r_min_distances = phoenix_r_distances.min()"
   ]
  },
  {
   "cell_type": "code",
   "execution_count": 141,
   "metadata": {},
   "outputs": [
    {
     "data": {
      "text/plain": [
       "103"
      ]
     },
     "execution_count": 141,
     "metadata": {},
     "output_type": "execute_result"
    }
   ],
   "source": [
    "np.count_nonzero(phx_r_min_distances > 500)"
   ]
  },
  {
   "cell_type": "markdown",
   "metadata": {},
   "source": [
    "# Geopandas"
   ]
  },
  {
   "cell_type": "code",
   "execution_count": 79,
   "metadata": {},
   "outputs": [],
   "source": [
    "import descartes\n",
    "import geopandas as gpd\n",
    "from shapely.geometry import Point, Polygon\n",
    "import pyproj"
   ]
  },
  {
   "cell_type": "code",
   "execution_count": 80,
   "metadata": {},
   "outputs": [
    {
     "data": {
      "text/plain": [
       "<AxesSubplot:>"
      ]
     },
     "execution_count": 80,
     "metadata": {},
     "output_type": "execute_result"
    }
   ],
   "source": [
    "phoenix_map = gpd.read_file('/Users/Ubaid/Projects/msc/COMP0047 - Data Science/Arizona/Zoning.shp')\n",
    "phoenix_map_geo = phoenix_map.to_crs(epsg=4326)\n",
    "fig, ax = plt.subplots(figsize = (15,15))\n",
    "phoenix_map_geo.plot(ax=ax, color = 'grey')"
   ]
  },
  {
   "cell_type": "code",
   "execution_count": 81,
   "metadata": {},
   "outputs": [],
   "source": [
    "phoenix_r = az_restaurants[az_restaurants['city'] == 'Phoenix']"
   ]
  },
  {
   "cell_type": "code",
   "execution_count": 83,
   "metadata": {},
   "outputs": [
    {
     "data": {
      "text/plain": [
       "[<shapely.geometry.point.Point at 0x22071a25910>,\n",
       " <shapely.geometry.point.Point at 0x22050563d90>,\n",
       " <shapely.geometry.point.Point at 0x22050563700>]"
      ]
     },
     "execution_count": 83,
     "metadata": {},
     "output_type": "execute_result"
    }
   ],
   "source": [
    "crs = {'init': 'epsg:4326'}\n",
    "geometry = [Point(xy) for xy in zip( phoenix_r['longitude'], phoenix_r['latitude'])]\n",
    "geometry[:3]"
   ]
  },
  {
   "cell_type": "code",
   "execution_count": 166,
   "metadata": {},
   "outputs": [
    {
     "name": "stderr",
     "output_type": "stream",
     "text": [
      "C:\\Users\\Ubaid\\miniconda3\\envs\\msc\\lib\\site-packages\\pyproj\\crs\\crs.py:53: FutureWarning: '+init=<authority>:<code>' syntax is deprecated. '<authority>:<code>' is the preferred initialization method. When making the change, be mindful of axis order changes: https://pyproj4.github.io/pyproj/stable/gotchas.html#axis-order-changes-in-proj-6\n",
      "  return _prepare_from_string(\" \".join(pjargs))\n"
     ]
    }
   ],
   "source": [
    "geo_df = gpd.GeoDataFrame(phoenix_r, crs=crs, geometry=geometry)"
   ]
  },
  {
   "cell_type": "code",
   "execution_count": 85,
   "metadata": {},
   "outputs": [
    {
     "data": {
      "text/plain": [
       "Phoenix                      3082\n",
       "Scottsdale                   1231\n",
       "Mesa                          944\n",
       "Tempe                         816\n",
       "Chandler                      680\n",
       "                             ... \n",
       "Black Canyon City               1\n",
       "Maricopa AZ                     1\n",
       "Rio Verde                       1\n",
       "Phoenix Sky Harbor Center       1\n",
       "Central City                    1\n",
       "Name: city, Length: 65, dtype: int64"
      ]
     },
     "execution_count": 85,
     "metadata": {},
     "output_type": "execute_result"
    }
   ],
   "source": [
    "az_restaurants['city'].value_counts()"
   ]
  },
  {
   "cell_type": "code",
   "execution_count": 86,
   "metadata": {},
   "outputs": [],
   "source": [
    "state_colors = list(map(lambda x: np.where(az_restaurants['city'].unique() == x)[0][0],az_restaurants['city']))\n",
    "state_colors = np.array(state_colors)"
   ]
  },
  {
   "cell_type": "code",
   "execution_count": 168,
   "metadata": {},
   "outputs": [
    {
     "data": {
      "text/plain": [
       "<AxesSubplot:>"
      ]
     },
     "execution_count": 168,
     "metadata": {},
     "output_type": "execute_result"
    }
   ],
   "source": [
    "%matplotlib qt\n",
    "fig, ax = plt.subplots(figsize = (30,30))\n",
    "phoenix_map_geo.plot(ax=ax, color='grey')\n",
    "geo_df.plot(ax=ax, markersize = 1, marker = 'x', color=geo_df['color'])"
   ]
  },
  {
   "cell_type": "code",
   "execution_count": null,
   "metadata": {},
   "outputs": [],
   "source": [
    "fig, ax = plt.subplots(figsize = (15,15))\n",
    "street_map.plot(ax=ax, alpha=0.4, color=\"grey\")\n",
    "az_restaurants"
   ]
  },
  {
   "cell_type": "code",
   "execution_count": null,
   "metadata": {},
   "outputs": [],
   "source": [
    "phoenix_r"
   ]
  },
  {
   "cell_type": "code",
   "execution_count": 142,
   "metadata": {},
   "outputs": [],
   "source": [
    "az_r_distances = measure_matrix(az_restaurants)"
   ]
  },
  {
   "cell_type": "code",
   "execution_count": 144,
   "metadata": {},
   "outputs": [],
   "source": [
    "az_r_distances = pd.DataFrame(az_r_distances)\n",
    "az_r_distances.replace(0, np.nan, inplace=True)"
   ]
  },
  {
   "cell_type": "code",
   "execution_count": 147,
   "metadata": {},
   "outputs": [],
   "source": [
    "plt.hist(az_r_distances.min())\n",
    "plt.yscale('log')"
   ]
  },
  {
   "cell_type": "code",
   "execution_count": 153,
   "metadata": {},
   "outputs": [
    {
     "data": {
      "text/plain": [
       "362"
      ]
     },
     "execution_count": 153,
     "metadata": {},
     "output_type": "execute_result"
    }
   ],
   "source": [
    "sum(az_r_distances.min() > 500)"
   ]
  },
  {
   "cell_type": "code",
   "execution_count": 157,
   "metadata": {},
   "outputs": [
    {
     "name": "stderr",
     "output_type": "stream",
     "text": [
      "<ipython-input-157-230ea4661222>:1: SettingWithCopyWarning: \n",
      "A value is trying to be set on a copy of a slice from a DataFrame.\n",
      "Try using .loc[row_indexer,col_indexer] = value instead\n",
      "\n",
      "See the caveats in the documentation: https://pandas.pydata.org/pandas-docs/stable/user_guide/indexing.html#returning-a-view-versus-a-copy\n",
      "  phoenix_r['min_distance'] = phx_r_min_distances\n"
     ]
    }
   ],
   "source": [
    "phoenix_r['min_distance'] = phx_r_min_distances"
   ]
  },
  {
   "cell_type": "code",
   "execution_count": 169,
   "metadata": {},
   "outputs": [
    {
     "name": "stderr",
     "output_type": "stream",
     "text": [
      "<ipython-input-169-44e9c5d0b5a3>:3: SettingWithCopyWarning: \n",
      "A value is trying to be set on a copy of a slice from a DataFrame.\n",
      "Try using .loc[row_indexer,col_indexer] = value instead\n",
      "\n",
      "See the caveats in the documentation: https://pandas.pydata.org/pandas-docs/stable/user_guide/indexing.html#returning-a-view-versus-a-copy\n",
      "  phoenix_r['class'] = phoenix_r.apply(lambda x: 'independent' if x['min_distance'] > 500 else 'clustered', axis=1)\n"
     ]
    }
   ],
   "source": [
    "#create function which assigns colors to whether they are clustered or indepedent\n",
    "\n",
    "phoenix_r['class'] = phoenix_r.apply(lambda x: 'independent' if x['min_distance'] > 500 else 'clustered', axis=1)"
   ]
  },
  {
   "cell_type": "code",
   "execution_count": 181,
   "metadata": {},
   "outputs": [],
   "source": [
    "az_restaurants['min_distance'] = az_r_distances.min()\n",
    "az_restaurants['class'] = az_restaurants.apply(lambda x: 'independent' if x['min_distance'] > 500 else 'clustered', axis=1)\n",
    "az_restaurants['color'] = az_restaurants.apply(lambda x: 'orange' if x['min_distance'] > 500 else 'indigo', axis = 1)"
   ]
  },
  {
   "cell_type": "code",
   "execution_count": 182,
   "metadata": {},
   "outputs": [
    {
     "data": {
      "text/plain": [
       "<matplotlib.collections.PathCollection at 0x2203d6ca1f0>"
      ]
     },
     "execution_count": 182,
     "metadata": {},
     "output_type": "execute_result"
    }
   ],
   "source": [
    "plt.scatter(az_restaurants['longitude'], az_restaurants['latitude'], c=az_restaurants['color'], s=3)"
   ]
  },
  {
   "cell_type": "markdown",
   "metadata": {},
   "source": [
    "## Comparing distributions\n",
    "\n",
    "Firstly for Arizona."
   ]
  },
  {
   "cell_type": "code",
   "execution_count": 183,
   "metadata": {},
   "outputs": [],
   "source": [
    "ind = az_restaurants[az_restaurants['class'] == 'independent']\n",
    "clust = az_restaurants[az_restaurants['class'] == 'clustered']"
   ]
  },
  {
   "cell_type": "code",
   "execution_count": 204,
   "metadata": {},
   "outputs": [
    {
     "data": {
      "text/plain": [
       "(array([  39.,  212.,  480., 1002., 1679., 2383., 2252., 1018.]),\n",
       " array([1. , 1.5, 2. , 2.5, 3. , 3.5, 4. , 4.5, 5. ]),\n",
       " <BarContainer object of 8 artists>)"
      ]
     },
     "execution_count": 204,
     "metadata": {},
     "output_type": "execute_result"
    }
   ],
   "source": [
    "fig, ax = plt.subplots(1,2, figsize = (15,15))\n",
    "ax[0].hist(ind['stars'], np.unique(np.sort(ind['stars'])))\n",
    "ax[1].hist(clust['stars'], np.unique(np.sort(clust['stars'])))"
   ]
  },
  {
   "cell_type": "code",
   "execution_count": 203,
   "metadata": {},
   "outputs": [
    {
     "data": {
      "text/plain": [
       "array([1. , 1.5, 2. , 2.5, 3. , 3.5, 4. , 4.5, 5. ])"
      ]
     },
     "execution_count": 203,
     "metadata": {},
     "output_type": "execute_result"
    }
   ],
   "source": [
    "np.unique(np.sort(ind['stars']))"
=======
       "[<matplotlib.lines.Line2D at 0x7fe790c2b310>]"
      ]
     },
     "execution_count": 38,
     "metadata": {},
     "output_type": "execute_result"
    },
    {
     "ename": "ValueError",
     "evalue": "RGBA sequence should have length 3 or 4",
     "output_type": "error",
     "traceback": [
      "\u001b[0;31m---------------------------------------------------------------------------\u001b[0m",
      "\u001b[0;31mValueError\u001b[0m                                Traceback (most recent call last)",
      "\u001b[0;32m/opt/anaconda3/lib/python3.8/site-packages/IPython/core/formatters.py\u001b[0m in \u001b[0;36m__call__\u001b[0;34m(self, obj)\u001b[0m\n\u001b[1;32m    339\u001b[0m                 \u001b[0;32mpass\u001b[0m\u001b[0;34m\u001b[0m\u001b[0;34m\u001b[0m\u001b[0m\n\u001b[1;32m    340\u001b[0m             \u001b[0;32melse\u001b[0m\u001b[0;34m:\u001b[0m\u001b[0;34m\u001b[0m\u001b[0;34m\u001b[0m\u001b[0m\n\u001b[0;32m--> 341\u001b[0;31m                 \u001b[0;32mreturn\u001b[0m \u001b[0mprinter\u001b[0m\u001b[0;34m(\u001b[0m\u001b[0mobj\u001b[0m\u001b[0;34m)\u001b[0m\u001b[0;34m\u001b[0m\u001b[0;34m\u001b[0m\u001b[0m\n\u001b[0m\u001b[1;32m    342\u001b[0m             \u001b[0;31m# Finally look for special method names\u001b[0m\u001b[0;34m\u001b[0m\u001b[0;34m\u001b[0m\u001b[0;34m\u001b[0m\u001b[0m\n\u001b[1;32m    343\u001b[0m             \u001b[0mmethod\u001b[0m \u001b[0;34m=\u001b[0m \u001b[0mget_real_method\u001b[0m\u001b[0;34m(\u001b[0m\u001b[0mobj\u001b[0m\u001b[0;34m,\u001b[0m \u001b[0mself\u001b[0m\u001b[0;34m.\u001b[0m\u001b[0mprint_method\u001b[0m\u001b[0;34m)\u001b[0m\u001b[0;34m\u001b[0m\u001b[0;34m\u001b[0m\u001b[0m\n",
      "\u001b[0;32m/opt/anaconda3/lib/python3.8/site-packages/IPython/core/pylabtools.py\u001b[0m in \u001b[0;36m<lambda>\u001b[0;34m(fig)\u001b[0m\n\u001b[1;32m    246\u001b[0m \u001b[0;34m\u001b[0m\u001b[0m\n\u001b[1;32m    247\u001b[0m     \u001b[0;32mif\u001b[0m \u001b[0;34m'png'\u001b[0m \u001b[0;32min\u001b[0m \u001b[0mformats\u001b[0m\u001b[0;34m:\u001b[0m\u001b[0;34m\u001b[0m\u001b[0;34m\u001b[0m\u001b[0m\n\u001b[0;32m--> 248\u001b[0;31m         \u001b[0mpng_formatter\u001b[0m\u001b[0;34m.\u001b[0m\u001b[0mfor_type\u001b[0m\u001b[0;34m(\u001b[0m\u001b[0mFigure\u001b[0m\u001b[0;34m,\u001b[0m \u001b[0;32mlambda\u001b[0m \u001b[0mfig\u001b[0m\u001b[0;34m:\u001b[0m \u001b[0mprint_figure\u001b[0m\u001b[0;34m(\u001b[0m\u001b[0mfig\u001b[0m\u001b[0;34m,\u001b[0m \u001b[0;34m'png'\u001b[0m\u001b[0;34m,\u001b[0m \u001b[0;34m**\u001b[0m\u001b[0mkwargs\u001b[0m\u001b[0;34m)\u001b[0m\u001b[0;34m)\u001b[0m\u001b[0;34m\u001b[0m\u001b[0;34m\u001b[0m\u001b[0m\n\u001b[0m\u001b[1;32m    249\u001b[0m     \u001b[0;32mif\u001b[0m \u001b[0;34m'retina'\u001b[0m \u001b[0;32min\u001b[0m \u001b[0mformats\u001b[0m \u001b[0;32mor\u001b[0m \u001b[0;34m'png2x'\u001b[0m \u001b[0;32min\u001b[0m \u001b[0mformats\u001b[0m\u001b[0;34m:\u001b[0m\u001b[0;34m\u001b[0m\u001b[0;34m\u001b[0m\u001b[0m\n\u001b[1;32m    250\u001b[0m         \u001b[0mpng_formatter\u001b[0m\u001b[0;34m.\u001b[0m\u001b[0mfor_type\u001b[0m\u001b[0;34m(\u001b[0m\u001b[0mFigure\u001b[0m\u001b[0;34m,\u001b[0m \u001b[0;32mlambda\u001b[0m \u001b[0mfig\u001b[0m\u001b[0;34m:\u001b[0m \u001b[0mretina_figure\u001b[0m\u001b[0;34m(\u001b[0m\u001b[0mfig\u001b[0m\u001b[0;34m,\u001b[0m \u001b[0;34m**\u001b[0m\u001b[0mkwargs\u001b[0m\u001b[0;34m)\u001b[0m\u001b[0;34m)\u001b[0m\u001b[0;34m\u001b[0m\u001b[0;34m\u001b[0m\u001b[0m\n",
      "\u001b[0;32m/opt/anaconda3/lib/python3.8/site-packages/IPython/core/pylabtools.py\u001b[0m in \u001b[0;36mprint_figure\u001b[0;34m(fig, fmt, bbox_inches, **kwargs)\u001b[0m\n\u001b[1;32m    130\u001b[0m         \u001b[0mFigureCanvasBase\u001b[0m\u001b[0;34m(\u001b[0m\u001b[0mfig\u001b[0m\u001b[0;34m)\u001b[0m\u001b[0;34m\u001b[0m\u001b[0;34m\u001b[0m\u001b[0m\n\u001b[1;32m    131\u001b[0m \u001b[0;34m\u001b[0m\u001b[0m\n\u001b[0;32m--> 132\u001b[0;31m     \u001b[0mfig\u001b[0m\u001b[0;34m.\u001b[0m\u001b[0mcanvas\u001b[0m\u001b[0;34m.\u001b[0m\u001b[0mprint_figure\u001b[0m\u001b[0;34m(\u001b[0m\u001b[0mbytes_io\u001b[0m\u001b[0;34m,\u001b[0m \u001b[0;34m**\u001b[0m\u001b[0mkw\u001b[0m\u001b[0;34m)\u001b[0m\u001b[0;34m\u001b[0m\u001b[0;34m\u001b[0m\u001b[0m\n\u001b[0m\u001b[1;32m    133\u001b[0m     \u001b[0mdata\u001b[0m \u001b[0;34m=\u001b[0m \u001b[0mbytes_io\u001b[0m\u001b[0;34m.\u001b[0m\u001b[0mgetvalue\u001b[0m\u001b[0;34m(\u001b[0m\u001b[0;34m)\u001b[0m\u001b[0;34m\u001b[0m\u001b[0;34m\u001b[0m\u001b[0m\n\u001b[1;32m    134\u001b[0m     \u001b[0;32mif\u001b[0m \u001b[0mfmt\u001b[0m \u001b[0;34m==\u001b[0m \u001b[0;34m'svg'\u001b[0m\u001b[0;34m:\u001b[0m\u001b[0;34m\u001b[0m\u001b[0;34m\u001b[0m\u001b[0m\n",
      "\u001b[0;32m/opt/anaconda3/lib/python3.8/site-packages/matplotlib/backend_bases.py\u001b[0m in \u001b[0;36mprint_figure\u001b[0;34m(self, filename, dpi, facecolor, edgecolor, orientation, format, bbox_inches, pad_inches, bbox_extra_artists, backend, **kwargs)\u001b[0m\n\u001b[1;32m   2191\u001b[0m                            else suppress())\n\u001b[1;32m   2192\u001b[0m                     \u001b[0;32mwith\u001b[0m \u001b[0mctx\u001b[0m\u001b[0;34m:\u001b[0m\u001b[0;34m\u001b[0m\u001b[0;34m\u001b[0m\u001b[0m\n\u001b[0;32m-> 2193\u001b[0;31m                         \u001b[0mself\u001b[0m\u001b[0;34m.\u001b[0m\u001b[0mfigure\u001b[0m\u001b[0;34m.\u001b[0m\u001b[0mdraw\u001b[0m\u001b[0;34m(\u001b[0m\u001b[0mrenderer\u001b[0m\u001b[0;34m)\u001b[0m\u001b[0;34m\u001b[0m\u001b[0;34m\u001b[0m\u001b[0m\n\u001b[0m\u001b[1;32m   2194\u001b[0m \u001b[0;34m\u001b[0m\u001b[0m\n\u001b[1;32m   2195\u001b[0m                     bbox_inches = self.figure.get_tightbbox(\n",
      "\u001b[0;32m/opt/anaconda3/lib/python3.8/site-packages/matplotlib/artist.py\u001b[0m in \u001b[0;36mdraw_wrapper\u001b[0;34m(artist, renderer, *args, **kwargs)\u001b[0m\n\u001b[1;32m     39\u001b[0m                 \u001b[0mrenderer\u001b[0m\u001b[0;34m.\u001b[0m\u001b[0mstart_filter\u001b[0m\u001b[0;34m(\u001b[0m\u001b[0;34m)\u001b[0m\u001b[0;34m\u001b[0m\u001b[0;34m\u001b[0m\u001b[0m\n\u001b[1;32m     40\u001b[0m \u001b[0;34m\u001b[0m\u001b[0m\n\u001b[0;32m---> 41\u001b[0;31m             \u001b[0;32mreturn\u001b[0m \u001b[0mdraw\u001b[0m\u001b[0;34m(\u001b[0m\u001b[0martist\u001b[0m\u001b[0;34m,\u001b[0m \u001b[0mrenderer\u001b[0m\u001b[0;34m,\u001b[0m \u001b[0;34m*\u001b[0m\u001b[0margs\u001b[0m\u001b[0;34m,\u001b[0m \u001b[0;34m**\u001b[0m\u001b[0mkwargs\u001b[0m\u001b[0;34m)\u001b[0m\u001b[0;34m\u001b[0m\u001b[0;34m\u001b[0m\u001b[0m\n\u001b[0m\u001b[1;32m     42\u001b[0m         \u001b[0;32mfinally\u001b[0m\u001b[0;34m:\u001b[0m\u001b[0;34m\u001b[0m\u001b[0;34m\u001b[0m\u001b[0m\n\u001b[1;32m     43\u001b[0m             \u001b[0;32mif\u001b[0m \u001b[0martist\u001b[0m\u001b[0;34m.\u001b[0m\u001b[0mget_agg_filter\u001b[0m\u001b[0;34m(\u001b[0m\u001b[0;34m)\u001b[0m \u001b[0;32mis\u001b[0m \u001b[0;32mnot\u001b[0m \u001b[0;32mNone\u001b[0m\u001b[0;34m:\u001b[0m\u001b[0;34m\u001b[0m\u001b[0;34m\u001b[0m\u001b[0m\n",
      "\u001b[0;32m/opt/anaconda3/lib/python3.8/site-packages/matplotlib/figure.py\u001b[0m in \u001b[0;36mdraw\u001b[0;34m(self, renderer)\u001b[0m\n\u001b[1;32m   1861\u001b[0m \u001b[0;34m\u001b[0m\u001b[0m\n\u001b[1;32m   1862\u001b[0m             \u001b[0mself\u001b[0m\u001b[0;34m.\u001b[0m\u001b[0mpatch\u001b[0m\u001b[0;34m.\u001b[0m\u001b[0mdraw\u001b[0m\u001b[0;34m(\u001b[0m\u001b[0mrenderer\u001b[0m\u001b[0;34m)\u001b[0m\u001b[0;34m\u001b[0m\u001b[0;34m\u001b[0m\u001b[0m\n\u001b[0;32m-> 1863\u001b[0;31m             mimage._draw_list_compositing_images(\n\u001b[0m\u001b[1;32m   1864\u001b[0m                 renderer, self, artists, self.suppressComposite)\n\u001b[1;32m   1865\u001b[0m \u001b[0;34m\u001b[0m\u001b[0m\n",
      "\u001b[0;32m/opt/anaconda3/lib/python3.8/site-packages/matplotlib/image.py\u001b[0m in \u001b[0;36m_draw_list_compositing_images\u001b[0;34m(renderer, parent, artists, suppress_composite)\u001b[0m\n\u001b[1;32m    129\u001b[0m     \u001b[0;32mif\u001b[0m \u001b[0mnot_composite\u001b[0m \u001b[0;32mor\u001b[0m \u001b[0;32mnot\u001b[0m \u001b[0mhas_images\u001b[0m\u001b[0;34m:\u001b[0m\u001b[0;34m\u001b[0m\u001b[0;34m\u001b[0m\u001b[0m\n\u001b[1;32m    130\u001b[0m         \u001b[0;32mfor\u001b[0m \u001b[0ma\u001b[0m \u001b[0;32min\u001b[0m \u001b[0martists\u001b[0m\u001b[0;34m:\u001b[0m\u001b[0;34m\u001b[0m\u001b[0;34m\u001b[0m\u001b[0m\n\u001b[0;32m--> 131\u001b[0;31m             \u001b[0ma\u001b[0m\u001b[0;34m.\u001b[0m\u001b[0mdraw\u001b[0m\u001b[0;34m(\u001b[0m\u001b[0mrenderer\u001b[0m\u001b[0;34m)\u001b[0m\u001b[0;34m\u001b[0m\u001b[0;34m\u001b[0m\u001b[0m\n\u001b[0m\u001b[1;32m    132\u001b[0m     \u001b[0;32melse\u001b[0m\u001b[0;34m:\u001b[0m\u001b[0;34m\u001b[0m\u001b[0;34m\u001b[0m\u001b[0m\n\u001b[1;32m    133\u001b[0m         \u001b[0;31m# Composite any adjacent images together\u001b[0m\u001b[0;34m\u001b[0m\u001b[0;34m\u001b[0m\u001b[0;34m\u001b[0m\u001b[0m\n",
      "\u001b[0;32m/opt/anaconda3/lib/python3.8/site-packages/matplotlib/artist.py\u001b[0m in \u001b[0;36mdraw_wrapper\u001b[0;34m(artist, renderer, *args, **kwargs)\u001b[0m\n\u001b[1;32m     39\u001b[0m                 \u001b[0mrenderer\u001b[0m\u001b[0;34m.\u001b[0m\u001b[0mstart_filter\u001b[0m\u001b[0;34m(\u001b[0m\u001b[0;34m)\u001b[0m\u001b[0;34m\u001b[0m\u001b[0;34m\u001b[0m\u001b[0m\n\u001b[1;32m     40\u001b[0m \u001b[0;34m\u001b[0m\u001b[0m\n\u001b[0;32m---> 41\u001b[0;31m             \u001b[0;32mreturn\u001b[0m \u001b[0mdraw\u001b[0m\u001b[0;34m(\u001b[0m\u001b[0martist\u001b[0m\u001b[0;34m,\u001b[0m \u001b[0mrenderer\u001b[0m\u001b[0;34m,\u001b[0m \u001b[0;34m*\u001b[0m\u001b[0margs\u001b[0m\u001b[0;34m,\u001b[0m \u001b[0;34m**\u001b[0m\u001b[0mkwargs\u001b[0m\u001b[0;34m)\u001b[0m\u001b[0;34m\u001b[0m\u001b[0;34m\u001b[0m\u001b[0m\n\u001b[0m\u001b[1;32m     42\u001b[0m         \u001b[0;32mfinally\u001b[0m\u001b[0;34m:\u001b[0m\u001b[0;34m\u001b[0m\u001b[0;34m\u001b[0m\u001b[0m\n\u001b[1;32m     43\u001b[0m             \u001b[0;32mif\u001b[0m \u001b[0martist\u001b[0m\u001b[0;34m.\u001b[0m\u001b[0mget_agg_filter\u001b[0m\u001b[0;34m(\u001b[0m\u001b[0;34m)\u001b[0m \u001b[0;32mis\u001b[0m \u001b[0;32mnot\u001b[0m \u001b[0;32mNone\u001b[0m\u001b[0;34m:\u001b[0m\u001b[0;34m\u001b[0m\u001b[0;34m\u001b[0m\u001b[0m\n",
      "\u001b[0;32m/opt/anaconda3/lib/python3.8/site-packages/matplotlib/cbook/deprecation.py\u001b[0m in \u001b[0;36mwrapper\u001b[0;34m(*inner_args, **inner_kwargs)\u001b[0m\n\u001b[1;32m    409\u001b[0m                          \u001b[0;32melse\u001b[0m \u001b[0mdeprecation_addendum\u001b[0m\u001b[0;34m,\u001b[0m\u001b[0;34m\u001b[0m\u001b[0;34m\u001b[0m\u001b[0m\n\u001b[1;32m    410\u001b[0m                 **kwargs)\n\u001b[0;32m--> 411\u001b[0;31m         \u001b[0;32mreturn\u001b[0m \u001b[0mfunc\u001b[0m\u001b[0;34m(\u001b[0m\u001b[0;34m*\u001b[0m\u001b[0minner_args\u001b[0m\u001b[0;34m,\u001b[0m \u001b[0;34m**\u001b[0m\u001b[0minner_kwargs\u001b[0m\u001b[0;34m)\u001b[0m\u001b[0;34m\u001b[0m\u001b[0;34m\u001b[0m\u001b[0m\n\u001b[0m\u001b[1;32m    412\u001b[0m \u001b[0;34m\u001b[0m\u001b[0m\n\u001b[1;32m    413\u001b[0m     \u001b[0;32mreturn\u001b[0m \u001b[0mwrapper\u001b[0m\u001b[0;34m\u001b[0m\u001b[0;34m\u001b[0m\u001b[0m\n",
      "\u001b[0;32m/opt/anaconda3/lib/python3.8/site-packages/matplotlib/axes/_base.py\u001b[0m in \u001b[0;36mdraw\u001b[0;34m(self, renderer, inframe)\u001b[0m\n\u001b[1;32m   2745\u001b[0m             \u001b[0mrenderer\u001b[0m\u001b[0;34m.\u001b[0m\u001b[0mstop_rasterizing\u001b[0m\u001b[0;34m(\u001b[0m\u001b[0;34m)\u001b[0m\u001b[0;34m\u001b[0m\u001b[0;34m\u001b[0m\u001b[0m\n\u001b[1;32m   2746\u001b[0m \u001b[0;34m\u001b[0m\u001b[0m\n\u001b[0;32m-> 2747\u001b[0;31m         \u001b[0mmimage\u001b[0m\u001b[0;34m.\u001b[0m\u001b[0m_draw_list_compositing_images\u001b[0m\u001b[0;34m(\u001b[0m\u001b[0mrenderer\u001b[0m\u001b[0;34m,\u001b[0m \u001b[0mself\u001b[0m\u001b[0;34m,\u001b[0m \u001b[0martists\u001b[0m\u001b[0;34m)\u001b[0m\u001b[0;34m\u001b[0m\u001b[0;34m\u001b[0m\u001b[0m\n\u001b[0m\u001b[1;32m   2748\u001b[0m \u001b[0;34m\u001b[0m\u001b[0m\n\u001b[1;32m   2749\u001b[0m         \u001b[0mrenderer\u001b[0m\u001b[0;34m.\u001b[0m\u001b[0mclose_group\u001b[0m\u001b[0;34m(\u001b[0m\u001b[0;34m'axes'\u001b[0m\u001b[0;34m)\u001b[0m\u001b[0;34m\u001b[0m\u001b[0;34m\u001b[0m\u001b[0m\n",
      "\u001b[0;32m/opt/anaconda3/lib/python3.8/site-packages/matplotlib/image.py\u001b[0m in \u001b[0;36m_draw_list_compositing_images\u001b[0;34m(renderer, parent, artists, suppress_composite)\u001b[0m\n\u001b[1;32m    129\u001b[0m     \u001b[0;32mif\u001b[0m \u001b[0mnot_composite\u001b[0m \u001b[0;32mor\u001b[0m \u001b[0;32mnot\u001b[0m \u001b[0mhas_images\u001b[0m\u001b[0;34m:\u001b[0m\u001b[0;34m\u001b[0m\u001b[0;34m\u001b[0m\u001b[0m\n\u001b[1;32m    130\u001b[0m         \u001b[0;32mfor\u001b[0m \u001b[0ma\u001b[0m \u001b[0;32min\u001b[0m \u001b[0martists\u001b[0m\u001b[0;34m:\u001b[0m\u001b[0;34m\u001b[0m\u001b[0;34m\u001b[0m\u001b[0m\n\u001b[0;32m--> 131\u001b[0;31m             \u001b[0ma\u001b[0m\u001b[0;34m.\u001b[0m\u001b[0mdraw\u001b[0m\u001b[0;34m(\u001b[0m\u001b[0mrenderer\u001b[0m\u001b[0;34m)\u001b[0m\u001b[0;34m\u001b[0m\u001b[0;34m\u001b[0m\u001b[0m\n\u001b[0m\u001b[1;32m    132\u001b[0m     \u001b[0;32melse\u001b[0m\u001b[0;34m:\u001b[0m\u001b[0;34m\u001b[0m\u001b[0;34m\u001b[0m\u001b[0m\n\u001b[1;32m    133\u001b[0m         \u001b[0;31m# Composite any adjacent images together\u001b[0m\u001b[0;34m\u001b[0m\u001b[0;34m\u001b[0m\u001b[0;34m\u001b[0m\u001b[0m\n",
      "\u001b[0;32m/opt/anaconda3/lib/python3.8/site-packages/matplotlib/artist.py\u001b[0m in \u001b[0;36mdraw_wrapper\u001b[0;34m(artist, renderer, *args, **kwargs)\u001b[0m\n\u001b[1;32m     39\u001b[0m                 \u001b[0mrenderer\u001b[0m\u001b[0;34m.\u001b[0m\u001b[0mstart_filter\u001b[0m\u001b[0;34m(\u001b[0m\u001b[0;34m)\u001b[0m\u001b[0;34m\u001b[0m\u001b[0;34m\u001b[0m\u001b[0m\n\u001b[1;32m     40\u001b[0m \u001b[0;34m\u001b[0m\u001b[0m\n\u001b[0;32m---> 41\u001b[0;31m             \u001b[0;32mreturn\u001b[0m \u001b[0mdraw\u001b[0m\u001b[0;34m(\u001b[0m\u001b[0martist\u001b[0m\u001b[0;34m,\u001b[0m \u001b[0mrenderer\u001b[0m\u001b[0;34m,\u001b[0m \u001b[0;34m*\u001b[0m\u001b[0margs\u001b[0m\u001b[0;34m,\u001b[0m \u001b[0;34m**\u001b[0m\u001b[0mkwargs\u001b[0m\u001b[0;34m)\u001b[0m\u001b[0;34m\u001b[0m\u001b[0;34m\u001b[0m\u001b[0m\n\u001b[0m\u001b[1;32m     42\u001b[0m         \u001b[0;32mfinally\u001b[0m\u001b[0;34m:\u001b[0m\u001b[0;34m\u001b[0m\u001b[0;34m\u001b[0m\u001b[0m\n\u001b[1;32m     43\u001b[0m             \u001b[0;32mif\u001b[0m \u001b[0martist\u001b[0m\u001b[0;34m.\u001b[0m\u001b[0mget_agg_filter\u001b[0m\u001b[0;34m(\u001b[0m\u001b[0;34m)\u001b[0m \u001b[0;32mis\u001b[0m \u001b[0;32mnot\u001b[0m \u001b[0;32mNone\u001b[0m\u001b[0;34m:\u001b[0m\u001b[0;34m\u001b[0m\u001b[0;34m\u001b[0m\u001b[0m\n",
      "\u001b[0;32m/opt/anaconda3/lib/python3.8/site-packages/matplotlib/lines.py\u001b[0m in \u001b[0;36mdraw\u001b[0;34m(self, renderer)\u001b[0m\n\u001b[1;32m    765\u001b[0m                 \u001b[0mgc\u001b[0m\u001b[0;34m.\u001b[0m\u001b[0mset_url\u001b[0m\u001b[0;34m(\u001b[0m\u001b[0mself\u001b[0m\u001b[0;34m.\u001b[0m\u001b[0mget_url\u001b[0m\u001b[0;34m(\u001b[0m\u001b[0;34m)\u001b[0m\u001b[0;34m)\u001b[0m\u001b[0;34m\u001b[0m\u001b[0;34m\u001b[0m\u001b[0m\n\u001b[1;32m    766\u001b[0m \u001b[0;34m\u001b[0m\u001b[0m\n\u001b[0;32m--> 767\u001b[0;31m                 \u001b[0mlc_rgba\u001b[0m \u001b[0;34m=\u001b[0m \u001b[0mmcolors\u001b[0m\u001b[0;34m.\u001b[0m\u001b[0mto_rgba\u001b[0m\u001b[0;34m(\u001b[0m\u001b[0mself\u001b[0m\u001b[0;34m.\u001b[0m\u001b[0m_color\u001b[0m\u001b[0;34m,\u001b[0m \u001b[0mself\u001b[0m\u001b[0;34m.\u001b[0m\u001b[0m_alpha\u001b[0m\u001b[0;34m)\u001b[0m\u001b[0;34m\u001b[0m\u001b[0;34m\u001b[0m\u001b[0m\n\u001b[0m\u001b[1;32m    768\u001b[0m                 \u001b[0mgc\u001b[0m\u001b[0;34m.\u001b[0m\u001b[0mset_foreground\u001b[0m\u001b[0;34m(\u001b[0m\u001b[0mlc_rgba\u001b[0m\u001b[0;34m,\u001b[0m \u001b[0misRGBA\u001b[0m\u001b[0;34m=\u001b[0m\u001b[0;32mTrue\u001b[0m\u001b[0;34m)\u001b[0m\u001b[0;34m\u001b[0m\u001b[0;34m\u001b[0m\u001b[0m\n\u001b[1;32m    769\u001b[0m \u001b[0;34m\u001b[0m\u001b[0m\n",
      "\u001b[0;32m/opt/anaconda3/lib/python3.8/site-packages/matplotlib/colors.py\u001b[0m in \u001b[0;36mto_rgba\u001b[0;34m(c, alpha)\u001b[0m\n\u001b[1;32m    187\u001b[0m         \u001b[0mrgba\u001b[0m \u001b[0;34m=\u001b[0m \u001b[0;32mNone\u001b[0m\u001b[0;34m\u001b[0m\u001b[0;34m\u001b[0m\u001b[0m\n\u001b[1;32m    188\u001b[0m     \u001b[0;32mif\u001b[0m \u001b[0mrgba\u001b[0m \u001b[0;32mis\u001b[0m \u001b[0;32mNone\u001b[0m\u001b[0;34m:\u001b[0m  \u001b[0;31m# Suppress exception chaining of cache lookup failure.\u001b[0m\u001b[0;34m\u001b[0m\u001b[0;34m\u001b[0m\u001b[0m\n\u001b[0;32m--> 189\u001b[0;31m         \u001b[0mrgba\u001b[0m \u001b[0;34m=\u001b[0m \u001b[0m_to_rgba_no_colorcycle\u001b[0m\u001b[0;34m(\u001b[0m\u001b[0mc\u001b[0m\u001b[0;34m,\u001b[0m \u001b[0malpha\u001b[0m\u001b[0;34m)\u001b[0m\u001b[0;34m\u001b[0m\u001b[0;34m\u001b[0m\u001b[0m\n\u001b[0m\u001b[1;32m    190\u001b[0m         \u001b[0;32mtry\u001b[0m\u001b[0;34m:\u001b[0m\u001b[0;34m\u001b[0m\u001b[0;34m\u001b[0m\u001b[0m\n\u001b[1;32m    191\u001b[0m             \u001b[0m_colors_full_map\u001b[0m\u001b[0;34m.\u001b[0m\u001b[0mcache\u001b[0m\u001b[0;34m[\u001b[0m\u001b[0mc\u001b[0m\u001b[0;34m,\u001b[0m \u001b[0malpha\u001b[0m\u001b[0;34m]\u001b[0m \u001b[0;34m=\u001b[0m \u001b[0mrgba\u001b[0m\u001b[0;34m\u001b[0m\u001b[0;34m\u001b[0m\u001b[0m\n",
      "\u001b[0;32m/opt/anaconda3/lib/python3.8/site-packages/matplotlib/colors.py\u001b[0m in \u001b[0;36m_to_rgba_no_colorcycle\u001b[0;34m(c, alpha)\u001b[0m\n\u001b[1;32m    263\u001b[0m         \u001b[0;32mraise\u001b[0m \u001b[0mValueError\u001b[0m\u001b[0;34m(\u001b[0m\u001b[0;34mf\"Invalid RGBA argument: {orig_c!r}\"\u001b[0m\u001b[0;34m)\u001b[0m\u001b[0;34m\u001b[0m\u001b[0;34m\u001b[0m\u001b[0m\n\u001b[1;32m    264\u001b[0m     \u001b[0;32mif\u001b[0m \u001b[0mlen\u001b[0m\u001b[0;34m(\u001b[0m\u001b[0mc\u001b[0m\u001b[0;34m)\u001b[0m \u001b[0;32mnot\u001b[0m \u001b[0;32min\u001b[0m \u001b[0;34m[\u001b[0m\u001b[0;36m3\u001b[0m\u001b[0;34m,\u001b[0m \u001b[0;36m4\u001b[0m\u001b[0;34m]\u001b[0m\u001b[0;34m:\u001b[0m\u001b[0;34m\u001b[0m\u001b[0;34m\u001b[0m\u001b[0m\n\u001b[0;32m--> 265\u001b[0;31m         \u001b[0;32mraise\u001b[0m \u001b[0mValueError\u001b[0m\u001b[0;34m(\u001b[0m\u001b[0;34m\"RGBA sequence should have length 3 or 4\"\u001b[0m\u001b[0;34m)\u001b[0m\u001b[0;34m\u001b[0m\u001b[0;34m\u001b[0m\u001b[0m\n\u001b[0m\u001b[1;32m    266\u001b[0m     \u001b[0;32mif\u001b[0m \u001b[0;32mnot\u001b[0m \u001b[0mall\u001b[0m\u001b[0;34m(\u001b[0m\u001b[0misinstance\u001b[0m\u001b[0;34m(\u001b[0m\u001b[0mx\u001b[0m\u001b[0;34m,\u001b[0m \u001b[0mNumber\u001b[0m\u001b[0;34m)\u001b[0m \u001b[0;32mfor\u001b[0m \u001b[0mx\u001b[0m \u001b[0;32min\u001b[0m \u001b[0mc\u001b[0m\u001b[0;34m)\u001b[0m\u001b[0;34m:\u001b[0m\u001b[0;34m\u001b[0m\u001b[0;34m\u001b[0m\u001b[0m\n\u001b[1;32m    267\u001b[0m         \u001b[0;31m# Checks that don't work: `map(float, ...)`, `np.array(..., float)` and\u001b[0m\u001b[0;34m\u001b[0m\u001b[0;34m\u001b[0m\u001b[0;34m\u001b[0m\u001b[0m\n",
      "\u001b[0;31mValueError\u001b[0m: RGBA sequence should have length 3 or 4"
     ]
    },
    {
     "data": {
      "text/plain": [
       "<Figure size 432x288 with 1 Axes>"
      ]
     },
     "metadata": {
      "needs_background": "light"
     },
     "output_type": "display_data"
    }
   ],
   "source": [
    "plt.plot(mx_r['longitude'], mx_r['latitude'], c=colors)"
>>>>>>> c40e698759a01f44ebe12fe340556bdae901445a
   ]
  },
  {
   "cell_type": "code",
   "execution_count": null,
   "metadata": {},
   "outputs": [],
   "source": []
  }
 ],
 "metadata": {
  "kernelspec": {
   "display_name": "Python 3",
   "language": "python",
   "name": "python3"
  },
  "language_info": {
   "codemirror_mode": {
    "name": "ipython",
    "version": 3
   },
   "file_extension": ".py",
   "mimetype": "text/x-python",
   "name": "python",
   "nbconvert_exporter": "python",
   "pygments_lexer": "ipython3",
<<<<<<< HEAD
   "version": "3.9.2"
=======
   "version": "3.8.5"
>>>>>>> c40e698759a01f44ebe12fe340556bdae901445a
  }
 },
 "nbformat": 4,
 "nbformat_minor": 4
}
